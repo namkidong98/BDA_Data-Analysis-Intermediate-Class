{
 "cells": [
  {
   "cell_type": "code",
   "execution_count": 1,
   "id": "2c524d92",
   "metadata": {},
   "outputs": [],
   "source": [
    "from sklearn.neighbors import KNeighborsRegressor"
   ]
  },
  {
   "cell_type": "markdown",
   "id": "9c9e0084",
   "metadata": {},
   "source": [
    "### KNN -> K-최근접 이웃 회귀 (K-Nearest Neighbors)"
   ]
  },
  {
   "cell_type": "markdown",
   "id": "6cdfa903",
   "metadata": {},
   "source": [
    "- 거리기반으로 진행한다.\n",
    "- 거리 기반에서 가장 가까운 k개 이웃을 찾고 -> 1,3,5 K개의 정답의 평균을 계산해서 예측\n",
    "- 영화 평점데이터를 예시로 생각하면\n",
    "- 영화가 3개가 있다. 평점 5.0 , 7.0, 9.5 의 등급을 가졌다.\n",
    "- k= 3으로 했을 때 3개의 평균을 계산하면 된다 -> 정답\n",
    "\n",
    "\n",
    "- 단순하게 거리기반으로만 데이터를 나누고 평균을 계산하면 문제가 발생할 수 있다.\n",
    "- 3개라 했는데 영화 3개가 다 같은 거리는 아니다. k=3 3을 잡은 것 뿐이지 3개가 거리가 같지는 않다.\n",
    "- 평균으로 잡게되면 예측 정확도가 떨어질 수 있고 -> 가중치를 잡아서 평점을 예측한다.\n",
    "- 가중평균을 이용해서 거리가 가까울수록 더 데이터가 유사할 것이라고 보고 가중치 부여하는 것 \n",
    "\n",
    "- ex)\n",
    "- A 영화 5.0 / 새로운 값까지 거리가 3.2\n",
    "- B 영화 7.0 / 새로운 값까지 거리가 10.5\n",
    "- C 영화 9.5 / 새로운 값까지 거리가 1.1\n",
    "\n",
    "- 단순하게 평균을 계산하면 7.12 나왔지만"
   ]
  },
  {
   "cell_type": "code",
   "execution_count": 2,
   "id": "2d7ab799",
   "metadata": {},
   "outputs": [
    {
     "data": {
      "text/plain": [
       "7.166666666666667"
      ]
     },
     "execution_count": 2,
     "metadata": {},
     "output_type": "execute_result"
    }
   ],
   "source": [
    "# 새로운 데이터 값의 3개의 기준의 평점이 아래와 같으면 아래의 평균으로 대체한다. \n",
    "(5.0+7.0+9.5)/3"
   ]
  },
  {
   "cell_type": "code",
   "execution_count": 4,
   "id": "6fdf93e6",
   "metadata": {},
   "outputs": [
    {
     "data": {
      "text/plain": [
       "8.25128415861927"
      ]
     },
     "execution_count": 4,
     "metadata": {},
     "output_type": "execute_result"
    }
   ],
   "source": [
    "#가중평균 개념으로 하면 오히려 1.1에 까가운 평점 9.5 영향을 받아서 해당 x값은 더 높게 나온다.\n",
    "(5.0/3.2+7.0/10.5+9.5/1.1) / (1/3.2+1/10.5+1/1.1)"
   ]
  },
  {
   "cell_type": "markdown",
   "id": "b2de5160",
   "metadata": {},
   "source": [
    "### KNN의 한계 \n",
    "- 거리기반이다보니 기존에 학습할 데이터에서 벗어난 범위들은 정확하게 예측하기 어렵다. "
   ]
  },
  {
   "cell_type": "code",
   "execution_count": 6,
   "id": "845d7cb6",
   "metadata": {},
   "outputs": [],
   "source": [
    "import numpy as np\n",
    "x1 = np.arange(1,11)\n",
    "x = x1.reshape(-1,1)\n",
    "y = np.arange(1,11)*5"
   ]
  },
  {
   "cell_type": "code",
   "execution_count": 9,
   "id": "569cf092",
   "metadata": {},
   "outputs": [
    {
     "data": {
      "image/png": "[encoded data removed]",
      "text/plain": [
       "<Figure size 640x480 with 1 Axes>"
      ]
     },
     "metadata": {},
     "output_type": "display_data"
    }
   ],
   "source": [
    "import matplotlib.pyplot as plt\n",
    "plt.figure()\n",
    "plt.scatter(x,y)\n",
    "plt.show()"
   ]
  },
  {
   "cell_type": "code",
   "execution_count": 10,
   "id": "c5c759d5",
   "metadata": {},
   "outputs": [],
   "source": [
    "knn_re =KNeighborsRegressor(n_neighbors = 2).fit(x,y)"
   ]
  },
  {
   "cell_type": "code",
   "execution_count": 12,
   "id": "66eeaf93",
   "metadata": {},
   "outputs": [
    {
     "name": "stdout",
     "output_type": "stream",
     "text": [
      "[32.5]\n"
     ]
    }
   ],
   "source": [
    "print(knn_re.predict([[7]]))"
   ]
  },
  {
   "cell_type": "code",
   "execution_count": 13,
   "id": "1ab49e60",
   "metadata": {},
   "outputs": [
    {
     "data": {
      "text/html": [
       "<style>#sk-container-id-1 {color: black;}#sk-container-id-1 pre{padding: 0;}#sk-container-id-1 div.sk-toggleable {background-color: white;}#sk-container-id-1 label.sk-toggleable__label {cursor: pointer;display: block;width: 100%;margin-bottom: 0;padding: 0.3em;box-sizing: border-box;text-align: center;}#sk-container-id-1 label.sk-toggleable__label-arrow:before {content: \"▸\";float: left;margin-right: 0.25em;color: #696969;}#sk-container-id-1 label.sk-toggleable__label-arrow:hover:before {color: black;}#sk-container-id-1 div.sk-estimator:hover label.sk-toggleable__label-arrow:before {color: black;}#sk-container-id-1 div.sk-toggleable__content {max-height: 0;max-width: 0;overflow: hidden;text-align: left;background-color: #f0f8ff;}#sk-container-id-1 div.sk-toggleable__content pre {margin: 0.2em;color: black;border-radius: 0.25em;background-color: #f0f8ff;}#sk-container-id-1 input.sk-toggleable__control:checked~div.sk-toggleable__content {max-height: 200px;max-width: 100%;overflow: auto;}#sk-container-id-1 input.sk-toggleable__control:checked~label.sk-toggleable__label-arrow:before {content: \"▾\";}#sk-container-id-1 div.sk-estimator input.sk-toggleable__control:checked~label.sk-toggleable__label {background-color: #d4ebff;}#sk-container-id-1 div.sk-label input.sk-toggleable__control:checked~label.sk-toggleable__label {background-color: #d4ebff;}#sk-container-id-1 input.sk-hidden--visually {border: 0;clip: rect(1px 1px 1px 1px);clip: rect(1px, 1px, 1px, 1px);height: 1px;margin: -1px;overflow: hidden;padding: 0;position: absolute;width: 1px;}#sk-container-id-1 div.sk-estimator {font-family: monospace;background-color: #f0f8ff;border: 1px dotted black;border-radius: 0.25em;box-sizing: border-box;margin-bottom: 0.5em;}#sk-container-id-1 div.sk-estimator:hover {background-color: #d4ebff;}#sk-container-id-1 div.sk-parallel-item::after {content: \"\";width: 100%;border-bottom: 1px solid gray;flex-grow: 1;}#sk-container-id-1 div.sk-label:hover label.sk-toggleable__label {background-color: #d4ebff;}#sk-container-id-1 div.sk-serial::before {content: \"\";position: absolute;border-left: 1px solid gray;box-sizing: border-box;top: 0;bottom: 0;left: 50%;z-index: 0;}#sk-container-id-1 div.sk-serial {display: flex;flex-direction: column;align-items: center;background-color: white;padding-right: 0.2em;padding-left: 0.2em;position: relative;}#sk-container-id-1 div.sk-item {position: relative;z-index: 1;}#sk-container-id-1 div.sk-parallel {display: flex;align-items: stretch;justify-content: center;background-color: white;position: relative;}#sk-container-id-1 div.sk-item::before, #sk-container-id-1 div.sk-parallel-item::before {content: \"\";position: absolute;border-left: 1px solid gray;box-sizing: border-box;top: 0;bottom: 0;left: 50%;z-index: -1;}#sk-container-id-1 div.sk-parallel-item {display: flex;flex-direction: column;z-index: 1;position: relative;background-color: white;}#sk-container-id-1 div.sk-parallel-item:first-child::after {align-self: flex-end;width: 50%;}#sk-container-id-1 div.sk-parallel-item:last-child::after {align-self: flex-start;width: 50%;}#sk-container-id-1 div.sk-parallel-item:only-child::after {width: 0;}#sk-container-id-1 div.sk-dashed-wrapped {border: 1px dashed gray;margin: 0 0.4em 0.5em 0.4em;box-sizing: border-box;padding-bottom: 0.4em;background-color: white;}#sk-container-id-1 div.sk-label label {font-family: monospace;font-weight: bold;display: inline-block;line-height: 1.2em;}#sk-container-id-1 div.sk-label-container {text-align: center;}#sk-container-id-1 div.sk-container {/* jupyter's `normalize.less` sets `[hidden] { display: none; }` but bootstrap.min.css set `[hidden] { display: none !important; }` so we also need the `!important` here to be able to override the default hidden behavior on the sphinx rendered scikit-learn.org. See: https://github.com/scikit-learn/scikit-learn/issues/21755 */display: inline-block !important;position: relative;}#sk-container-id-1 div.sk-text-repr-fallback {display: none;}</style><div id=\"sk-container-id-1\" class=\"sk-top-container\"><div class=\"sk-text-repr-fallback\"><pre>KNeighborsRegressor(n_neighbors=2)</pre><b>In a Jupyter environment, please rerun this cell to show the HTML representation or trust the notebook. <br />On GitHub, the HTML representation is unable to render, please try loading this page with nbviewer.org.</b></div><div class=\"sk-container\" hidden><div class=\"sk-item\"><div class=\"sk-estimator sk-toggleable\"><input class=\"sk-toggleable__control sk-hidden--visually\" id=\"sk-estimator-id-1\" type=\"checkbox\" checked><label for=\"sk-estimator-id-1\" class=\"sk-toggleable__label sk-toggleable__label-arrow\">KNeighborsRegressor</label><div class=\"sk-toggleable__content\"><pre>KNeighborsRegressor(n_neighbors=2)</pre></div></div></div></div></div>"
      ],
      "text/plain": [
       "KNeighborsRegressor(n_neighbors=2)"
      ]
     },
     "execution_count": 13,
     "metadata": {},
     "output_type": "execute_result"
    }
   ],
   "source": [
    "knn_re"
   ]
  },
  {
   "cell_type": "markdown",
   "id": "9a6b83cb",
   "metadata": {},
   "source": [
    "- knn의 한계"
   ]
  },
  {
   "cell_type": "code",
   "execution_count": 14,
   "id": "9039e254",
   "metadata": {},
   "outputs": [
    {
     "name": "stdout",
     "output_type": "stream",
     "text": [
      "[47.5]\n"
     ]
    }
   ],
   "source": [
    "print(knn_re.predict([[10]]))"
   ]
  },
  {
   "cell_type": "code",
   "execution_count": 15,
   "id": "67b3a672",
   "metadata": {},
   "outputs": [
    {
     "name": "stdout",
     "output_type": "stream",
     "text": [
      "[47.5]\n"
     ]
    }
   ],
   "source": [
    "print(knn_re.predict([[15]]))"
   ]
  },
  {
   "cell_type": "code",
   "execution_count": 16,
   "id": "d940077e",
   "metadata": {},
   "outputs": [
    {
     "name": "stdout",
     "output_type": "stream",
     "text": [
      "[47.5]\n"
     ]
    }
   ],
   "source": [
    "print(knn_re.predict([[20]]))"
   ]
  },
  {
   "cell_type": "code",
   "execution_count": 17,
   "id": "c2fcab3e",
   "metadata": {},
   "outputs": [
    {
     "name": "stdout",
     "output_type": "stream",
     "text": [
      "[47.5]\n"
     ]
    }
   ],
   "source": [
    "print(knn_re.predict([[100]]))"
   ]
  },
  {
   "cell_type": "markdown",
   "id": "4461ebcb",
   "metadata": {},
   "source": [
    "### KNN - 파라미터들 정리하기!\n",
    "- n_neighbors = 이웃의 개수\n",
    "- weight 가중평균 개념 uniform, distance 거리기반의 가중치를 둘 것인가 아닌가 - uniform 디폴트\n",
    "- algorithm - ball_tree, kd_tree, brute (거리 기반이고 차원이 많아지면 데이터를 탐색하는 시간이 오래 걸린다.) 해당 데이터를 탐색하는 방법에 대해서 어떤 식으로 할 것인가? ( left_size 트리구조로 데이터를 찾아보니 -> 최소한 몇 개의 가지치기 개념으로 찾을 것인가 ) \n",
    "- 연산에 대한 기준을 나눠서 효율적으로 탐색하기 위한 방법\n",
    "- metrics  디폴트 = 민코프스키 유클리디안거리니깐 p =2 , \n",
    "- 민코프스키거리 -  p = 1 맨하탄, p=2 유클리디안, p =3 체비쇼프 거리 기반으로 \n",
    "- n_jobs - 사용할 cpu 개수 -1 디폴트 넣고 "
   ]
  },
  {
   "cell_type": "markdown",
   "id": "32d234da",
   "metadata": {},
   "source": [
    "- 거리기반이다보니 가중평균이 중요하다는 것을 말씀드렸고 이 부분이 시각적으로 잘 표현된 코드가 있다."
   ]
  },
  {
   "cell_type": "code",
   "execution_count": 19,
   "id": "9a3ff651",
   "metadata": {},
   "outputs": [],
   "source": [
    "import numpy as np\n",
    "import matplotlib.pyplot as plt\n",
    "from sklearn import neighbors\n",
    "\n",
    "np.random.seed(0)\n",
    "X = np.sort(5 * np.random.rand(40, 1), axis=0)\n",
    "T = np.linspace(0, 5, 500)[:, np.newaxis]\n",
    "y = np.sin(X).ravel()\n",
    "\n",
    "# Add noise to targets\n",
    "y[::5] += 1 * (0.5 - np.random.rand(8))"
   ]
  },
  {
   "cell_type": "code",
   "execution_count": 20,
   "id": "13a01e73",
   "metadata": {},
   "outputs": [
    {
     "data": {
      "image/png": "[encoded data removed]",
      "text/plain": [
       "<Figure size 640x480 with 2 Axes>"
      ]
     },
     "metadata": {},
     "output_type": "display_data"
    }
   ],
   "source": [
    "n_neighbors = 5\n",
    "\n",
    "for i, weights in enumerate([\"uniform\", \"distance\"]):\n",
    "    knn = neighbors.KNeighborsRegressor(n_neighbors, weights=weights)\n",
    "    y_ = knn.fit(X, y).predict(T)\n",
    "\n",
    "    plt.subplot(2, 1, i + 1)\n",
    "    plt.scatter(X, y, color=\"darkorange\", label=\"data\")\n",
    "    plt.plot(T, y_, color=\"navy\", label=\"prediction\")\n",
    "    plt.axis(\"tight\")\n",
    "    plt.legend()\n",
    "    plt.title(\"KNeighborsRegressor (k = %i, weights = '%s')\" % (n_neighbors, weights))\n",
    "\n",
    "plt.tight_layout()\n",
    "plt.show()"
   ]
  },
  {
   "cell_type": "markdown",
   "id": "fd9f747b",
   "metadata": {},
   "source": [
    "### 캘리포니아 집값 데이터로 KNN-이웃회귀 진행해 보자!"
   ]
  },
  {
   "cell_type": "code",
   "execution_count": 27,
   "id": "ffbc6707",
   "metadata": {},
   "outputs": [
    {
     "data": {
      "text/html": [
       "<div>\n",
       "<style scoped>\n",
       "    .dataframe tbody tr th:only-of-type {\n",
       "        vertical-align: middle;\n",
       "    }\n",
       "\n",
       "    .dataframe tbody tr th {\n",
       "        vertical-align: top;\n",
       "    }\n",
       "\n",
       "    .dataframe thead th {\n",
       "        text-align: right;\n",
       "    }\n",
       "</style>\n",
       "<table border=\"1\" class=\"dataframe\">\n",
       "  <thead>\n",
       "    <tr style=\"text-align: right;\">\n",
       "      <th></th>\n",
       "      <th>MedInc</th>\n",
       "      <th>HouseAge</th>\n",
       "      <th>AveRooms</th>\n",
       "      <th>AveBedrms</th>\n",
       "      <th>Population</th>\n",
       "      <th>AveOccup</th>\n",
       "      <th>Latitude</th>\n",
       "      <th>Longitude</th>\n",
       "      <th>target</th>\n",
       "    </tr>\n",
       "  </thead>\n",
       "  <tbody>\n",
       "    <tr>\n",
       "      <th>0</th>\n",
       "      <td>8.3252</td>\n",
       "      <td>41.0</td>\n",
       "      <td>6.984127</td>\n",
       "      <td>1.023810</td>\n",
       "      <td>322.0</td>\n",
       "      <td>2.555556</td>\n",
       "      <td>37.88</td>\n",
       "      <td>-122.23</td>\n",
       "      <td>4.526</td>\n",
       "    </tr>\n",
       "    <tr>\n",
       "      <th>1</th>\n",
       "      <td>8.3014</td>\n",
       "      <td>21.0</td>\n",
       "      <td>6.238137</td>\n",
       "      <td>0.971880</td>\n",
       "      <td>2401.0</td>\n",
       "      <td>2.109842</td>\n",
       "      <td>37.86</td>\n",
       "      <td>-122.22</td>\n",
       "      <td>3.585</td>\n",
       "    </tr>\n",
       "    <tr>\n",
       "      <th>2</th>\n",
       "      <td>7.2574</td>\n",
       "      <td>52.0</td>\n",
       "      <td>8.288136</td>\n",
       "      <td>1.073446</td>\n",
       "      <td>496.0</td>\n",
       "      <td>2.802260</td>\n",
       "      <td>37.85</td>\n",
       "      <td>-122.24</td>\n",
       "      <td>3.521</td>\n",
       "    </tr>\n",
       "    <tr>\n",
       "      <th>3</th>\n",
       "      <td>5.6431</td>\n",
       "      <td>52.0</td>\n",
       "      <td>5.817352</td>\n",
       "      <td>1.073059</td>\n",
       "      <td>558.0</td>\n",
       "      <td>2.547945</td>\n",
       "      <td>37.85</td>\n",
       "      <td>-122.25</td>\n",
       "      <td>3.413</td>\n",
       "    </tr>\n",
       "    <tr>\n",
       "      <th>4</th>\n",
       "      <td>3.8462</td>\n",
       "      <td>52.0</td>\n",
       "      <td>6.281853</td>\n",
       "      <td>1.081081</td>\n",
       "      <td>565.0</td>\n",
       "      <td>2.181467</td>\n",
       "      <td>37.85</td>\n",
       "      <td>-122.25</td>\n",
       "      <td>3.422</td>\n",
       "    </tr>\n",
       "  </tbody>\n",
       "</table>\n",
       "</div>"
      ],
      "text/plain": [
       "   MedInc  HouseAge  AveRooms  AveBedrms  Population  AveOccup  Latitude   \n",
       "0  8.3252      41.0  6.984127   1.023810       322.0  2.555556     37.88  \\\n",
       "1  8.3014      21.0  6.238137   0.971880      2401.0  2.109842     37.86   \n",
       "2  7.2574      52.0  8.288136   1.073446       496.0  2.802260     37.85   \n",
       "3  5.6431      52.0  5.817352   1.073059       558.0  2.547945     37.85   \n",
       "4  3.8462      52.0  6.281853   1.081081       565.0  2.181467     37.85   \n",
       "\n",
       "   Longitude  target  \n",
       "0    -122.23   4.526  \n",
       "1    -122.22   3.585  \n",
       "2    -122.24   3.521  \n",
       "3    -122.25   3.413  \n",
       "4    -122.25   3.422  "
      ]
     },
     "execution_count": 27,
     "metadata": {},
     "output_type": "execute_result"
    }
   ],
   "source": [
    "import numpy as np\n",
    "import pandas as pd\n",
    "from sklearn import datasets\n",
    "from sklearn.metrics import mean_squared_error\n",
    "from math import sqrt\n",
    "from sklearn.model_selection import train_test_split\n",
    "dataset = datasets.fetch_california_housing()\n",
    "df = pd.DataFrame(dataset.data, columns=dataset.feature_names)\n",
    "df['target'] = dataset.target\n",
    "df.head()"
   ]
  },
  {
   "cell_type": "code",
   "execution_count": 28,
   "id": "914bdbde",
   "metadata": {},
   "outputs": [],
   "source": [
    "data = df[['MedInc','HouseAge']]\n",
    "target = df['target']"
   ]
  },
  {
   "cell_type": "code",
   "execution_count": 29,
   "id": "e615b3fd",
   "metadata": {},
   "outputs": [],
   "source": [
    "x_train, x_test, y_train, y_test = train_test_split(data, target, test_size=0.3, random_state=111)"
   ]
  },
  {
   "cell_type": "code",
   "execution_count": 31,
   "id": "96ed079a",
   "metadata": {},
   "outputs": [],
   "source": [
    "from sklearn import neighbors "
   ]
  },
  {
   "cell_type": "markdown",
   "id": "c022b170",
   "metadata": {},
   "source": [
    "### n 을 조절해 보면서 어떤식으로 변화하는 체크해 보자!"
   ]
  },
  {
   "cell_type": "code",
   "execution_count": 37,
   "id": "b69e7dfa",
   "metadata": {},
   "outputs": [
    {
     "data": {
      "text/html": [
       "<div>\n",
       "<style scoped>\n",
       "    .dataframe tbody tr th:only-of-type {\n",
       "        vertical-align: middle;\n",
       "    }\n",
       "\n",
       "    .dataframe tbody tr th {\n",
       "        vertical-align: top;\n",
       "    }\n",
       "\n",
       "    .dataframe thead th {\n",
       "        text-align: right;\n",
       "    }\n",
       "</style>\n",
       "<table border=\"1\" class=\"dataframe\">\n",
       "  <thead>\n",
       "    <tr style=\"text-align: right;\">\n",
       "      <th></th>\n",
       "      <th>MedInc</th>\n",
       "      <th>HouseAge</th>\n",
       "      <th>AveRooms</th>\n",
       "      <th>AveBedrms</th>\n",
       "      <th>Population</th>\n",
       "      <th>AveOccup</th>\n",
       "      <th>Latitude</th>\n",
       "      <th>Longitude</th>\n",
       "      <th>target</th>\n",
       "    </tr>\n",
       "  </thead>\n",
       "  <tbody>\n",
       "    <tr>\n",
       "      <th>0</th>\n",
       "      <td>8.3252</td>\n",
       "      <td>41.0</td>\n",
       "      <td>6.984127</td>\n",
       "      <td>1.023810</td>\n",
       "      <td>322.0</td>\n",
       "      <td>2.555556</td>\n",
       "      <td>37.88</td>\n",
       "      <td>-122.23</td>\n",
       "      <td>4.526</td>\n",
       "    </tr>\n",
       "    <tr>\n",
       "      <th>1</th>\n",
       "      <td>8.3014</td>\n",
       "      <td>21.0</td>\n",
       "      <td>6.238137</td>\n",
       "      <td>0.971880</td>\n",
       "      <td>2401.0</td>\n",
       "      <td>2.109842</td>\n",
       "      <td>37.86</td>\n",
       "      <td>-122.22</td>\n",
       "      <td>3.585</td>\n",
       "    </tr>\n",
       "    <tr>\n",
       "      <th>2</th>\n",
       "      <td>7.2574</td>\n",
       "      <td>52.0</td>\n",
       "      <td>8.288136</td>\n",
       "      <td>1.073446</td>\n",
       "      <td>496.0</td>\n",
       "      <td>2.802260</td>\n",
       "      <td>37.85</td>\n",
       "      <td>-122.24</td>\n",
       "      <td>3.521</td>\n",
       "    </tr>\n",
       "    <tr>\n",
       "      <th>3</th>\n",
       "      <td>5.6431</td>\n",
       "      <td>52.0</td>\n",
       "      <td>5.817352</td>\n",
       "      <td>1.073059</td>\n",
       "      <td>558.0</td>\n",
       "      <td>2.547945</td>\n",
       "      <td>37.85</td>\n",
       "      <td>-122.25</td>\n",
       "      <td>3.413</td>\n",
       "    </tr>\n",
       "    <tr>\n",
       "      <th>4</th>\n",
       "      <td>3.8462</td>\n",
       "      <td>52.0</td>\n",
       "      <td>6.281853</td>\n",
       "      <td>1.081081</td>\n",
       "      <td>565.0</td>\n",
       "      <td>2.181467</td>\n",
       "      <td>37.85</td>\n",
       "      <td>-122.25</td>\n",
       "      <td>3.422</td>\n",
       "    </tr>\n",
       "    <tr>\n",
       "      <th>...</th>\n",
       "      <td>...</td>\n",
       "      <td>...</td>\n",
       "      <td>...</td>\n",
       "      <td>...</td>\n",
       "      <td>...</td>\n",
       "      <td>...</td>\n",
       "      <td>...</td>\n",
       "      <td>...</td>\n",
       "      <td>...</td>\n",
       "    </tr>\n",
       "    <tr>\n",
       "      <th>20635</th>\n",
       "      <td>1.5603</td>\n",
       "      <td>25.0</td>\n",
       "      <td>5.045455</td>\n",
       "      <td>1.133333</td>\n",
       "      <td>845.0</td>\n",
       "      <td>2.560606</td>\n",
       "      <td>39.48</td>\n",
       "      <td>-121.09</td>\n",
       "      <td>0.781</td>\n",
       "    </tr>\n",
       "    <tr>\n",
       "      <th>20636</th>\n",
       "      <td>2.5568</td>\n",
       "      <td>18.0</td>\n",
       "      <td>6.114035</td>\n",
       "      <td>1.315789</td>\n",
       "      <td>356.0</td>\n",
       "      <td>3.122807</td>\n",
       "      <td>39.49</td>\n",
       "      <td>-121.21</td>\n",
       "      <td>0.771</td>\n",
       "    </tr>\n",
       "    <tr>\n",
       "      <th>20637</th>\n",
       "      <td>1.7000</td>\n",
       "      <td>17.0</td>\n",
       "      <td>5.205543</td>\n",
       "      <td>1.120092</td>\n",
       "      <td>1007.0</td>\n",
       "      <td>2.325635</td>\n",
       "      <td>39.43</td>\n",
       "      <td>-121.22</td>\n",
       "      <td>0.923</td>\n",
       "    </tr>\n",
       "    <tr>\n",
       "      <th>20638</th>\n",
       "      <td>1.8672</td>\n",
       "      <td>18.0</td>\n",
       "      <td>5.329513</td>\n",
       "      <td>1.171920</td>\n",
       "      <td>741.0</td>\n",
       "      <td>2.123209</td>\n",
       "      <td>39.43</td>\n",
       "      <td>-121.32</td>\n",
       "      <td>0.847</td>\n",
       "    </tr>\n",
       "    <tr>\n",
       "      <th>20639</th>\n",
       "      <td>2.3886</td>\n",
       "      <td>16.0</td>\n",
       "      <td>5.254717</td>\n",
       "      <td>1.162264</td>\n",
       "      <td>1387.0</td>\n",
       "      <td>2.616981</td>\n",
       "      <td>39.37</td>\n",
       "      <td>-121.24</td>\n",
       "      <td>0.894</td>\n",
       "    </tr>\n",
       "  </tbody>\n",
       "</table>\n",
       "<p>20640 rows × 9 columns</p>\n",
       "</div>"
      ],
      "text/plain": [
       "       MedInc  HouseAge  AveRooms  AveBedrms  Population  AveOccup  Latitude   \n",
       "0      8.3252      41.0  6.984127   1.023810       322.0  2.555556     37.88  \\\n",
       "1      8.3014      21.0  6.238137   0.971880      2401.0  2.109842     37.86   \n",
       "2      7.2574      52.0  8.288136   1.073446       496.0  2.802260     37.85   \n",
       "3      5.6431      52.0  5.817352   1.073059       558.0  2.547945     37.85   \n",
       "4      3.8462      52.0  6.281853   1.081081       565.0  2.181467     37.85   \n",
       "...       ...       ...       ...        ...         ...       ...       ...   \n",
       "20635  1.5603      25.0  5.045455   1.133333       845.0  2.560606     39.48   \n",
       "20636  2.5568      18.0  6.114035   1.315789       356.0  3.122807     39.49   \n",
       "20637  1.7000      17.0  5.205543   1.120092      1007.0  2.325635     39.43   \n",
       "20638  1.8672      18.0  5.329513   1.171920       741.0  2.123209     39.43   \n",
       "20639  2.3886      16.0  5.254717   1.162264      1387.0  2.616981     39.37   \n",
       "\n",
       "       Longitude  target  \n",
       "0        -122.23   4.526  \n",
       "1        -122.22   3.585  \n",
       "2        -122.24   3.521  \n",
       "3        -122.25   3.413  \n",
       "4        -122.25   3.422  \n",
       "...          ...     ...  \n",
       "20635    -121.09   0.781  \n",
       "20636    -121.21   0.771  \n",
       "20637    -121.22   0.923  \n",
       "20638    -121.32   0.847  \n",
       "20639    -121.24   0.894  \n",
       "\n",
       "[20640 rows x 9 columns]"
      ]
     },
     "execution_count": 37,
     "metadata": {},
     "output_type": "execute_result"
    }
   ],
   "source": [
    "df"
   ]
  },
  {
   "cell_type": "code",
   "execution_count": 48,
   "id": "b5aa02bf",
   "metadata": {
    "scrolled": true
   },
   "outputs": [
    {
     "name": "stdout",
     "output_type": "stream",
     "text": [
      "Rmse  1 = 1.0959311880303921\n",
      "Rmse  2 = 0.9475129957997873\n",
      "Rmse  3 = 0.8874965965579422\n",
      "Rmse  4 = 0.8638927087946467\n",
      "Rmse  5 = 0.8435805606254462\n",
      "Rmse  6 = 0.8368660220570638\n",
      "Rmse  7 = 0.828524749748181\n",
      "Rmse  8 = 0.823152095839351\n",
      "Rmse  9 = 0.8200094939644422\n",
      "Rmse  10 = 0.8179826274135966\n",
      "Rmse  11 = 0.8165455966668905\n",
      "Rmse  12 = 0.813507522785317\n",
      "Rmse  13 = 0.8119582732276533\n",
      "Rmse  14 = 0.8092069646962123\n",
      "Rmse  15 = 0.80897107235346\n",
      "Rmse  16 = 0.8061676802129464\n",
      "Rmse  17 = 0.805028219982111\n",
      "Rmse  18 = 0.8031504827404409\n",
      "Rmse  19 = 0.8021295586391808\n",
      "Rmse  20 = 0.8010114409583255\n",
      "Rmse  21 = 0.8008901582095421\n",
      "Rmse  22 = 0.8001235355333389\n",
      "Rmse  23 = 0.7998128965624693\n",
      "Rmse  24 = 0.7992810931946458\n",
      "Rmse  25 = 0.798804237299439\n",
      "Rmse  26 = 0.798346894894349\n",
      "Rmse  27 = 0.7966685652090113\n",
      "Rmse  28 = 0.7966829589477498\n",
      "Rmse  29 = 0.7962788723103374\n",
      "Rmse  30 = 0.7961587320463572\n",
      "Rmse  31 = 0.7953212706640512\n",
      "Rmse  32 = 0.7951576672372942\n",
      "Rmse  33 = 0.7947609225242169\n",
      "Rmse  34 = 0.79446344008667\n",
      "Rmse  35 = 0.7950429937980877\n",
      "Rmse  36 = 0.7949274836752414\n",
      "Rmse  37 = 0.7940896343765362\n",
      "Rmse  38 = 0.7933172170482529\n",
      "Rmse  39 = 0.7934697494864509\n",
      "Rmse  40 = 0.7932066890763443\n",
      "Rmse  41 = 0.792787513309163\n",
      "Rmse  42 = 0.7923599203039203\n",
      "Rmse  43 = 0.792002587169848\n",
      "Rmse  44 = 0.7919932491451109\n",
      "Rmse  45 = 0.7917174281096002\n",
      "Rmse  46 = 0.7917141685096143\n",
      "Rmse  47 = 0.7920239099169107\n",
      "Rmse  48 = 0.7918903156207451\n",
      "Rmse  49 = 0.7915799229869485\n",
      "Rmse  50 = 0.7916190466664069\n",
      "Rmse  51 = 0.7915747812404403\n",
      "Rmse  52 = 0.7921352898765031\n",
      "Rmse  53 = 0.7921970326526889\n",
      "Rmse  54 = 0.7921538912614366\n",
      "Rmse  55 = 0.7918935368306889\n",
      "Rmse  56 = 0.7919402218854085\n",
      "Rmse  57 = 0.791889315088391\n",
      "Rmse  58 = 0.7919384395822785\n",
      "Rmse  59 = 0.791903713917118\n",
      "Rmse  60 = 0.7921070094310837\n",
      "Rmse  61 = 0.7922625713555834\n",
      "Rmse  62 = 0.7923426046884067\n",
      "Rmse  63 = 0.7922445861500775\n",
      "Rmse  64 = 0.7923555718369376\n",
      "Rmse  65 = 0.7920469684747665\n",
      "Rmse  66 = 0.7922459154035109\n",
      "Rmse  67 = 0.7922116535922296\n",
      "Rmse  68 = 0.7921917372613275\n",
      "Rmse  69 = 0.792306872985153\n",
      "Rmse  70 = 0.7922665488400554\n",
      "Rmse  71 = 0.7922429724249785\n",
      "Rmse  72 = 0.7923428167572775\n",
      "Rmse  73 = 0.7925828338789491\n",
      "Rmse  74 = 0.7925910798384257\n",
      "Rmse  75 = 0.7929113007686062\n",
      "Rmse  76 = 0.7930497012681206\n",
      "Rmse  77 = 0.7930699744092665\n",
      "Rmse  78 = 0.7931834969051814\n",
      "Rmse  79 = 0.7934956155413359\n",
      "Rmse  80 = 0.7933249773772436\n",
      "Rmse  81 = 0.7934834708136036\n",
      "Rmse  82 = 0.793682401696973\n",
      "Rmse  83 = 0.7935757515890132\n",
      "Rmse  84 = 0.7938201693463109\n",
      "Rmse  85 = 0.7938715822656656\n",
      "Rmse  86 = 0.7939537961544135\n",
      "Rmse  87 = 0.7941913852769916\n",
      "Rmse  88 = 0.7940641055381535\n",
      "Rmse  89 = 0.7943585868000257\n",
      "Rmse  90 = 0.7943529103529993\n",
      "Rmse  91 = 0.7943703521607339\n",
      "Rmse  92 = 0.7944643886340198\n",
      "Rmse  93 = 0.7944344355660495\n",
      "Rmse  94 = 0.7946683060223332\n",
      "Rmse  95 = 0.7946252896840722\n",
      "Rmse  96 = 0.7948315807974886\n",
      "Rmse  97 = 0.7949678064553994\n",
      "Rmse  98 = 0.7948584877480217\n",
      "Rmse  99 = 0.7950484324143189\n",
      "Rmse  100 = 0.7950799011005565\n",
      "Rmse  101 = 0.7953638193501196\n",
      "Rmse  102 = 0.7954574719368709\n",
      "Rmse  103 = 0.7955549253692736\n",
      "Rmse  104 = 0.7957616327986279\n",
      "Rmse  105 = 0.7958822225579641\n",
      "Rmse  106 = 0.7958749979433178\n",
      "Rmse  107 = 0.7959850823211461\n",
      "Rmse  108 = 0.7959464770816812\n",
      "Rmse  109 = 0.7958849711114078\n",
      "Rmse  110 = 0.795857561742534\n",
      "Rmse  111 = 0.7960691817918685\n",
      "Rmse  112 = 0.7961786659129176\n",
      "Rmse  113 = 0.7965737341619664\n",
      "Rmse  114 = 0.7965883500051412\n",
      "Rmse  115 = 0.796814315610348\n",
      "Rmse  116 = 0.7969444137425983\n",
      "Rmse  117 = 0.7970856305974798\n",
      "Rmse  118 = 0.7974525674564786\n",
      "Rmse  119 = 0.7974423999746129\n",
      "Rmse  120 = 0.7975829653623211\n",
      "Rmse  121 = 0.7977278392950071\n",
      "Rmse  122 = 0.797837416848545\n",
      "Rmse  123 = 0.7978587694079327\n",
      "Rmse  124 = 0.7979778861254131\n",
      "Rmse  125 = 0.7980867845967118\n",
      "Rmse  126 = 0.7982306755869607\n",
      "Rmse  127 = 0.7983846949437217\n",
      "Rmse  128 = 0.7985306423364241\n",
      "Rmse  129 = 0.7985260824862327\n",
      "Rmse  130 = 0.7986659754596412\n",
      "Rmse  131 = 0.798794205067976\n",
      "Rmse  132 = 0.7988661664890623\n",
      "Rmse  133 = 0.7988773047372731\n",
      "Rmse  134 = 0.7990279125306525\n",
      "Rmse  135 = 0.7992938254437119\n",
      "Rmse  136 = 0.7994612731828612\n",
      "Rmse  137 = 0.7996206600164097\n",
      "Rmse  138 = 0.7998783342437337\n",
      "Rmse  139 = 0.7999180680142802\n",
      "Rmse  140 = 0.7999743488059586\n",
      "Rmse  141 = 0.8001758893076061\n",
      "Rmse  142 = 0.8005420095128707\n",
      "Rmse  143 = 0.8007280059999202\n",
      "Rmse  144 = 0.8007152276383251\n",
      "Rmse  145 = 0.8009054863025703\n",
      "Rmse  146 = 0.8011584111394876\n",
      "Rmse  147 = 0.8013705111601747\n",
      "Rmse  148 = 0.8012697681556266\n",
      "Rmse  149 = 0.8013506848897569\n",
      "Rmse  150 = 0.8014932912568221\n",
      "0.7915747812404403\n"
     ]
    }
   ],
   "source": [
    "rmse_val = []\n",
    "for K in range(150):\n",
    "    K = K+1\n",
    "    model = neighbors.KNeighborsRegressor(n_neighbors = K)\n",
    "    model.fit(x_train, y_train)\n",
    "    pred = model.predict(x_test)\n",
    "    error = sqrt(mean_squared_error(y_test, pred))\n",
    "    rmse_val.append(error)\n",
    "    print('Rmse ',K,'=',error)\n",
    "print(min(rmse_val))"
   ]
  },
  {
   "cell_type": "markdown",
   "id": "a4382a65",
   "metadata": {},
   "source": [
    "- 이웃을 150개 이상잡고 숫자가 계속 커지면 -> 평균으로 회귀하는 것 평균에 대해서 결국 값을 대체하게 되는 것이니 전체 평균으로 점점 가지고 가게 되는 것"
   ]
  },
  {
   "cell_type": "code",
   "execution_count": 43,
   "id": "f96e986b",
   "metadata": {},
   "outputs": [
    {
     "data": {
      "text/plain": [
       "<Axes: >"
      ]
     },
     "execution_count": 43,
     "metadata": {},
     "output_type": "execute_result"
    },
    {
     "data": {
      "image/png": "[encoded data removed]",
      "text/plain": [
       "<Figure size 640x480 with 1 Axes>"
      ]
     },
     "metadata": {},
     "output_type": "display_data"
    }
   ],
   "source": [
    "curve1 = pd.DataFrame(rmse_val)\n",
    "curve1.plot()"
   ]
  },
  {
   "cell_type": "code",
   "execution_count": 44,
   "id": "4b0d5dff",
   "metadata": {
    "scrolled": true
   },
   "outputs": [
    {
     "name": "stdout",
     "output_type": "stream",
     "text": [
      "Rmse  1 = 1.0959311880303921\n",
      "Rmse  2 = 0.9898627352927131\n",
      "Rmse  3 = 0.9480614287043372\n",
      "Rmse  4 = 0.9292553833713344\n",
      "Rmse  5 = 0.9152799916475833\n",
      "Rmse  6 = 0.9073112168522246\n",
      "Rmse  7 = 0.9000019198861765\n",
      "Rmse  8 = 0.8951641921788168\n",
      "Rmse  9 = 0.8917761730534691\n",
      "Rmse  10 = 0.8886663145472018\n",
      "Rmse  11 = 0.8859289328793432\n",
      "Rmse  12 = 0.8833026816587765\n",
      "Rmse  13 = 0.8813643826642595\n",
      "Rmse  14 = 0.8791372616774631\n",
      "Rmse  15 = 0.8777947557846131\n",
      "Rmse  16 = 0.8758294146889891\n",
      "Rmse  17 = 0.8743937603112951\n",
      "Rmse  18 = 0.8730151367340743\n",
      "Rmse  19 = 0.8718719277455077\n",
      "Rmse  20 = 0.8708639730084943\n",
      "Rmse  21 = 0.8700793244163494\n",
      "Rmse  22 = 0.8691397535911949\n",
      "Rmse  23 = 0.8684008621232877\n",
      "Rmse  24 = 0.8676655782872276\n",
      "Rmse  25 = 0.8668392967717065\n",
      "Rmse  26 = 0.8661056537963298\n",
      "Rmse  27 = 0.8650843600458642\n",
      "Rmse  28 = 0.8645607422188962\n",
      "Rmse  29 = 0.8638823864386243\n",
      "Rmse  30 = 0.8632693133328503\n",
      "Rmse  31 = 0.8626549875727465\n",
      "Rmse  32 = 0.8621203629152574\n",
      "Rmse  33 = 0.8615681322002836\n",
      "Rmse  34 = 0.8610937982479918\n",
      "Rmse  35 = 0.8607518133043367\n",
      "Rmse  36 = 0.8603985556263488\n",
      "Rmse  37 = 0.8597993231553543\n",
      "Rmse  38 = 0.8592981869299583\n",
      "Rmse  39 = 0.8589922574202452\n",
      "Rmse  40 = 0.8586698609194638\n",
      "Rmse  41 = 0.8582209474670516\n",
      "Rmse  42 = 0.8578610001404655\n",
      "Rmse  43 = 0.8574389981489913\n",
      "Rmse  44 = 0.8571348710818286\n",
      "Rmse  45 = 0.8567983755256618\n",
      "Rmse  46 = 0.8565425122011558\n",
      "Rmse  47 = 0.8563375375779603\n",
      "Rmse  48 = 0.8560523607525721\n",
      "Rmse  49 = 0.8557683345078374\n",
      "Rmse  50 = 0.8554877429054429\n",
      "Rmse  51 = 0.8552816216638693\n",
      "Rmse  52 = 0.8551125007237049\n",
      "Rmse  53 = 0.8549101881034371\n",
      "Rmse  54 = 0.854699606108426\n",
      "Rmse  55 = 0.8544415791702119\n",
      "Rmse  56 = 0.8542297246949441\n",
      "Rmse  57 = 0.8540311067759624\n",
      "Rmse  58 = 0.8538704345214736\n",
      "Rmse  59 = 0.8536466819612107\n",
      "Rmse  60 = 0.853454514904995\n",
      "Rmse  61 = 0.8533072410923993\n",
      "Rmse  62 = 0.8531421305107232\n",
      "Rmse  63 = 0.8529915503869467\n",
      "Rmse  64 = 0.852822554453147\n",
      "Rmse  65 = 0.8526038750964077\n",
      "Rmse  66 = 0.8524532192831157\n",
      "Rmse  67 = 0.8523324528514121\n",
      "Rmse  68 = 0.8521897477822297\n",
      "Rmse  69 = 0.8521095495659656\n",
      "Rmse  70 = 0.8519332439803672\n",
      "Rmse  71 = 0.8517823610611591\n",
      "Rmse  72 = 0.8516946378747076\n",
      "Rmse  73 = 0.8516068962717624\n",
      "Rmse  74 = 0.8514486353210865\n",
      "Rmse  75 = 0.8513939486560337\n",
      "Rmse  76 = 0.851308609643652\n",
      "Rmse  77 = 0.8511820844731076\n",
      "Rmse  78 = 0.8510750954948844\n",
      "Rmse  79 = 0.8510057965295041\n",
      "Rmse  80 = 0.8508509341614474\n",
      "Rmse  81 = 0.8507815616824362\n",
      "Rmse  82 = 0.8506956971590595\n",
      "Rmse  83 = 0.8505741332711368\n",
      "Rmse  84 = 0.850505129521565\n",
      "Rmse  85 = 0.8504061884089765\n",
      "Rmse  86 = 0.8503579503161292\n",
      "Rmse  87 = 0.8503043618141659\n",
      "Rmse  88 = 0.8502013076360214\n",
      "Rmse  89 = 0.8501922650862377\n",
      "Rmse  90 = 0.8500975374025367\n",
      "Rmse  91 = 0.8500301387006116\n",
      "Rmse  92 = 0.8499814868756825\n",
      "Rmse  93 = 0.8499096800129619\n",
      "Rmse  94 = 0.8498810795077782\n",
      "Rmse  95 = 0.8497890525586114\n",
      "Rmse  96 = 0.849751306140704\n",
      "Rmse  97 = 0.849687803072351\n",
      "Rmse  98 = 0.8495906177583313\n",
      "Rmse  99 = 0.8495737435350295\n",
      "Rmse  100 = 0.8494753439444377\n",
      "Rmse  101 = 0.8494468702042556\n",
      "Rmse  102 = 0.8493849819343559\n",
      "Rmse  103 = 0.8493400809112206\n",
      "Rmse  104 = 0.8493089453822242\n",
      "Rmse  105 = 0.8492373769928385\n",
      "Rmse  106 = 0.8491714335663925\n",
      "Rmse  107 = 0.8491287249458499\n",
      "Rmse  108 = 0.8490496034948722\n",
      "Rmse  109 = 0.8489699154758272\n",
      "Rmse  110 = 0.8489011451290469\n",
      "Rmse  111 = 0.8489008567754711\n",
      "Rmse  112 = 0.8488437711281364\n",
      "Rmse  113 = 0.8488575625682477\n",
      "Rmse  114 = 0.8487875749467441\n",
      "Rmse  115 = 0.8487936971857399\n",
      "Rmse  116 = 0.8487657232520661\n",
      "Rmse  117 = 0.8487480469262904\n",
      "Rmse  118 = 0.8487592094394768\n",
      "Rmse  119 = 0.8486928539943711\n",
      "Rmse  120 = 0.8486393234766348\n",
      "Rmse  121 = 0.8486196826678551\n",
      "Rmse  122 = 0.8485606303330924\n",
      "Rmse  123 = 0.848519088294351\n",
      "Rmse  124 = 0.8484930934607995\n",
      "Rmse  125 = 0.8484871199622157\n",
      "Rmse  126 = 0.8484726555245935\n",
      "Rmse  127 = 0.8484325008202196\n",
      "Rmse  128 = 0.8484159679522776\n",
      "Rmse  129 = 0.8483670173738574\n",
      "Rmse  130 = 0.8483453223397573\n",
      "Rmse  131 = 0.8483600609410279\n",
      "Rmse  132 = 0.8483460034503418\n",
      "Rmse  133 = 0.8483077132959591\n",
      "Rmse  134 = 0.848279887543463\n",
      "Rmse  135 = 0.8482832710111635\n",
      "Rmse  136 = 0.8482622321706639\n",
      "Rmse  137 = 0.8482768610417702\n",
      "Rmse  138 = 0.8482712764363292\n",
      "Rmse  139 = 0.8482380141438932\n",
      "Rmse  140 = 0.8482116880866217\n",
      "Rmse  141 = 0.8482171728908473\n",
      "Rmse  142 = 0.848223005387517\n",
      "Rmse  143 = 0.8482274240780103\n",
      "Rmse  144 = 0.848180458159216\n",
      "Rmse  145 = 0.8481765904641559\n",
      "Rmse  146 = 0.8482094122457888\n",
      "Rmse  147 = 0.8482249165784834\n",
      "Rmse  148 = 0.8481465243044974\n",
      "Rmse  149 = 0.8481270544066486\n",
      "Rmse  150 = 0.8481170775253025\n"
     ]
    }
   ],
   "source": [
    "rmse_val = []\n",
    "for K in range(150):\n",
    "    K = K+1\n",
    "    model = neighbors.KNeighborsRegressor(n_neighbors = K, weights ='distance')\n",
    "    model.fit(x_train, y_train)\n",
    "    pred = model.predict(x_test)\n",
    "    error = sqrt(mean_squared_error(y_test, pred))\n",
    "    rmse_val.append(error)\n",
    "    print('Rmse ',K,'=',error)"
   ]
  },
  {
   "cell_type": "code",
   "execution_count": 45,
   "id": "a170b18e",
   "metadata": {},
   "outputs": [
    {
     "data": {
      "text/plain": [
       "<Axes: >"
      ]
     },
     "execution_count": 45,
     "metadata": {},
     "output_type": "execute_result"
    },
    {
     "data": {
      "image/png": "[encoded data removed]",
      "text/plain": [
       "<Figure size 640x480 with 1 Axes>"
      ]
     },
     "metadata": {},
     "output_type": "display_data"
    }
   ],
   "source": [
    "curve2 = pd.DataFrame(rmse_val)\n",
    "curve2.plot()"
   ]
  },
  {
   "cell_type": "code",
   "execution_count": 46,
   "id": "2f966b13",
   "metadata": {
    "scrolled": true
   },
   "outputs": [
    {
     "name": "stdout",
     "output_type": "stream",
     "text": [
      "Rmse  1 = 1.0973288608094176\n",
      "Rmse  2 = 0.9898574827471288\n",
      "Rmse  3 = 0.948122199739295\n",
      "Rmse  4 = 0.9293854464355026\n",
      "Rmse  5 = 0.9152072260439638\n",
      "Rmse  6 = 0.9073320854083968\n",
      "Rmse  7 = 0.9001919816563825\n",
      "Rmse  8 = 0.895276225694405\n",
      "Rmse  9 = 0.8918600043198135\n",
      "Rmse  10 = 0.8887451158020313\n",
      "Rmse  11 = 0.886046087851763\n",
      "Rmse  12 = 0.8835002082344019\n",
      "Rmse  13 = 0.8815333468424021\n",
      "Rmse  14 = 0.8792692828811379\n",
      "Rmse  15 = 0.8778928461554355\n",
      "Rmse  16 = 0.8760229429446978\n",
      "Rmse  17 = 0.874582365243628\n",
      "Rmse  18 = 0.8732562127145398\n",
      "Rmse  19 = 0.8720446752658443\n",
      "Rmse  20 = 0.8710485533053702\n",
      "Rmse  21 = 0.8703322769827982\n",
      "Rmse  22 = 0.8693093656951474\n",
      "Rmse  23 = 0.8685895074032267\n",
      "Rmse  24 = 0.8678613553100193\n",
      "Rmse  25 = 0.8670452582846183\n",
      "Rmse  26 = 0.8663784528905241\n",
      "Rmse  27 = 0.865298054072614\n",
      "Rmse  28 = 0.8647945407326232\n",
      "Rmse  29 = 0.8641299078982406\n",
      "Rmse  30 = 0.8636705781150044\n",
      "Rmse  31 = 0.8630848215753882\n",
      "Rmse  32 = 0.8625187609301448\n",
      "Rmse  33 = 0.8619975046130149\n",
      "Rmse  34 = 0.861554620714612\n",
      "Rmse  35 = 0.861205522084958\n",
      "Rmse  36 = 0.860863174197782\n",
      "Rmse  37 = 0.8603871113659176\n",
      "Rmse  38 = 0.8599022770466769\n",
      "Rmse  39 = 0.8595698343257588\n",
      "Rmse  40 = 0.8592576725267522\n",
      "Rmse  41 = 0.8588305471478002\n",
      "Rmse  42 = 0.8584569116703172\n",
      "Rmse  43 = 0.8580546986347424\n",
      "Rmse  44 = 0.8577355908563983\n",
      "Rmse  45 = 0.8574139203762052\n",
      "Rmse  46 = 0.8572051415022255\n",
      "Rmse  47 = 0.857028660247688\n",
      "Rmse  48 = 0.8566706883043694\n",
      "Rmse  49 = 0.8564619382541261\n",
      "Rmse  50 = 0.8562142135452193\n",
      "Rmse  51 = 0.8559022316759869\n",
      "Rmse  52 = 0.8557729019785602\n",
      "Rmse  53 = 0.8555536582773049\n",
      "Rmse  54 = 0.8554319850341261\n",
      "Rmse  55 = 0.8551632198191593\n",
      "Rmse  56 = 0.8550661503330039\n",
      "Rmse  57 = 0.8548864479267878\n",
      "Rmse  58 = 0.8547313656924632\n",
      "Rmse  59 = 0.8545539126980082\n",
      "Rmse  60 = 0.8544493164505272\n",
      "Rmse  61 = 0.8542972019848792\n",
      "Rmse  62 = 0.8541572861254794\n",
      "Rmse  63 = 0.8540243298357221\n",
      "Rmse  64 = 0.8538998194242483\n",
      "Rmse  65 = 0.8536649776449605\n",
      "Rmse  66 = 0.8535465391601821\n",
      "Rmse  67 = 0.8534435902962122\n",
      "Rmse  68 = 0.8533578201870159\n",
      "Rmse  69 = 0.8532609073218507\n",
      "Rmse  70 = 0.8530745428358145\n",
      "Rmse  71 = 0.8529938525390047\n",
      "Rmse  72 = 0.852852549020516\n",
      "Rmse  73 = 0.8527672596115385\n",
      "Rmse  74 = 0.8526113355452868\n",
      "Rmse  75 = 0.8525219798023473\n",
      "Rmse  76 = 0.8524161822108743\n",
      "Rmse  77 = 0.8523305765505598\n",
      "Rmse  78 = 0.8522576465957514\n",
      "Rmse  79 = 0.85217217751773\n",
      "Rmse  80 = 0.8520599059236522\n",
      "Rmse  81 = 0.8519752769464495\n",
      "Rmse  82 = 0.8519488887406133\n",
      "Rmse  83 = 0.8518423447635737\n",
      "Rmse  84 = 0.85181054981359\n",
      "Rmse  85 = 0.8517255922855544\n",
      "Rmse  86 = 0.851653244944266\n",
      "Rmse  87 = 0.8515948629646004\n",
      "Rmse  88 = 0.8515199071376345\n",
      "Rmse  89 = 0.8514875756884847\n",
      "Rmse  90 = 0.8514053530687814\n",
      "Rmse  91 = 0.8513701842407261\n",
      "Rmse  92 = 0.8513205403832959\n",
      "Rmse  93 = 0.8511990780117651\n",
      "Rmse  94 = 0.8511501557950868\n",
      "Rmse  95 = 0.8511207862099321\n",
      "Rmse  96 = 0.851075441638742\n",
      "Rmse  97 = 0.8510293878801743\n",
      "Rmse  98 = 0.8509959547154151\n",
      "Rmse  99 = 0.8509058492118208\n",
      "Rmse  100 = 0.8508699841310376\n",
      "Rmse  101 = 0.8508722733275064\n",
      "Rmse  102 = 0.8508083334326785\n",
      "Rmse  103 = 0.8507719790169956\n",
      "Rmse  104 = 0.8507402074357535\n",
      "Rmse  105 = 0.850720438081125\n",
      "Rmse  106 = 0.8506201823121837\n",
      "Rmse  107 = 0.8505930112545209\n",
      "Rmse  108 = 0.8505821498578162\n",
      "Rmse  109 = 0.8505342017581065\n",
      "Rmse  110 = 0.850460624003184\n",
      "Rmse  111 = 0.8504422624001965\n",
      "Rmse  112 = 0.8504304578373415\n",
      "Rmse  113 = 0.8504402780223277\n",
      "Rmse  114 = 0.8504201145897258\n",
      "Rmse  115 = 0.8503942305010811\n",
      "Rmse  116 = 0.8503634046134626\n",
      "Rmse  117 = 0.8502990475299784\n",
      "Rmse  118 = 0.85028886194495\n",
      "Rmse  119 = 0.8503053318322719\n",
      "Rmse  120 = 0.8503135726919162\n",
      "Rmse  121 = 0.8503224214991911\n",
      "Rmse  122 = 0.8503124181440602\n",
      "Rmse  123 = 0.8503003757144258\n",
      "Rmse  124 = 0.8502556840772463\n",
      "Rmse  125 = 0.850268289451382\n",
      "Rmse  126 = 0.8502239912764917\n",
      "Rmse  127 = 0.8501809906183248\n",
      "Rmse  128 = 0.8501762382294382\n",
      "Rmse  129 = 0.850147698672888\n",
      "Rmse  130 = 0.8501546672574789\n",
      "Rmse  131 = 0.8501405646303949\n",
      "Rmse  132 = 0.8501399049742351\n",
      "Rmse  133 = 0.850158564727584\n",
      "Rmse  134 = 0.8501971073921616\n",
      "Rmse  135 = 0.8501916312111448\n",
      "Rmse  136 = 0.8501748497489443\n",
      "Rmse  137 = 0.8501771846658881\n",
      "Rmse  138 = 0.8502207880374939\n",
      "Rmse  139 = 0.8502248201129677\n",
      "Rmse  140 = 0.8502387761359754\n",
      "Rmse  141 = 0.8502904365299886\n",
      "Rmse  142 = 0.8503032639200083\n",
      "Rmse  143 = 0.850303246023955\n",
      "Rmse  144 = 0.8502920806841339\n",
      "Rmse  145 = 0.8502680386331903\n",
      "Rmse  146 = 0.8502735963216802\n",
      "Rmse  147 = 0.8503295820507244\n",
      "Rmse  148 = 0.8503353482056266\n",
      "Rmse  149 = 0.8503345281645809\n",
      "Rmse  150 = 0.8503649761391363\n"
     ]
    }
   ],
   "source": [
    "rmse_val = []\n",
    "for K in range(150):\n",
    "    K = K+1\n",
    "    model = neighbors.KNeighborsRegressor(n_neighbors = K, weights ='distance',p=1)\n",
    "    model.fit(x_train, y_train)\n",
    "    pred = model.predict(x_test)\n",
    "    error = sqrt(mean_squared_error(y_test, pred))\n",
    "    rmse_val.append(error)\n",
    "    print('Rmse ',K,'=',error)"
   ]
  },
  {
   "cell_type": "code",
   "execution_count": 47,
   "id": "8ea1154e",
   "metadata": {},
   "outputs": [
    {
     "data": {
      "text/plain": [
       "<Axes: >"
      ]
     },
     "execution_count": 47,
     "metadata": {},
     "output_type": "execute_result"
    },
    {
     "data": {
      "image/png": "[encoded data removed]",
      "text/plain": [
       "<Figure size 640x480 with 1 Axes>"
      ]
     },
     "metadata": {},
     "output_type": "display_data"
    }
   ],
   "source": [
    "curve3 = pd.DataFrame(rmse_val)\n",
    "curve3.plot()"
   ]
  },
  {
   "cell_type": "markdown",
   "id": "8802129d",
   "metadata": {},
   "source": [
    "### 결국에는 K값을 어떤 값으로 지정하는 게 가장 좋은 것인가?\n",
    "- 그럼 KNN 모델을 통해서 단순하게 최소의 RMSE 나온 것이 가장 뛰어난 모델이라고 말할 수 있는가?\n",
    "- KNN 이웃수 50개 이상으로 해서 최적의 모델을 도출했습니다!"
   ]
  },
  {
   "cell_type": "code",
   "execution_count": 49,
   "id": "ff6fb65d",
   "metadata": {},
   "outputs": [
    {
     "data": {
      "text/html": [
       "<div>\n",
       "<style scoped>\n",
       "    .dataframe tbody tr th:only-of-type {\n",
       "        vertical-align: middle;\n",
       "    }\n",
       "\n",
       "    .dataframe tbody tr th {\n",
       "        vertical-align: top;\n",
       "    }\n",
       "\n",
       "    .dataframe thead th {\n",
       "        text-align: right;\n",
       "    }\n",
       "</style>\n",
       "<table border=\"1\" class=\"dataframe\">\n",
       "  <thead>\n",
       "    <tr style=\"text-align: right;\">\n",
       "      <th></th>\n",
       "      <th>MedInc</th>\n",
       "      <th>HouseAge</th>\n",
       "      <th>AveRooms</th>\n",
       "      <th>AveBedrms</th>\n",
       "      <th>Population</th>\n",
       "      <th>AveOccup</th>\n",
       "      <th>Latitude</th>\n",
       "      <th>Longitude</th>\n",
       "      <th>target</th>\n",
       "    </tr>\n",
       "  </thead>\n",
       "  <tbody>\n",
       "    <tr>\n",
       "      <th>0</th>\n",
       "      <td>8.3252</td>\n",
       "      <td>41.0</td>\n",
       "      <td>6.984127</td>\n",
       "      <td>1.023810</td>\n",
       "      <td>322.0</td>\n",
       "      <td>2.555556</td>\n",
       "      <td>37.88</td>\n",
       "      <td>-122.23</td>\n",
       "      <td>4.526</td>\n",
       "    </tr>\n",
       "    <tr>\n",
       "      <th>1</th>\n",
       "      <td>8.3014</td>\n",
       "      <td>21.0</td>\n",
       "      <td>6.238137</td>\n",
       "      <td>0.971880</td>\n",
       "      <td>2401.0</td>\n",
       "      <td>2.109842</td>\n",
       "      <td>37.86</td>\n",
       "      <td>-122.22</td>\n",
       "      <td>3.585</td>\n",
       "    </tr>\n",
       "    <tr>\n",
       "      <th>2</th>\n",
       "      <td>7.2574</td>\n",
       "      <td>52.0</td>\n",
       "      <td>8.288136</td>\n",
       "      <td>1.073446</td>\n",
       "      <td>496.0</td>\n",
       "      <td>2.802260</td>\n",
       "      <td>37.85</td>\n",
       "      <td>-122.24</td>\n",
       "      <td>3.521</td>\n",
       "    </tr>\n",
       "    <tr>\n",
       "      <th>3</th>\n",
       "      <td>5.6431</td>\n",
       "      <td>52.0</td>\n",
       "      <td>5.817352</td>\n",
       "      <td>1.073059</td>\n",
       "      <td>558.0</td>\n",
       "      <td>2.547945</td>\n",
       "      <td>37.85</td>\n",
       "      <td>-122.25</td>\n",
       "      <td>3.413</td>\n",
       "    </tr>\n",
       "    <tr>\n",
       "      <th>4</th>\n",
       "      <td>3.8462</td>\n",
       "      <td>52.0</td>\n",
       "      <td>6.281853</td>\n",
       "      <td>1.081081</td>\n",
       "      <td>565.0</td>\n",
       "      <td>2.181467</td>\n",
       "      <td>37.85</td>\n",
       "      <td>-122.25</td>\n",
       "      <td>3.422</td>\n",
       "    </tr>\n",
       "    <tr>\n",
       "      <th>...</th>\n",
       "      <td>...</td>\n",
       "      <td>...</td>\n",
       "      <td>...</td>\n",
       "      <td>...</td>\n",
       "      <td>...</td>\n",
       "      <td>...</td>\n",
       "      <td>...</td>\n",
       "      <td>...</td>\n",
       "      <td>...</td>\n",
       "    </tr>\n",
       "    <tr>\n",
       "      <th>20635</th>\n",
       "      <td>1.5603</td>\n",
       "      <td>25.0</td>\n",
       "      <td>5.045455</td>\n",
       "      <td>1.133333</td>\n",
       "      <td>845.0</td>\n",
       "      <td>2.560606</td>\n",
       "      <td>39.48</td>\n",
       "      <td>-121.09</td>\n",
       "      <td>0.781</td>\n",
       "    </tr>\n",
       "    <tr>\n",
       "      <th>20636</th>\n",
       "      <td>2.5568</td>\n",
       "      <td>18.0</td>\n",
       "      <td>6.114035</td>\n",
       "      <td>1.315789</td>\n",
       "      <td>356.0</td>\n",
       "      <td>3.122807</td>\n",
       "      <td>39.49</td>\n",
       "      <td>-121.21</td>\n",
       "      <td>0.771</td>\n",
       "    </tr>\n",
       "    <tr>\n",
       "      <th>20637</th>\n",
       "      <td>1.7000</td>\n",
       "      <td>17.0</td>\n",
       "      <td>5.205543</td>\n",
       "      <td>1.120092</td>\n",
       "      <td>1007.0</td>\n",
       "      <td>2.325635</td>\n",
       "      <td>39.43</td>\n",
       "      <td>-121.22</td>\n",
       "      <td>0.923</td>\n",
       "    </tr>\n",
       "    <tr>\n",
       "      <th>20638</th>\n",
       "      <td>1.8672</td>\n",
       "      <td>18.0</td>\n",
       "      <td>5.329513</td>\n",
       "      <td>1.171920</td>\n",
       "      <td>741.0</td>\n",
       "      <td>2.123209</td>\n",
       "      <td>39.43</td>\n",
       "      <td>-121.32</td>\n",
       "      <td>0.847</td>\n",
       "    </tr>\n",
       "    <tr>\n",
       "      <th>20639</th>\n",
       "      <td>2.3886</td>\n",
       "      <td>16.0</td>\n",
       "      <td>5.254717</td>\n",
       "      <td>1.162264</td>\n",
       "      <td>1387.0</td>\n",
       "      <td>2.616981</td>\n",
       "      <td>39.37</td>\n",
       "      <td>-121.24</td>\n",
       "      <td>0.894</td>\n",
       "    </tr>\n",
       "  </tbody>\n",
       "</table>\n",
       "<p>20640 rows × 9 columns</p>\n",
       "</div>"
      ],
      "text/plain": [
       "       MedInc  HouseAge  AveRooms  AveBedrms  Population  AveOccup  Latitude   \n",
       "0      8.3252      41.0  6.984127   1.023810       322.0  2.555556     37.88  \\\n",
       "1      8.3014      21.0  6.238137   0.971880      2401.0  2.109842     37.86   \n",
       "2      7.2574      52.0  8.288136   1.073446       496.0  2.802260     37.85   \n",
       "3      5.6431      52.0  5.817352   1.073059       558.0  2.547945     37.85   \n",
       "4      3.8462      52.0  6.281853   1.081081       565.0  2.181467     37.85   \n",
       "...       ...       ...       ...        ...         ...       ...       ...   \n",
       "20635  1.5603      25.0  5.045455   1.133333       845.0  2.560606     39.48   \n",
       "20636  2.5568      18.0  6.114035   1.315789       356.0  3.122807     39.49   \n",
       "20637  1.7000      17.0  5.205543   1.120092      1007.0  2.325635     39.43   \n",
       "20638  1.8672      18.0  5.329513   1.171920       741.0  2.123209     39.43   \n",
       "20639  2.3886      16.0  5.254717   1.162264      1387.0  2.616981     39.37   \n",
       "\n",
       "       Longitude  target  \n",
       "0        -122.23   4.526  \n",
       "1        -122.22   3.585  \n",
       "2        -122.24   3.521  \n",
       "3        -122.25   3.413  \n",
       "4        -122.25   3.422  \n",
       "...          ...     ...  \n",
       "20635    -121.09   0.781  \n",
       "20636    -121.21   0.771  \n",
       "20637    -121.22   0.923  \n",
       "20638    -121.32   0.847  \n",
       "20639    -121.24   0.894  \n",
       "\n",
       "[20640 rows x 9 columns]"
      ]
     },
     "execution_count": 49,
     "metadata": {},
     "output_type": "execute_result"
    }
   ],
   "source": [
    "df"
   ]
  },
  {
   "cell_type": "markdown",
   "id": "0a88198e",
   "metadata": {},
   "source": [
    "- 두 가지 변수만 사용했지만- > 나머지 변수까지 사용하게 되면? 차원이 더 늘어나게 되는 것이고 -> 그럴 경우는 KNN값이 어떤 식으로 바뀌는지?\n",
    "\n",
    "### 필수과제\n",
    "- 위의 캘리포니아 데이터의 다른 변수들을 더 추가하여서 KNN 모델의 성능을 확인해 주시고\n",
    "- 해당 변수들을 선택한 이유를 -> 논리적으로 정리하셔서, 시각화도 해주시고 -> RMSE 낮추는 K의 최적의 값을 찾아 주시고\n",
    "- RMSE값을 공유해 주세요!"
   ]
  },
  {
   "cell_type": "markdown",
   "id": "d4a65627",
   "metadata": {},
   "source": [
    "### 필수과제 2\n",
    "- KNNImputer \n",
    "- 결측값에 대한 대체 방법\n",
    "- 결측치 대체할 때 -> 거리기반으로 들어간다 na값들이 거리기반으로 대체가 된다.\n",
    "- 개념 정리해주시고 -> 결측치 보간해서 실제 어떤 식으로 결측치가 대체 되는지 확인해 주세요!\n",
    "- 캘리포니아데이터를 실제 na값을 최소 100 정도 만들어 주시고 그 값을 \n",
    "\n",
    "- 1. 평균으로 대체 \n",
    "- 2. 0으로 대체\n",
    "- 3. KNN 대체\n",
    "\n",
    "- 실제 RMSE 값이 어떤 식으로 바뀌는지를 KNN모델로 비교 정리해 주세요!"
   ]
  },
  {
   "cell_type": "markdown",
   "id": "8651e623",
   "metadata": {},
   "source": [
    "###  필수과제는 11월 첫 수업 진행하기 전까지만 제출하시면 됩니다.\n",
    "###  복습과제는 당연히 다음 주까지 제출해야 합니다."
   ]
  },
  {
   "cell_type": "code",
   "execution_count": null,
   "id": "9e2e35b8",
   "metadata": {},
   "outputs": [],
   "source": []
  }
 ],
 "metadata": {
  "kernelspec": {
   "display_name": "Python 3 (ipykernel)",
   "language": "python",
   "name": "python3"
  },
  "language_info": {
   "codemirror_mode": {
    "name": "ipython",
    "version": 3
   },
   "file_extension": ".py",
   "mimetype": "text/x-python",
   "name": "python",
   "nbconvert_exporter": "python",
   "pygments_lexer": "ipython3",
   "version": "3.8.16"
  }
 },
 "nbformat": 4,
 "nbformat_minor": 5
}
