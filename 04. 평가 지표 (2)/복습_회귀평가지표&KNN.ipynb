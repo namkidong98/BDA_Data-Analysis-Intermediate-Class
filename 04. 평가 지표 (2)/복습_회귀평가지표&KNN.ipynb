{
 "cells": [
  {
   "cell_type": "markdown",
   "metadata": {},
   "source": [
    "## KNN 알고리즘 vs K-Means 알고리즘\n",
    "knn알고리즘은 정답 레이블이 있는 지도 학습에 사용되는 알고리즘이고   \n",
    "k-means알고리즘은 정답 레이블이 없는 비지도 학습에 사용되는 알고리즘이다\n",
    "\n",
    "### KNN\n",
    "1. 회귀, 분류 둘 다 가능\n",
    "2. 정말 간단한 거리 기반의 알고리즘   \n",
    "3. 정답 레이블이 있는 지도 학습에 사용\n",
    "4. K는 새로운 값을 기준으로 가장 가까운 데이터를 몇개까지 체크할지를 정하는 파라미터이다\n",
    "\n",
    "### 거리 공식\n",
    "1. 유클리드 거리: √{(a1-b1)^2 + ....... + (an-bn)^2}\n",
    "2. 맨하튼 거리: |a1-b1| + ...... + |an-b2|"
   ]
  },
  {
   "cell_type": "markdown",
   "metadata": {},
   "source": [
    "## KNN --> K-최근접 이웃 회귀(K-Nearest Neighbors)\n",
    "1. 거리 기반으로 진행한다\n",
    "2. 거리 기반에서 가장 가까운 k개 이웃을 찾고 K개 정답의 평균을 계산해서 예측한다\n",
    "3. 그러나 평균으로 잡게 되면 예측 정확도가 떨어질 수 있다(거리의 차이가 있을 수 있ㄱ ㅣ때문)\n",
    "4. 따라서 가중치를 이용해서 거리가 가까울수록 더 데이터가 유사할 것이라 보고 가중치 부여"
   ]
  },
  {
   "cell_type": "code",
   "execution_count": 5,
   "metadata": {},
   "outputs": [],
   "source": [
    "from sklearn.neighbors import KNeighborsRegressor\n",
    "import numpy as np\n",
    "import matplotlib.pyplot as plt"
   ]
  },
  {
   "cell_type": "code",
   "execution_count": 1,
   "metadata": {},
   "outputs": [
    {
     "data": {
      "text/plain": [
       "7.166666666666667"
      ]
     },
     "execution_count": 1,
     "metadata": {},
     "output_type": "execute_result"
    }
   ],
   "source": [
    "# 새로운 데이터 값의 3개의 기준의 평점이 아래와 같으면 아래의 평균으로 대체\n",
    "(5.0 + 7.0 + 9.5) / 3"
   ]
  },
  {
   "cell_type": "code",
   "execution_count": 3,
   "metadata": {},
   "outputs": [
    {
     "data": {
      "text/plain": [
       "8.25128415861927"
      ]
     },
     "execution_count": 3,
     "metadata": {},
     "output_type": "execute_result"
    }
   ],
   "source": [
    "# 가중치를 부여하여 거리가 가까울수록 예측에 높기 반영될 수 있도록 활용하면 다음과 같은 예측값이 나온다\n",
    "#    평점      거리\n",
    "# A  5.0       3.2\n",
    "# B  7.0       10.5\n",
    "# C  9.5       1.1\n",
    "(5.0/3.2 + 7.0/10.5 + 9.5/1.1) / (1/3.2 + 1/10.5 + 1/1.1)"
   ]
  },
  {
   "cell_type": "markdown",
   "metadata": {},
   "source": [
    "### KNN의 한계\n",
    "거리기반이다보니 기존에 학습할 데이터에서 벗어난 범위들은 정확하게 예측하기 어렵다"
   ]
  },
  {
   "cell_type": "code",
   "execution_count": 6,
   "metadata": {},
   "outputs": [
    {
     "data": {
      "image/png": "[encoded data removed]",
      "text/plain": [
       "<Figure size 640x480 with 1 Axes>"
      ]
     },
     "metadata": {},
     "output_type": "display_data"
    }
   ],
   "source": [
    "x = np.arange(1,11).reshape(-1,1)\n",
    "y = np.arange(1,11) * 5\n",
    "plt.figure()\n",
    "plt.scatter(x,y)\n",
    "plt.show()"
   ]
  },
  {
   "cell_type": "code",
   "execution_count": 8,
   "metadata": {},
   "outputs": [
    {
     "name": "stdout",
     "output_type": "stream",
     "text": [
      "[32.5]\n"
     ]
    }
   ],
   "source": [
    "knn_re = KNeighborsRegressor(n_neighbors=2).fit(x, y)\n",
    "print(knn_re.predict([[7]]))"
   ]
  },
  {
   "cell_type": "code",
   "execution_count": 9,
   "metadata": {},
   "outputs": [
    {
     "data": {
      "text/html": [
       "<style>#sk-container-id-1 {color: black;}#sk-container-id-1 pre{padding: 0;}#sk-container-id-1 div.sk-toggleable {background-color: white;}#sk-container-id-1 label.sk-toggleable__label {cursor: pointer;display: block;width: 100%;margin-bottom: 0;padding: 0.3em;box-sizing: border-box;text-align: center;}#sk-container-id-1 label.sk-toggleable__label-arrow:before {content: \"▸\";float: left;margin-right: 0.25em;color: #696969;}#sk-container-id-1 label.sk-toggleable__label-arrow:hover:before {color: black;}#sk-container-id-1 div.sk-estimator:hover label.sk-toggleable__label-arrow:before {color: black;}#sk-container-id-1 div.sk-toggleable__content {max-height: 0;max-width: 0;overflow: hidden;text-align: left;background-color: #f0f8ff;}#sk-container-id-1 div.sk-toggleable__content pre {margin: 0.2em;color: black;border-radius: 0.25em;background-color: #f0f8ff;}#sk-container-id-1 input.sk-toggleable__control:checked~div.sk-toggleable__content {max-height: 200px;max-width: 100%;overflow: auto;}#sk-container-id-1 input.sk-toggleable__control:checked~label.sk-toggleable__label-arrow:before {content: \"▾\";}#sk-container-id-1 div.sk-estimator input.sk-toggleable__control:checked~label.sk-toggleable__label {background-color: #d4ebff;}#sk-container-id-1 div.sk-label input.sk-toggleable__control:checked~label.sk-toggleable__label {background-color: #d4ebff;}#sk-container-id-1 input.sk-hidden--visually {border: 0;clip: rect(1px 1px 1px 1px);clip: rect(1px, 1px, 1px, 1px);height: 1px;margin: -1px;overflow: hidden;padding: 0;position: absolute;width: 1px;}#sk-container-id-1 div.sk-estimator {font-family: monospace;background-color: #f0f8ff;border: 1px dotted black;border-radius: 0.25em;box-sizing: border-box;margin-bottom: 0.5em;}#sk-container-id-1 div.sk-estimator:hover {background-color: #d4ebff;}#sk-container-id-1 div.sk-parallel-item::after {content: \"\";width: 100%;border-bottom: 1px solid gray;flex-grow: 1;}#sk-container-id-1 div.sk-label:hover label.sk-toggleable__label {background-color: #d4ebff;}#sk-container-id-1 div.sk-serial::before {content: \"\";position: absolute;border-left: 1px solid gray;box-sizing: border-box;top: 0;bottom: 0;left: 50%;z-index: 0;}#sk-container-id-1 div.sk-serial {display: flex;flex-direction: column;align-items: center;background-color: white;padding-right: 0.2em;padding-left: 0.2em;position: relative;}#sk-container-id-1 div.sk-item {position: relative;z-index: 1;}#sk-container-id-1 div.sk-parallel {display: flex;align-items: stretch;justify-content: center;background-color: white;position: relative;}#sk-container-id-1 div.sk-item::before, #sk-container-id-1 div.sk-parallel-item::before {content: \"\";position: absolute;border-left: 1px solid gray;box-sizing: border-box;top: 0;bottom: 0;left: 50%;z-index: -1;}#sk-container-id-1 div.sk-parallel-item {display: flex;flex-direction: column;z-index: 1;position: relative;background-color: white;}#sk-container-id-1 div.sk-parallel-item:first-child::after {align-self: flex-end;width: 50%;}#sk-container-id-1 div.sk-parallel-item:last-child::after {align-self: flex-start;width: 50%;}#sk-container-id-1 div.sk-parallel-item:only-child::after {width: 0;}#sk-container-id-1 div.sk-dashed-wrapped {border: 1px dashed gray;margin: 0 0.4em 0.5em 0.4em;box-sizing: border-box;padding-bottom: 0.4em;background-color: white;}#sk-container-id-1 div.sk-label label {font-family: monospace;font-weight: bold;display: inline-block;line-height: 1.2em;}#sk-container-id-1 div.sk-label-container {text-align: center;}#sk-container-id-1 div.sk-container {/* jupyter's `normalize.less` sets `[hidden] { display: none; }` but bootstrap.min.css set `[hidden] { display: none !important; }` so we also need the `!important` here to be able to override the default hidden behavior on the sphinx rendered scikit-learn.org. See: https://github.com/scikit-learn/scikit-learn/issues/21755 */display: inline-block !important;position: relative;}#sk-container-id-1 div.sk-text-repr-fallback {display: none;}</style><div id=\"sk-container-id-1\" class=\"sk-top-container\"><div class=\"sk-text-repr-fallback\"><pre>KNeighborsRegressor(n_neighbors=2)</pre><b>In a Jupyter environment, please rerun this cell to show the HTML representation or trust the notebook. <br />On GitHub, the HTML representation is unable to render, please try loading this page with nbviewer.org.</b></div><div class=\"sk-container\" hidden><div class=\"sk-item\"><div class=\"sk-estimator sk-toggleable\"><input class=\"sk-toggleable__control sk-hidden--visually\" id=\"sk-estimator-id-1\" type=\"checkbox\" checked><label for=\"sk-estimator-id-1\" class=\"sk-toggleable__label sk-toggleable__label-arrow\">KNeighborsRegressor</label><div class=\"sk-toggleable__content\"><pre>KNeighborsRegressor(n_neighbors=2)</pre></div></div></div></div></div>"
      ],
      "text/plain": [
       "KNeighborsRegressor(n_neighbors=2)"
      ]
     },
     "execution_count": 9,
     "metadata": {},
     "output_type": "execute_result"
    }
   ],
   "source": [
    "knn_re"
   ]
  },
  {
   "cell_type": "code",
   "execution_count": 12,
   "metadata": {},
   "outputs": [
    {
     "name": "stdout",
     "output_type": "stream",
     "text": [
      "[47.5]\n",
      "[47.5]\n",
      "[47.5]\n"
     ]
    }
   ],
   "source": [
    "# 값이 넘어가도 거리기반이기 때문에 동일한 값들이 나오게 된다\n",
    "# k=2이기 때문에 50, 45가 골라져서 그 평균인 47.5로 값이 도출되는 것이다\n",
    "print(knn_re.predict([[10]])) \n",
    "print(knn_re.predict([[15]])) \n",
    "print(knn_re.predict([[100]]))"
   ]
  },
  {
   "cell_type": "markdown",
   "metadata": {},
   "source": [
    "### KNN - 파라미터 정리하기\n",
    "1. n_neighbors : 이웃의 개수\n",
    "2. weight : 가중 평균 개념(uniform이 default)\n",
    "3. algorithm : 차원이 많아지면 데이터를 탐색하는데 오래 걸리므로 데이터를 탐색하는 방법을 설정   \n",
    "    ex) ball_tree, kd_tree, brute\n",
    "4. metrics : p=1 맨하탄, p=2 유클리디안, p=3 체비쇼프 거리 기반 (default는 p=2)\n",
    "5. n_jobs : 사용할 cpu 개수 - 1을 default로"
   ]
  },
  {
   "cell_type": "code",
   "execution_count": 1,
   "metadata": {},
   "outputs": [],
   "source": [
    "import numpy as np\n",
    "import matplotlib.pyplot as plt\n",
    "from sklearn import neighbors\n",
    "\n",
    "np.random.seed(0)\n",
    "X = np.sort(5 * np.random.rand(40, 1), axis=0)\n",
    "T = np.linspace(0, 5, 500)[:, np.newaxis]\n",
    "y = np.sin(X).ravel()\n",
    "\n",
    "# Add noise to targets\n",
    "y[::5] += 1 * (0.5 - np.random.rand(8))"
   ]
  },
  {
   "cell_type": "code",
   "execution_count": 2,
   "metadata": {},
   "outputs": [
    {
     "data": {
      "image/png": "[encoded data removed]",
      "text/plain": [
       "<Figure size 640x480 with 2 Axes>"
      ]
     },
     "metadata": {},
     "output_type": "display_data"
    }
   ],
   "source": [
    "# weight(가중평균)을 어떤 값으로 하느냐에 따른 오차를 그래프로 출력\n",
    "\n",
    "n_neighbors = 5\n",
    "\n",
    "for i, weights in enumerate([\"uniform\", \"distance\"]):\n",
    "    knn = neighbors.KNeighborsRegressor(n_neighbors, weights=weights)\n",
    "    y_ = knn.fit(X, y).predict(T)\n",
    "\n",
    "    plt.subplot(2, 1, i + 1)\n",
    "    plt.scatter(X, y, color=\"darkorange\", label=\"data\")\n",
    "    plt.plot(T, y_, color=\"navy\", label=\"prediction\")\n",
    "    plt.axis(\"tight\")\n",
    "    plt.legend()\n",
    "    plt.title(\"KNeighborsRegressor (k = %i, weights = '%s')\" % (n_neighbors, weights))\n",
    "\n",
    "plt.tight_layout()\n",
    "plt.show()"
   ]
  },
  {
   "cell_type": "markdown",
   "metadata": {},
   "source": [
    "## 캘리포니아 집값 데이터로 실습"
   ]
  },
  {
   "cell_type": "code",
   "execution_count": 3,
   "metadata": {},
   "outputs": [],
   "source": [
    "import numpy as np\n",
    "import pandas as pd\n",
    "from sklearn import datasets\n",
    "from sklearn.metrics import mean_squared_error\n",
    "from math import sqrt\n",
    "from sklearn.model_selection import train_test_split\n",
    "\n",
    "dataset = datasets.fetch_california_housing() #캘리포니아 데이터 로드\n",
    "df = pd.DataFrame(dataset.data, columns=dataset.feature_names) # 데이터 프레임화\n",
    "df['target'] = dataset.target # 타겟 열 추가\n",
    "\n",
    "data = df[['MedInc','HouseAge']]\n",
    "target = df['target']"
   ]
  },
  {
   "cell_type": "code",
   "execution_count": 4,
   "metadata": {},
   "outputs": [],
   "source": [
    "x_train, x_test, y_train, y_test = train_test_split(data, target, test_size=0.3, random_state=111)"
   ]
  },
  {
   "cell_type": "code",
   "execution_count": 5,
   "metadata": {},
   "outputs": [
    {
     "name": "stdout",
     "output_type": "stream",
     "text": [
      "Rmse  1 = 1.0950482374478512\n",
      "Rmse  2 = 0.9471974468349912\n",
      "Rmse  3 = 0.8879375003120225\n",
      "Rmse  4 = 0.8636956739862284\n",
      "Rmse  5 = 0.8436155519539745\n",
      "Rmse  6 = 0.8370594431695786\n",
      "Rmse  7 = 0.8287384929373307\n",
      "Rmse  8 = 0.8230440440092522\n",
      "Rmse  9 = 0.8199171785754918\n",
      "Rmse  10 = 0.8180190731547325\n",
      "Rmse  11 = 0.816790146747719\n",
      "Rmse  12 = 0.81326537423605\n",
      "Rmse  13 = 0.8119930848951583\n",
      "Rmse  14 = 0.8092128005372782\n",
      "Rmse  15 = 0.8089449718087569\n",
      "Rmse  16 = 0.8059648036724631\n",
      "Rmse  17 = 0.8050733951213693\n",
      "Rmse  18 = 0.8032791601507158\n",
      "Rmse  19 = 0.8018940211578898\n",
      "Rmse  20 = 0.8010276695683639\n",
      "Rmse  21 = 0.8009482651267855\n",
      "Rmse  22 = 0.8000453653570154\n",
      "Rmse  23 = 0.7998504570654704\n",
      "Rmse  24 = 0.7992982748266572\n",
      "Rmse  25 = 0.7986115022125524\n",
      "Rmse  26 = 0.7982873832114445\n",
      "Rmse  27 = 0.7967968683618842\n",
      "Rmse  28 = 0.796679233190677\n",
      "Rmse  29 = 0.7962155423750112\n",
      "Rmse  30 = 0.7960842205674209\n",
      "Rmse  31 = 0.795336172967995\n",
      "Rmse  32 = 0.7951299661087289\n",
      "Rmse  33 = 0.7948311433545254\n",
      "Rmse  34 = 0.7945720666420213\n",
      "Rmse  35 = 0.7951235019144756\n",
      "Rmse  36 = 0.7949559162786396\n",
      "Rmse  37 = 0.7940668582577952\n",
      "Rmse  38 = 0.7933151456173856\n",
      "Rmse  39 = 0.7934892792094738\n",
      "Rmse  40 = 0.7932468946782983\n",
      "Rmse  41 = 0.7928219406067275\n",
      "Rmse  42 = 0.7923402755201251\n",
      "Rmse  43 = 0.7920386445953672\n",
      "Rmse  44 = 0.7919803693952915\n",
      "Rmse  45 = 0.7916662470707793\n",
      "Rmse  46 = 0.7917278067098971\n",
      "Rmse  47 = 0.7919367229978055\n",
      "Rmse  48 = 0.7919109199691281\n",
      "Rmse  49 = 0.7915570730119793\n",
      "Rmse  50 = 0.7916274005214503\n",
      "Rmse  51 = 0.7915894258300604\n",
      "Rmse  52 = 0.7921115177754645\n",
      "Rmse  53 = 0.7922480453864911\n",
      "Rmse  54 = 0.7921048195625148\n",
      "Rmse  55 = 0.7918950991161857\n",
      "Rmse  56 = 0.7919433493095326\n",
      "Rmse  57 = 0.7918650078820829\n",
      "Rmse  58 = 0.7919002586833696\n",
      "Rmse  59 = 0.7918968286287493\n",
      "Rmse  60 = 0.7920884277494201\n",
      "Rmse  61 = 0.7922470361347189\n",
      "Rmse  62 = 0.792335725425149\n",
      "Rmse  63 = 0.7922211991153768\n",
      "Rmse  64 = 0.7923777059088595\n",
      "Rmse  65 = 0.7920865959015139\n",
      "Rmse  66 = 0.7922585848795064\n",
      "Rmse  67 = 0.7921825173116972\n",
      "Rmse  68 = 0.792204925602097\n",
      "Rmse  69 = 0.7923151111787349\n",
      "Rmse  70 = 0.7922734673992394\n",
      "Rmse  71 = 0.7922279816998774\n",
      "Rmse  72 = 0.7923899925150499\n",
      "Rmse  73 = 0.7925379451749863\n",
      "Rmse  74 = 0.7926167579579151\n",
      "Rmse  75 = 0.7929303774204144\n",
      "Rmse  76 = 0.7930806883509081\n",
      "Rmse  77 = 0.793133222680084\n",
      "Rmse  78 = 0.7931717158960415\n",
      "Rmse  79 = 0.7934954917270182\n",
      "Rmse  80 = 0.7933204900499097\n",
      "Rmse  81 = 0.7934540902170376\n",
      "Rmse  82 = 0.7936839152227115\n",
      "Rmse  83 = 0.7935612726083102\n",
      "Rmse  84 = 0.7937920808292994\n",
      "Rmse  85 = 0.7938979649209827\n",
      "Rmse  86 = 0.7939428134544976\n",
      "Rmse  87 = 0.7941509044131951\n",
      "Rmse  88 = 0.7940743863893488\n",
      "Rmse  89 = 0.7943287845728831\n",
      "Rmse  90 = 0.7943279635394606\n",
      "Rmse  91 = 0.794402665438727\n",
      "Rmse  92 = 0.7944659794142792\n",
      "Rmse  93 = 0.7944400935081009\n",
      "Rmse  94 = 0.7946816493140337\n",
      "Rmse  95 = 0.7946472011087947\n",
      "Rmse  96 = 0.7948365517407364\n",
      "Rmse  97 = 0.7949556336071925\n",
      "Rmse  98 = 0.7948576109320741\n",
      "Rmse  99 = 0.7950106885714635\n",
      "Rmse  100 = 0.7950337037331571\n",
      "Rmse  101 = 0.7953665880100492\n",
      "Rmse  102 = 0.7955175606440178\n",
      "Rmse  103 = 0.795598679703966\n",
      "Rmse  104 = 0.7957442422384964\n",
      "Rmse  105 = 0.795864939100506\n",
      "Rmse  106 = 0.7958788847779344\n",
      "Rmse  107 = 0.7959806042065843\n",
      "Rmse  108 = 0.7959333038053203\n",
      "Rmse  109 = 0.7958705103853897\n",
      "Rmse  110 = 0.795816318457653\n",
      "Rmse  111 = 0.7960604325335822\n",
      "Rmse  112 = 0.7962287916646953\n",
      "Rmse  113 = 0.7965735672525819\n",
      "Rmse  114 = 0.7965989921064273\n",
      "Rmse  115 = 0.7967984742551943\n",
      "Rmse  116 = 0.7969333516159198\n",
      "Rmse  117 = 0.7970813793575249\n",
      "Rmse  118 = 0.7974441973857415\n",
      "Rmse  119 = 0.7974777328261974\n",
      "Rmse  120 = 0.797567455481022\n",
      "Rmse  121 = 0.7976978015318178\n",
      "Rmse  122 = 0.7978651243358148\n",
      "Rmse  123 = 0.7978387383899223\n",
      "Rmse  124 = 0.797976716632847\n",
      "Rmse  125 = 0.7980755761385508\n",
      "Rmse  126 = 0.7982635107800559\n",
      "Rmse  127 = 0.7983744514891891\n",
      "Rmse  128 = 0.7985190267829659\n",
      "Rmse  129 = 0.7985838675614088\n",
      "Rmse  130 = 0.7986904640626147\n",
      "Rmse  131 = 0.7988062695309055\n",
      "Rmse  132 = 0.7988430919596697\n",
      "Rmse  133 = 0.7988419109473159\n",
      "Rmse  134 = 0.7990405058983654\n",
      "Rmse  135 = 0.7992956147082617\n",
      "Rmse  136 = 0.7994627384947023\n",
      "Rmse  137 = 0.7996135103362969\n",
      "Rmse  138 = 0.7998539918175455\n",
      "Rmse  139 = 0.7999334322098424\n",
      "Rmse  140 = 0.7999774638255694\n",
      "Rmse  141 = 0.8001791826511514\n",
      "Rmse  142 = 0.8005460657726446\n",
      "Rmse  143 = 0.800702518661186\n",
      "Rmse  144 = 0.8007300842042194\n",
      "Rmse  145 = 0.8009195627509007\n",
      "Rmse  146 = 0.8011529909079405\n",
      "Rmse  147 = 0.8013559253052265\n",
      "Rmse  148 = 0.8012666144245985\n",
      "Rmse  149 = 0.8013693559500119\n",
      "Rmse  150 = 0.8014841470790718\n",
      "0.7915570730119793\n"
     ]
    }
   ],
   "source": [
    "rmse_val = []\n",
    "for K in range(150):\n",
    "    K = K+1\n",
    "    model = neighbors.KNeighborsRegressor(n_neighbors = K)\n",
    "    model.fit(x_train, y_train)\n",
    "    pred = model.predict(x_test)\n",
    "    error = sqrt(mean_squared_error(y_test, pred))\n",
    "    rmse_val.append(error)\n",
    "    print('Rmse ',K,'=',error)\n",
    "print(min(rmse_val))"
   ]
  },
  {
   "cell_type": "code",
   "execution_count": 6,
   "metadata": {},
   "outputs": [
    {
     "data": {
      "text/plain": [
       "<Axes: >"
      ]
     },
     "execution_count": 6,
     "metadata": {},
     "output_type": "execute_result"
    },
    {
     "data": {
      "image/png": "[encoded data removed]",
      "text/plain": [
       "<Figure size 640x480 with 1 Axes>"
      ]
     },
     "metadata": {},
     "output_type": "display_data"
    }
   ],
   "source": [
    "curve1 = pd.DataFrame(rmse_val)\n",
    "curve1.plot()\n",
    "# 이웃을 150개 이상잡고 숫자가 계속 커지면 -> 평균으로 회귀하는 것 평균에 대해서 결국 값을 대체하게 되는 것이니 전체 평균으로 점점 가지고 가게 되는 것"
   ]
  },
  {
   "cell_type": "code",
   "execution_count": 7,
   "metadata": {},
   "outputs": [
    {
     "name": "stdout",
     "output_type": "stream",
     "text": [
      "Rmse  1 = 1.0950482374478512\n",
      "Rmse  2 = 0.9896854784726925\n",
      "Rmse  3 = 0.9483881577558474\n",
      "Rmse  4 = 0.9292385156028214\n",
      "Rmse  5 = 0.9153332735153442\n",
      "Rmse  6 = 0.9074668452301325\n",
      "Rmse  7 = 0.9001510105671994\n",
      "Rmse  8 = 0.8951428552431373\n",
      "Rmse  9 = 0.891755631086425\n",
      "Rmse  10 = 0.8886916158776763\n",
      "Rmse  11 = 0.8859873925564149\n",
      "Rmse  12 = 0.8832376921375675\n",
      "Rmse  13 = 0.8813763978132424\n",
      "Rmse  14 = 0.8791259159709399\n",
      "Rmse  15 = 0.8777917281895559\n",
      "Rmse  16 = 0.8757705897470889\n",
      "Rmse  17 = 0.8743940317323988\n",
      "Rmse  18 = 0.8730574257928958\n",
      "Rmse  19 = 0.8718387941811685\n",
      "Rmse  20 = 0.8708708057188951\n",
      "Rmse  21 = 0.8700838747983802\n",
      "Rmse  22 = 0.8691318628359496\n",
      "Rmse  23 = 0.8684007871838284\n",
      "Rmse  24 = 0.8676525839717111\n",
      "Rmse  25 = 0.8667963065856223\n",
      "Rmse  26 = 0.8660860080569368\n",
      "Rmse  27 = 0.8651143498345747\n",
      "Rmse  28 = 0.8645487766718303\n",
      "Rmse  29 = 0.8638570640438897\n",
      "Rmse  30 = 0.8632580755057184\n",
      "Rmse  31 = 0.8626547190296254\n",
      "Rmse  32 = 0.8621183900405842\n",
      "Rmse  33 = 0.8615638296177389\n",
      "Rmse  34 = 0.8611126394869181\n",
      "Rmse  35 = 0.8607624567236697\n",
      "Rmse  36 = 0.8604045216864604\n",
      "Rmse  37 = 0.8597988275545809\n",
      "Rmse  38 = 0.85929987951934\n",
      "Rmse  39 = 0.858995960893267\n",
      "Rmse  40 = 0.8586653643325423\n",
      "Rmse  41 = 0.8582603576906327\n",
      "Rmse  42 = 0.8578593470347237\n",
      "Rmse  43 = 0.8574497908303805\n",
      "Rmse  44 = 0.8571355678928319\n",
      "Rmse  45 = 0.8567891504965625\n",
      "Rmse  46 = 0.8565441237670871\n",
      "Rmse  47 = 0.8563221007633728\n",
      "Rmse  48 = 0.8560496247897349\n",
      "Rmse  49 = 0.8557623361799571\n",
      "Rmse  50 = 0.8554858775010025\n",
      "Rmse  51 = 0.8552743180062258\n",
      "Rmse  52 = 0.8551140856993612\n",
      "Rmse  53 = 0.8549150331988301\n",
      "Rmse  54 = 0.8546891583335648\n",
      "Rmse  55 = 0.8544415205247593\n",
      "Rmse  56 = 0.8542275654760733\n",
      "Rmse  57 = 0.854028126961598\n",
      "Rmse  58 = 0.8538642782617367\n",
      "Rmse  59 = 0.8536476563098059\n",
      "Rmse  60 = 0.8534536683966137\n",
      "Rmse  61 = 0.8533021092018598\n",
      "Rmse  62 = 0.8531445868026206\n",
      "Rmse  63 = 0.8529911379117734\n",
      "Rmse  64 = 0.8528244847136521\n",
      "Rmse  65 = 0.8526109851085466\n",
      "Rmse  66 = 0.8524589224623097\n",
      "Rmse  67 = 0.8523268871187617\n",
      "Rmse  68 = 0.8521979624437148\n",
      "Rmse  69 = 0.852110764523587\n",
      "Rmse  70 = 0.8519356991407052\n",
      "Rmse  71 = 0.8517760361925847\n",
      "Rmse  72 = 0.8517025582246842\n",
      "Rmse  73 = 0.8515992666303425\n",
      "Rmse  74 = 0.8514496636935786\n",
      "Rmse  75 = 0.8513972703922342\n",
      "Rmse  76 = 0.8513150254059625\n",
      "Rmse  77 = 0.8511933533515267\n",
      "Rmse  78 = 0.8510740564282683\n",
      "Rmse  79 = 0.8510063820332765\n",
      "Rmse  80 = 0.8508487499211294\n",
      "Rmse  81 = 0.8507763573791348\n",
      "Rmse  82 = 0.8506956540556505\n",
      "Rmse  83 = 0.8505735735057186\n",
      "Rmse  84 = 0.8504992296144334\n",
      "Rmse  85 = 0.8504129410596131\n",
      "Rmse  86 = 0.8503573431690562\n",
      "Rmse  87 = 0.8502952290820309\n",
      "Rmse  88 = 0.8502007841029571\n",
      "Rmse  89 = 0.850189268961817\n",
      "Rmse  90 = 0.850096821968545\n",
      "Rmse  91 = 0.8500380963509808\n",
      "Rmse  92 = 0.849979893677058\n",
      "Rmse  93 = 0.8499084619598021\n",
      "Rmse  94 = 0.8498812186329733\n",
      "Rmse  95 = 0.8497922963417419\n",
      "Rmse  96 = 0.8497540857310968\n",
      "Rmse  97 = 0.8496852342682348\n",
      "Rmse  98 = 0.8495907852781908\n",
      "Rmse  99 = 0.8495693256960963\n",
      "Rmse  100 = 0.8494670901006661\n",
      "Rmse  101 = 0.8494478441448505\n",
      "Rmse  102 = 0.8493964792251777\n",
      "Rmse  103 = 0.8493485159388833\n",
      "Rmse  104 = 0.8493049064281017\n",
      "Rmse  105 = 0.8492312188169772\n",
      "Rmse  106 = 0.8491737804460342\n",
      "Rmse  107 = 0.84913159230425\n",
      "Rmse  108 = 0.8490416969028404\n",
      "Rmse  109 = 0.8489651150267026\n",
      "Rmse  110 = 0.8488987668496734\n",
      "Rmse  111 = 0.8488965353196638\n",
      "Rmse  112 = 0.8488521026331787\n",
      "Rmse  113 = 0.8488541483220221\n",
      "Rmse  114 = 0.8487901342191657\n",
      "Rmse  115 = 0.8487951670431154\n",
      "Rmse  116 = 0.8487609642172652\n",
      "Rmse  117 = 0.8487441403320609\n",
      "Rmse  118 = 0.8487597360169703\n",
      "Rmse  119 = 0.8487001870086353\n",
      "Rmse  120 = 0.8486365639596816\n",
      "Rmse  121 = 0.8486149554619871\n",
      "Rmse  122 = 0.8485671616096114\n",
      "Rmse  123 = 0.848515928109989\n",
      "Rmse  124 = 0.8484939331494645\n",
      "Rmse  125 = 0.8484861687179933\n",
      "Rmse  126 = 0.8484757428354224\n",
      "Rmse  127 = 0.8484341529495026\n",
      "Rmse  128 = 0.8484152826949297\n",
      "Rmse  129 = 0.8483775807836679\n",
      "Rmse  130 = 0.8483510391306052\n",
      "Rmse  131 = 0.8483633669575449\n",
      "Rmse  132 = 0.8483420668648347\n",
      "Rmse  133 = 0.8483058655086876\n",
      "Rmse  134 = 0.8482829766701027\n",
      "Rmse  135 = 0.8482843747512672\n",
      "Rmse  136 = 0.8482647216905873\n",
      "Rmse  137 = 0.8482760897608841\n",
      "Rmse  138 = 0.8482671845052232\n",
      "Rmse  139 = 0.8482378494621851\n",
      "Rmse  140 = 0.8482116110895376\n",
      "Rmse  141 = 0.8482176194989026\n",
      "Rmse  142 = 0.8482239633040783\n",
      "Rmse  143 = 0.848224419805449\n",
      "Rmse  144 = 0.8481817886417833\n",
      "Rmse  145 = 0.848179792401041\n",
      "Rmse  146 = 0.8482059775572953\n",
      "Rmse  147 = 0.8482232421166599\n",
      "Rmse  148 = 0.8481472208360873\n",
      "Rmse  149 = 0.84813292099149\n",
      "Rmse  150 = 0.8481173230218887\n"
     ]
    }
   ],
   "source": [
    "rmse_val = []\n",
    "for K in range(150):\n",
    "    K = K+1\n",
    "    model = neighbors.KNeighborsRegressor(n_neighbors = K, weights ='distance')\n",
    "    model.fit(x_train, y_train)\n",
    "    pred = model.predict(x_test)\n",
    "    error = sqrt(mean_squared_error(y_test, pred))\n",
    "    rmse_val.append(error)\n",
    "    print('Rmse ',K,'=',error)"
   ]
  },
  {
   "cell_type": "code",
   "execution_count": 8,
   "metadata": {},
   "outputs": [
    {
     "data": {
      "text/plain": [
       "<Axes: >"
      ]
     },
     "execution_count": 8,
     "metadata": {},
     "output_type": "execute_result"
    },
    {
     "data": {
      "image/png": "[encoded data removed]",
      "text/plain": [
       "<Figure size 640x480 with 1 Axes>"
      ]
     },
     "metadata": {},
     "output_type": "display_data"
    }
   ],
   "source": [
    "curve2 = pd.DataFrame(rmse_val)\n",
    "curve2.plot()"
   ]
  },
  {
   "cell_type": "code",
   "execution_count": 9,
   "metadata": {},
   "outputs": [
    {
     "name": "stdout",
     "output_type": "stream",
     "text": [
      "Rmse  1 = 1.0964470357501235\n",
      "Rmse  2 = 0.9896802249863503\n",
      "Rmse  3 = 0.9484484782049668\n",
      "Rmse  4 = 0.929375536548149\n",
      "Rmse  5 = 0.9152605121477724\n",
      "Rmse  6 = 0.9074877102074799\n",
      "Rmse  7 = 0.9003023271933578\n",
      "Rmse  8 = 0.8952548914288612\n",
      "Rmse  9 = 0.8918340282279743\n",
      "Rmse  10 = 0.8887685384660193\n",
      "Rmse  11 = 0.8861045397996767\n",
      "Rmse  12 = 0.8834374429175941\n",
      "Rmse  13 = 0.8815464278673592\n",
      "Rmse  14 = 0.8792586527499465\n",
      "Rmse  15 = 0.8778936244050152\n",
      "Rmse  16 = 0.8759784892407461\n",
      "Rmse  17 = 0.8745780679418466\n",
      "Rmse  18 = 0.8733187079844421\n",
      "Rmse  19 = 0.8720091893274603\n",
      "Rmse  20 = 0.8710055557900998\n",
      "Rmse  21 = 0.8702947087455656\n",
      "Rmse  22 = 0.8693007308211771\n",
      "Rmse  23 = 0.868583204865987\n",
      "Rmse  24 = 0.8678467575585336\n",
      "Rmse  25 = 0.8669966493863285\n",
      "Rmse  26 = 0.8663562077434545\n",
      "Rmse  27 = 0.8653221587728813\n",
      "Rmse  28 = 0.8647834428647361\n",
      "Rmse  29 = 0.8641051541446393\n",
      "Rmse  30 = 0.8636637501750546\n",
      "Rmse  31 = 0.8630837969278051\n",
      "Rmse  32 = 0.8625167200144688\n",
      "Rmse  33 = 0.8619918014260913\n",
      "Rmse  34 = 0.8615716250107657\n",
      "Rmse  35 = 0.8612183878630935\n",
      "Rmse  36 = 0.8608669928066339\n",
      "Rmse  37 = 0.860377007319668\n",
      "Rmse  38 = 0.8599142320428952\n",
      "Rmse  39 = 0.8595715388598995\n",
      "Rmse  40 = 0.8592541208820046\n",
      "Rmse  41 = 0.8588353022108085\n",
      "Rmse  42 = 0.8584548563001994\n",
      "Rmse  43 = 0.8580690455557544\n",
      "Rmse  44 = 0.8577367769572254\n",
      "Rmse  45 = 0.8574056880069714\n",
      "Rmse  46 = 0.8572046120900826\n",
      "Rmse  47 = 0.8570121143566558\n",
      "Rmse  48 = 0.8566645680800431\n",
      "Rmse  49 = 0.8564547035412141\n",
      "Rmse  50 = 0.8562158504038736\n",
      "Rmse  51 = 0.8559220772801126\n",
      "Rmse  52 = 0.8557792791794989\n",
      "Rmse  53 = 0.8555554619421991\n",
      "Rmse  54 = 0.8554301791500587\n",
      "Rmse  55 = 0.855162178528269\n",
      "Rmse  56 = 0.8550568634544468\n",
      "Rmse  57 = 0.8548800171628136\n",
      "Rmse  58 = 0.8547269888772496\n",
      "Rmse  59 = 0.8545501878359908\n",
      "Rmse  60 = 0.8544529351026487\n",
      "Rmse  61 = 0.8542924896530442\n",
      "Rmse  62 = 0.854156494421457\n",
      "Rmse  63 = 0.8540238292981854\n",
      "Rmse  64 = 0.8538994178574899\n",
      "Rmse  65 = 0.8536661105411377\n",
      "Rmse  66 = 0.8535508695219282\n",
      "Rmse  67 = 0.8534406236711318\n",
      "Rmse  68 = 0.8533681006477557\n",
      "Rmse  69 = 0.8532581891706347\n",
      "Rmse  70 = 0.8530803451697855\n",
      "Rmse  71 = 0.8529956361988479\n",
      "Rmse  72 = 0.8528576903465398\n",
      "Rmse  73 = 0.8527666978750896\n",
      "Rmse  74 = 0.8526058819426577\n",
      "Rmse  75 = 0.8525233389972556\n",
      "Rmse  76 = 0.8524280424212441\n",
      "Rmse  77 = 0.852334030351328\n",
      "Rmse  78 = 0.8522548989147208\n",
      "Rmse  79 = 0.8521688400346589\n",
      "Rmse  80 = 0.8520518780145663\n",
      "Rmse  81 = 0.8519721070001086\n",
      "Rmse  82 = 0.8519496494503844\n",
      "Rmse  83 = 0.8518521373805962\n",
      "Rmse  84 = 0.8518065566045574\n",
      "Rmse  85 = 0.8517248959183058\n",
      "Rmse  86 = 0.8516421941076073\n",
      "Rmse  87 = 0.8515891118914986\n",
      "Rmse  88 = 0.8515216690804757\n",
      "Rmse  89 = 0.851484717914945\n",
      "Rmse  90 = 0.8514133359855562\n",
      "Rmse  91 = 0.8513740442084331\n",
      "Rmse  92 = 0.8513207499452196\n",
      "Rmse  93 = 0.8512024258456108\n",
      "Rmse  94 = 0.8511528288040875\n",
      "Rmse  95 = 0.8511179340230979\n",
      "Rmse  96 = 0.8510739079853528\n",
      "Rmse  97 = 0.8510267962060136\n",
      "Rmse  98 = 0.8510005982676442\n",
      "Rmse  99 = 0.8509035646842544\n",
      "Rmse  100 = 0.8508625475314268\n",
      "Rmse  101 = 0.8508734408039993\n",
      "Rmse  102 = 0.850819629272436\n",
      "Rmse  103 = 0.8507789923307416\n",
      "Rmse  104 = 0.8507351250352022\n",
      "Rmse  105 = 0.8507173613108883\n",
      "Rmse  106 = 0.8506203695281332\n",
      "Rmse  107 = 0.8505941328623756\n",
      "Rmse  108 = 0.850580026717547\n",
      "Rmse  109 = 0.8505294972419066\n",
      "Rmse  110 = 0.8504591983560517\n",
      "Rmse  111 = 0.8504452505230752\n",
      "Rmse  112 = 0.8504334756652974\n",
      "Rmse  113 = 0.8504392677661456\n",
      "Rmse  114 = 0.8504219033782088\n",
      "Rmse  115 = 0.8503959256170479\n",
      "Rmse  116 = 0.8503655164384996\n",
      "Rmse  117 = 0.8502956097757298\n",
      "Rmse  118 = 0.8502865166527183\n",
      "Rmse  119 = 0.8503089201081904\n",
      "Rmse  120 = 0.8503059824388508\n",
      "Rmse  121 = 0.8503234751586021\n",
      "Rmse  122 = 0.8503164516770931\n",
      "Rmse  123 = 0.850298708617801\n",
      "Rmse  124 = 0.8502551323886108\n",
      "Rmse  125 = 0.8502673800176375\n",
      "Rmse  126 = 0.8502231022949484\n",
      "Rmse  127 = 0.85018256105144\n",
      "Rmse  128 = 0.8501692417963751\n",
      "Rmse  129 = 0.8501499777570171\n",
      "Rmse  130 = 0.8501560200047923\n",
      "Rmse  131 = 0.8501448925623487\n",
      "Rmse  132 = 0.8501414393478472\n",
      "Rmse  133 = 0.8501618463699601\n",
      "Rmse  134 = 0.8501967360888681\n",
      "Rmse  135 = 0.8501925070775773\n",
      "Rmse  136 = 0.8501757741673105\n",
      "Rmse  137 = 0.8501793913220256\n",
      "Rmse  138 = 0.850221068481168\n",
      "Rmse  139 = 0.8502237817797966\n",
      "Rmse  140 = 0.8502417618948724\n",
      "Rmse  141 = 0.8502877198814522\n",
      "Rmse  142 = 0.8503018850572679\n",
      "Rmse  143 = 0.8503043760610904\n",
      "Rmse  144 = 0.8502944550314365\n",
      "Rmse  145 = 0.8502745109734089\n",
      "Rmse  146 = 0.8502721544190956\n",
      "Rmse  147 = 0.8503260295837939\n",
      "Rmse  148 = 0.8503378973440544\n",
      "Rmse  149 = 0.8503334140460551\n",
      "Rmse  150 = 0.8503665167036428\n"
     ]
    }
   ],
   "source": [
    "rmse_val = []\n",
    "for K in range(150):\n",
    "    K = K+1\n",
    "    model = neighbors.KNeighborsRegressor(n_neighbors = K, weights ='distance',p=1)\n",
    "    model.fit(x_train, y_train)\n",
    "    pred = model.predict(x_test)\n",
    "    error = sqrt(mean_squared_error(y_test, pred))\n",
    "    rmse_val.append(error)\n",
    "    print('Rmse ',K,'=',error)"
   ]
  },
  {
   "cell_type": "code",
   "execution_count": 10,
   "metadata": {},
   "outputs": [
    {
     "data": {
      "text/plain": [
       "<Axes: >"
      ]
     },
     "execution_count": 10,
     "metadata": {},
     "output_type": "execute_result"
    },
    {
     "data": {
      "image/png": "[encoded data removed]",
      "text/plain": [
       "<Figure size 640x480 with 1 Axes>"
      ]
     },
     "metadata": {},
     "output_type": "display_data"
    }
   ],
   "source": [
    "curve3 = pd.DataFrame(rmse_val)\n",
    "curve3.plot()"
   ]
  },
  {
   "cell_type": "markdown",
   "metadata": {},
   "source": [
    "### 결국에는 K값을 어떤 값으로 지정하는 게 가장 좋은 것인가?\n",
    "- 그럼 KNN 모델을 통해서 단순하게 최소의 RMSE 나온 것이 가장 뛰어난 모델이라고 말할 수 있는가?\n",
    "- KNN 이웃수 50개 이상으로 해서 최적의 모델을 도출했습니다!"
   ]
  }
 ],
 "metadata": {
  "kernelspec": {
   "display_name": "Python 3",
   "language": "python",
   "name": "python3"
  },
  "language_info": {
   "codemirror_mode": {
    "name": "ipython",
    "version": 3
   },
   "file_extension": ".py",
   "mimetype": "text/x-python",
   "name": "python",
   "nbconvert_exporter": "python",
   "pygments_lexer": "ipython3",
   "version": "3.10.11"
  }
 },
 "nbformat": 4,
 "nbformat_minor": 2
}
