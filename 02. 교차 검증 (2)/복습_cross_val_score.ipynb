{
 "cells": [
  {
   "cell_type": "code",
   "execution_count": 26,
   "metadata": {},
   "outputs": [],
   "source": [
    "from sklearn.tree import DecisionTreeClassifier\n",
    "from sklearn.ensemble import RandomForestClassifier\n",
    "from sklearn.linear_model import LogisticRegression\n",
    "from sklearn.model_selection import cross_val_score, cross_validate\n",
    "from sklearn.datasets import load_iris\n",
    "import numpy as np\n",
    "import pandas as pd"
   ]
  },
  {
   "cell_type": "code",
   "execution_count": 27,
   "metadata": {},
   "outputs": [],
   "source": [
    "import warnings\n",
    "warnings.filterwarnings('ignore')"
   ]
  },
  {
   "cell_type": "markdown",
   "metadata": {},
   "source": [
    "## cross_val_score(model, x, Y, scoring, cv, n_jobs, verbose, ... )\n",
    "- 장점 : 소요 시간, train, test에 대한, 내가 원하는 지표를 다 볼 수 있다\n",
    "- model : 사용할 모델 ex) decisiontreeclassifier\n",
    "- scoring : 평가할 스코어링 방법 ex) 'precision', 'accuracy' ...\n",
    "- cv:  몇번 교차 검증할 것인가?\n",
    "- n_jobs: ( cpu사용에 대한 지정 -1)\n",
    "- verbose : 진행 상황 보기"
   ]
  },
  {
   "cell_type": "code",
   "execution_count": 28,
   "metadata": {},
   "outputs": [],
   "source": [
    "iris_data = load_iris()\n",
    "\n",
    "data = iris_data.data\n",
    "label = iris_data.target"
   ]
  },
  {
   "cell_type": "code",
   "execution_count": 29,
   "metadata": {},
   "outputs": [],
   "source": [
    "dt_clf = DecisionTreeClassifier(random_state=111)"
   ]
  },
  {
   "cell_type": "code",
   "execution_count": 30,
   "metadata": {},
   "outputs": [
    {
     "name": "stdout",
     "output_type": "stream",
     "text": [
      "0.96\n"
     ]
    }
   ],
   "source": [
    "#cross_val_scrore(모델, 데이터, 라벨, 평가지표(scoring), 반복횟수(cv))\n",
    "scores = cross_val_score(dt_clf, data, label, scoring='accuracy', cv=5) # 5번의 정확도 평가가 되고 리스트 형태로 scores에 저장\n",
    "print(np.round(np.mean(scores), 3))                                     # mean을 이용하여 5번의 정확도의 평균을 출력"
   ]
  },
  {
   "cell_type": "code",
   "execution_count": 31,
   "metadata": {},
   "outputs": [
    {
     "data": {
      "text/html": [
       "<div>\n",
       "<style scoped>\n",
       "    .dataframe tbody tr th:only-of-type {\n",
       "        vertical-align: middle;\n",
       "    }\n",
       "\n",
       "    .dataframe tbody tr th {\n",
       "        vertical-align: top;\n",
       "    }\n",
       "\n",
       "    .dataframe thead th {\n",
       "        text-align: right;\n",
       "    }\n",
       "</style>\n",
       "<table border=\"1\" class=\"dataframe\">\n",
       "  <thead>\n",
       "    <tr style=\"text-align: right;\">\n",
       "      <th></th>\n",
       "      <th>fit_time</th>\n",
       "      <th>score_time</th>\n",
       "      <th>test_score</th>\n",
       "      <th>train_score</th>\n",
       "    </tr>\n",
       "  </thead>\n",
       "  <tbody>\n",
       "    <tr>\n",
       "      <th>0</th>\n",
       "      <td>0.001204</td>\n",
       "      <td>0.000500</td>\n",
       "      <td>0.966667</td>\n",
       "      <td>1.0</td>\n",
       "    </tr>\n",
       "    <tr>\n",
       "      <th>1</th>\n",
       "      <td>0.001006</td>\n",
       "      <td>0.000000</td>\n",
       "      <td>0.966667</td>\n",
       "      <td>1.0</td>\n",
       "    </tr>\n",
       "    <tr>\n",
       "      <th>2</th>\n",
       "      <td>0.001001</td>\n",
       "      <td>0.001006</td>\n",
       "      <td>0.900000</td>\n",
       "      <td>1.0</td>\n",
       "    </tr>\n",
       "    <tr>\n",
       "      <th>3</th>\n",
       "      <td>0.001037</td>\n",
       "      <td>0.000000</td>\n",
       "      <td>0.966667</td>\n",
       "      <td>1.0</td>\n",
       "    </tr>\n",
       "    <tr>\n",
       "      <th>4</th>\n",
       "      <td>0.000000</td>\n",
       "      <td>0.001001</td>\n",
       "      <td>1.000000</td>\n",
       "      <td>1.0</td>\n",
       "    </tr>\n",
       "  </tbody>\n",
       "</table>\n",
       "</div>"
      ],
      "text/plain": [
       "   fit_time  score_time  test_score  train_score\n",
       "0  0.001204    0.000500    0.966667          1.0\n",
       "1  0.001006    0.000000    0.966667          1.0\n",
       "2  0.001001    0.001006    0.900000          1.0\n",
       "3  0.001037    0.000000    0.966667          1.0\n",
       "4  0.000000    0.001001    1.000000          1.0"
      ]
     },
     "execution_count": 31,
     "metadata": {},
     "output_type": "execute_result"
    }
   ],
   "source": [
    "crs = cross_validate(dt_clf, data, label, scoring='accuracy', cv=5, return_train_score=True)\n",
    "pd.DataFrame(crs)"
   ]
  },
  {
   "cell_type": "code",
   "execution_count": 32,
   "metadata": {},
   "outputs": [
    {
     "data": {
      "text/plain": [
       "array([0.96666667, 0.96666667, 0.9       , 0.96666667, 1.        ])"
      ]
     },
     "execution_count": 32,
     "metadata": {},
     "output_type": "execute_result"
    }
   ],
   "source": [
    "scores"
   ]
  },
  {
   "cell_type": "markdown",
   "metadata": {},
   "source": [
    "## 평가지표 - 이진분류 vs 다중분류 "
   ]
  },
  {
   "cell_type": "code",
   "execution_count": 33,
   "metadata": {},
   "outputs": [
    {
     "data": {
      "text/plain": [
       "array([nan, nan, nan, nan, nan])"
      ]
     },
     "execution_count": 33,
     "metadata": {},
     "output_type": "execute_result"
    }
   ],
   "source": [
    "scores = cross_val_score(dt_clf, data, label, scoring='f1', cv=5)\n",
    "scores"
   ]
  },
  {
   "cell_type": "code",
   "execution_count": 34,
   "metadata": {},
   "outputs": [
    {
     "data": {
      "text/plain": [
       "array([nan, nan, nan, nan, nan])"
      ]
     },
     "execution_count": 34,
     "metadata": {},
     "output_type": "execute_result"
    }
   ],
   "source": [
    "scores = cross_val_score(dt_clf, data, label, scoring='precision', cv=5)\n",
    "scores"
   ]
  },
  {
   "cell_type": "markdown",
   "metadata": {},
   "source": [
    "왜 f1, precision에 대한 교차 검증의 값이 NaN인가?\n",
    "\n",
    "- 이진분류: 0, 1로 나뉘어 있어서 정확도, 정밀도, 재현율, f1스코어 등 0, 1 이진 분류에만 디폴트로 적용된다. 따라서 이진분류는 문제 없이 값들이 나온다   \n",
    "\n",
    "- 다중분류: 0, 1, 2를 디폴트로 값이 평가되기 때문에 NaN으로 나오게 된다 \n"
   ]
  },
  {
   "cell_type": "markdown",
   "metadata": {},
   "source": [
    "## 다중분류 진행 시 정확도 외 다른 평가지표에 대한 가중치 설정 방법\n",
    "\n",
    "- 다중 분류시 평가지표를 확인하기 위해서는 _micro, _macro, _weighted 이런 식으로 사용하면 된다\n",
    "\n",
    "- macro : 모든 예측 결과에 대해서 평균을 내어서 값을 계산하는 방법 --> 계산 후 평균\n",
    "\n",
    "- micro : 각각의 정답에 대한 개수를 가지고 나눠서 평균값을 구한다 --> 데이터를 합쳐서 계산\n",
    "\n",
    "- weighted : 가중 평균값을 구한다. 가중치를 주고 싶은 것에 줄 수 있다 "
   ]
  },
  {
   "cell_type": "code",
   "execution_count": 35,
   "metadata": {},
   "outputs": [
    {
     "data": {
      "text/plain": [
       "array([nan, nan, nan, nan, nan])"
      ]
     },
     "execution_count": 35,
     "metadata": {},
     "output_type": "execute_result"
    }
   ],
   "source": [
    "# iris 데이터의 경우 label의 값이 0, 1, 2로 이진 분류가 아니다 --> 디폴트로 이진 분류가 적용되는 기존 평가 방식으로는 계산되지 않는다\n",
    "cross_val_score(dt_clf, data, label, scoring='precision', cv=5)"
   ]
  },
  {
   "cell_type": "code",
   "execution_count": 37,
   "metadata": {},
   "outputs": [
    {
     "data": {
      "text/plain": [
       "array([0.96969697, 0.96969697, 0.9023569 , 0.96969697, 1.        ])"
      ]
     },
     "execution_count": 37,
     "metadata": {},
     "output_type": "execute_result"
    }
   ],
   "source": [
    "# ex1) _macro\n",
    "macro = cross_val_score(dt_clf, data, label, scoring='precision_macro', cv=5)\n",
    "macro"
   ]
  },
  {
   "cell_type": "code",
   "execution_count": 38,
   "metadata": {},
   "outputs": [
    {
     "data": {
      "text/plain": [
       "array([0.96666667, 0.96666667, 0.9       , 0.96666667, 1.        ])"
      ]
     },
     "execution_count": 38,
     "metadata": {},
     "output_type": "execute_result"
    }
   ],
   "source": [
    "# ex2) _micro\n",
    "micro = cross_val_score(dt_clf, data, label, scoring='precision_micro', cv=5)\n",
    "micro"
   ]
  },
  {
   "cell_type": "code",
   "execution_count": 39,
   "metadata": {},
   "outputs": [
    {
     "data": {
      "text/plain": [
       "array([0.96969697, 0.96969697, 0.9023569 , 0.96969697, 1.        ])"
      ]
     },
     "execution_count": 39,
     "metadata": {},
     "output_type": "execute_result"
    }
   ],
   "source": [
    "# ex3) _weighted\n",
    "weighted = cross_val_score(dt_clf, data, label, scoring='precision_weighted', cv=5)\n",
    "weighted"
   ]
  },
  {
   "cell_type": "code",
   "execution_count": 44,
   "metadata": {},
   "outputs": [
    {
     "name": "stdout",
     "output_type": "stream",
     "text": [
      "0.962 0.96 0.962\n"
     ]
    }
   ],
   "source": [
    "print(round(np.mean(macro), 3), round(np.mean(micro), 3), round(np.mean(weighted), 3))"
   ]
  },
  {
   "cell_type": "markdown",
   "metadata": {},
   "source": [
    "하나의 예시로 4개의 라벨(0, 1, 2, 3)이 있다고 가정해보자.   \n",
    "precision 값을 계산해보니 (0.5, 0.1, 0.5, 0.5)가 순서대로 나왔다고 해보자.   \n",
    "cf) (1/2, 10/100, 1/2, 1/2)\n",
    "\n",
    "- macro: (0.5 + 0.1 + 0.5 + 0.5) / 4\n",
    "- micro: (1 + 10 + 1 + 1) / (2 + 100 + 2 + 2)\n",
    "\n",
    "=> 그렇다면 이 두 가지는 언제 사용해야 하는가? 둘의 차이는 무엇인가??   \n",
    "Ans) 클래스에 대한 불균형이 있을 때(같은 비율이더라도 분모가 큰 경우가 있으니) micro는 이를 반영한다\n",
    "\n",
    "예를 들어, (0, 1, 2, 3)의 라벨에 대해 (2, 100, 2, 2)의 데이터가 있다면,   \n",
    "랜덤하게 데이터를 뽑을 때 확률적으로 1을 뽑을 확률이 높은 것은 당연하다   \n",
    "=> 데이터의 불균형이 있다"
   ]
  },
  {
   "cell_type": "markdown",
   "metadata": {},
   "source": [
    "## LeaveOneOut 교차 검증\n",
    "\n"
   ]
  },
  {
   "cell_type": "code",
   "execution_count": 45,
   "metadata": {},
   "outputs": [
    {
     "name": "stdout",
     "output_type": "stream",
     "text": [
      "150\n",
      "0.94\n"
     ]
    }
   ],
   "source": [
    "from sklearn.model_selection import LeaveOneOut\n",
    "\n",
    "loo = LeaveOneOut()\n",
    "\n",
    "scores = cross_val_score(dt_clf, data, label, scoring='accuracy', cv=loo)\n",
    "\n",
    "print(len(scores))  # 데이터의 수만큼\n",
    "print(scores.mean())"
   ]
  },
  {
   "cell_type": "code",
   "execution_count": 47,
   "metadata": {},
   "outputs": [],
   "source": [
    "import seaborn as sns\n",
    "dt_clf = DecisionTreeClassifier(random_state=111)\n",
    "df = sns.load_dataset('titanic')\n",
    "df_tt = df[['pclass', 'fare']]"
   ]
  },
  {
   "cell_type": "markdown",
   "metadata": {},
   "source": [
    "## Group교차검증\n",
    "\n",
    "- 그룹핑은 그룹핑 데이터를 가지고 교차검증할 때 더 좋은 성능을 보여줄 수 있다.\n",
    "- 단순하게 교차검증을 cross 하는 게 아니라\n",
    "- 데이터의 특성을 보고 내가 분석  할 것이 어떤 클래스별의 수치를 비교하는 것이라면 교차검증 자체도 그룹핑으로 접근할 수 있는 것"
   ]
  },
  {
   "cell_type": "code",
   "execution_count": 51,
   "metadata": {},
   "outputs": [
    {
     "name": "stdout",
     "output_type": "stream",
     "text": [
      "******************사용한 알고리즘 DT ******************\n",
      "accuracy 0.686\n",
      "precision 0.617\n",
      "recall 0.465\n",
      "f1 0.527\n",
      "******************사용한 알고리즘 RF ******************\n",
      "accuracy 0.701\n",
      "precision 0.636\n",
      "recall 0.535\n",
      "f1 0.573\n",
      "******************사용한 알고리즘 LR ******************\n",
      "accuracy 0.679\n",
      "precision 0.63\n",
      "recall 0.398\n",
      "f1 0.483\n"
     ]
    }
   ],
   "source": [
    "## cross val 응용하기 \n",
    "model = [DecisionTreeClassifier(),RandomForestClassifier(),LogisticRegression()] \n",
    "name = ['DT','RF','LR']\n",
    "\n",
    "for model ,name in zip(model, name):\n",
    "    print('******************사용한 알고리즘',name,'******************')\n",
    "    for score in ['accuracy','precision','recall','f1']:\n",
    "        print(score, round(np.mean(cross_val_score(model, df_tt, df['survived'], scoring=score,cv=10)),3))"
   ]
  },
  {
   "cell_type": "markdown",
   "metadata": {},
   "source": [
    "## 평가지표\n",
    "\n",
    "- 분류\n",
    "- 회귀"
   ]
  },
  {
   "cell_type": "markdown",
   "metadata": {},
   "source": [
    "### 분류\n",
    "\n",
    "- 정확도, 정밀도, 재현율, f1, roc\n",
    "- 구성 요소가 어떤 식으로 되어 있는 것인가\n",
    "- 정밀도와 재현율의 차이가 어떤 상황에 맞는 것인가\n",
    "- 왜 그래서 f1 스코어를 보는 것인가\n",
    "- roc 커브에 x축과 y축이 의미하는 것은 무엇인"
   ]
  },
  {
   "cell_type": "markdown",
   "metadata": {},
   "source": [
    "- 정확도(Accuracy) : 맞춘 예측 수 / 전체 예측 데이터 건수\n",
    "cf) 이진 분류(0, 1)이 default이고 0을 0으로 맞추고, 1을 1로 맞춘 것이 모두 맞춘 수에 포함   \n",
    "   "
   ]
  },
  {
   "cell_type": "markdown",
   "metadata": {},
   "source": [
    "```\n",
    "            - 예측값 -\n",
    "         0             1\n",
    "\n",
    "    0    TN            FP\n",
    "실       \n",
    "제   \n",
    "값   \n",
    "    1    FN            TP\n",
    "```\n",
    "\n",
    "- TN: True Negative     - 0으로 맞춘 경우(예측 성공)\n",
    "- FP: False Positive    - 1로 맞추지 못한 경우(예측 실패)\n",
    "- FN: False Negative    - 0으로 맞추지 못한 경우(예측 실패)\n",
    "- TP: True Positive     - 1로 맞춘 경우(예측 성공)"
   ]
  }
 ],
 "metadata": {
  "kernelspec": {
   "display_name": "Python 3",
   "language": "python",
   "name": "python3"
  },
  "language_info": {
   "codemirror_mode": {
    "name": "ipython",
    "version": 3
   },
   "file_extension": ".py",
   "mimetype": "text/x-python",
   "name": "python",
   "nbconvert_exporter": "python",
   "pygments_lexer": "ipython3",
   "version": "3.10.11"
  },
  "orig_nbformat": 4
 },
 "nbformat": 4,
 "nbformat_minor": 2
}
