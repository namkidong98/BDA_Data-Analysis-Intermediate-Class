{
 "cells": [
  {
   "cell_type": "code",
   "execution_count": 14,
   "metadata": {},
   "outputs": [],
   "source": [
    "from sklearn.tree import DecisionTreeClassifier\n",
    "from sklearn.ensemble import RandomForestClassifier\n",
    "from sklearn.linear_model import LogisticRegression\n",
    "from sklearn.model_selection import cross_val_score, cross_validate\n",
    "from sklearn.datasets import load_iris\n",
    "import numpy as np\n",
    "import pandas as pd\n",
    "import warnings\n",
    "warnings.filterwarnings('ignore')"
   ]
  },
  {
   "cell_type": "code",
   "execution_count": 25,
   "metadata": {},
   "outputs": [
    {
     "data": {
      "text/html": [
       "<div>\n",
       "<style scoped>\n",
       "    .dataframe tbody tr th:only-of-type {\n",
       "        vertical-align: middle;\n",
       "    }\n",
       "\n",
       "    .dataframe tbody tr th {\n",
       "        vertical-align: top;\n",
       "    }\n",
       "\n",
       "    .dataframe thead th {\n",
       "        text-align: right;\n",
       "    }\n",
       "</style>\n",
       "<table border=\"1\" class=\"dataframe\">\n",
       "  <thead>\n",
       "    <tr style=\"text-align: right;\">\n",
       "      <th></th>\n",
       "      <th>survived</th>\n",
       "      <th>pclass</th>\n",
       "      <th>sex</th>\n",
       "      <th>age</th>\n",
       "      <th>sibsp</th>\n",
       "      <th>parch</th>\n",
       "      <th>fare</th>\n",
       "      <th>embarked</th>\n",
       "      <th>alone</th>\n",
       "    </tr>\n",
       "  </thead>\n",
       "  <tbody>\n",
       "    <tr>\n",
       "      <th>0</th>\n",
       "      <td>0</td>\n",
       "      <td>3</td>\n",
       "      <td>0</td>\n",
       "      <td>22</td>\n",
       "      <td>1</td>\n",
       "      <td>0</td>\n",
       "      <td>7.2500</td>\n",
       "      <td>0</td>\n",
       "      <td>0</td>\n",
       "    </tr>\n",
       "    <tr>\n",
       "      <th>1</th>\n",
       "      <td>1</td>\n",
       "      <td>1</td>\n",
       "      <td>1</td>\n",
       "      <td>38</td>\n",
       "      <td>1</td>\n",
       "      <td>0</td>\n",
       "      <td>71.2833</td>\n",
       "      <td>1</td>\n",
       "      <td>0</td>\n",
       "    </tr>\n",
       "    <tr>\n",
       "      <th>2</th>\n",
       "      <td>1</td>\n",
       "      <td>3</td>\n",
       "      <td>1</td>\n",
       "      <td>26</td>\n",
       "      <td>0</td>\n",
       "      <td>0</td>\n",
       "      <td>7.9250</td>\n",
       "      <td>0</td>\n",
       "      <td>1</td>\n",
       "    </tr>\n",
       "    <tr>\n",
       "      <th>3</th>\n",
       "      <td>1</td>\n",
       "      <td>1</td>\n",
       "      <td>1</td>\n",
       "      <td>35</td>\n",
       "      <td>1</td>\n",
       "      <td>0</td>\n",
       "      <td>53.1000</td>\n",
       "      <td>0</td>\n",
       "      <td>0</td>\n",
       "    </tr>\n",
       "    <tr>\n",
       "      <th>4</th>\n",
       "      <td>0</td>\n",
       "      <td>3</td>\n",
       "      <td>0</td>\n",
       "      <td>35</td>\n",
       "      <td>0</td>\n",
       "      <td>0</td>\n",
       "      <td>8.0500</td>\n",
       "      <td>0</td>\n",
       "      <td>1</td>\n",
       "    </tr>\n",
       "  </tbody>\n",
       "</table>\n",
       "</div>"
      ],
      "text/plain": [
       "   survived  pclass  sex  age  sibsp  parch     fare  embarked  alone\n",
       "0         0       3    0   22      1      0   7.2500         0      0\n",
       "1         1       1    1   38      1      0  71.2833         1      0\n",
       "2         1       3    1   26      0      0   7.9250         0      1\n",
       "3         1       1    1   35      1      0  53.1000         0      0\n",
       "4         0       3    0   35      0      0   8.0500         0      1"
      ]
     },
     "execution_count": 25,
     "metadata": {},
     "output_type": "execute_result"
    }
   ],
   "source": [
    "# 2주차 과제에서 전처리한 titanic 데이터를 활용한다\n",
    "df = pd.read_csv(\"titanic_preprocessed.csv\", index_col=0)\n",
    "df.head()"
   ]
  },
  {
   "cell_type": "code",
   "execution_count": 34,
   "metadata": {},
   "outputs": [],
   "source": [
    "data = df.drop('survived', axis=1)\n",
    "label = df['survived']\n",
    "\n",
    "model_dt = DecisionTreeClassifier(random_state=111)\n",
    "model_rf = RandomForestClassifier(random_state=111)\n",
    "model_lr = LogisticRegression(random_state=111)"
   ]
  },
  {
   "cell_type": "code",
   "execution_count": 35,
   "metadata": {},
   "outputs": [
    {
     "data": {
      "text/plain": [
       "survived\n",
       "0    458\n",
       "1    322\n",
       "Name: count, dtype: int64"
      ]
     },
     "execution_count": 35,
     "metadata": {},
     "output_type": "execute_result"
    }
   ],
   "source": [
    "label.value_counts() # 이진 분류이며 클래스별로 균등한 데이터가 아닌 상황"
   ]
  },
  {
   "cell_type": "code",
   "execution_count": 43,
   "metadata": {},
   "outputs": [
    {
     "data": {
      "text/plain": [
       "array([0.6474359 , 0.77564103, 0.75      , 0.75641026, 0.75641026])"
      ]
     },
     "execution_count": 43,
     "metadata": {},
     "output_type": "execute_result"
    }
   ],
   "source": [
    "scores = cross_val_score(model_dt, data, label, scoring='recall_weighted', cv=5)\n",
    "scores # label인 df['survived']는 0, 1 값만 있는 이진 분류이기 때문에 값이 나온다"
   ]
  },
  {
   "cell_type": "markdown",
   "metadata": {},
   "source": [
    "- _macro : 각 클래스를 동등한 가중치로 클래스별 측정 점수를 평균한다\n",
    "\n",
    "- _weighted : 샘플 개수에 비례하여 각 클래스별 측정 점수를 평균한다 --> 가중치 평균\n",
    "\n",
    "- 따라서 macro 옵션과 weighted 옵션의 값을 비교해보"
   ]
  },
  {
   "cell_type": "code",
   "execution_count": 44,
   "metadata": {},
   "outputs": [
    {
     "name": "stdout",
     "output_type": "stream",
     "text": [
      "precision_macro\n",
      "DecisionTreeClassifier(random_state=111) 0.731\n",
      "RandomForestClassifier(random_state=111) 0.767\n",
      "LogisticRegression(random_state=111) 0.766\n",
      "\n",
      "precision_weighted\n",
      "DecisionTreeClassifier(random_state=111) 0.739\n",
      "RandomForestClassifier(random_state=111) 0.772\n",
      "LogisticRegression(random_state=111) 0.772\n",
      "\n",
      "f1_macro\n",
      "DecisionTreeClassifier(random_state=111) 0.728\n",
      "RandomForestClassifier(random_state=111) 0.762\n",
      "LogisticRegression(random_state=111) 0.763\n",
      "\n",
      "f1_weighted\n",
      "DecisionTreeClassifier(random_state=111) 0.737\n",
      "RandomForestClassifier(random_state=111) 0.77\n",
      "LogisticRegression(random_state=111) 0.771\n",
      "\n",
      "recall_macro\n",
      "DecisionTreeClassifier(random_state=111) 0.728\n",
      "RandomForestClassifier(random_state=111) 0.76\n",
      "LogisticRegression(random_state=111) 0.762\n",
      "\n",
      "recall_weighted\n",
      "DecisionTreeClassifier(random_state=111) 0.737\n",
      "RandomForestClassifier(random_state=111) 0.772\n",
      "LogisticRegression(random_state=111) 0.772\n",
      "\n"
     ]
    }
   ],
   "source": [
    "scoring_list = ['precision_macro', 'precision_weighted', 'f1_macro', 'f1_weighted', 'recall_macro', 'recall_weighted']\n",
    "model_list = [model_dt, model_rf, model_lr]\n",
    "for scoring in scoring_list:\n",
    "    print(scoring)\n",
    "    for model in model_list:\n",
    "        print(model, round(np.mean(cross_val_score(model, data, label, scoring=scoring, cv=5)), 3))\n",
    "    print()"
   ]
  },
  {
   "cell_type": "markdown",
   "metadata": {},
   "source": [
    "## 출력 결과 \n",
    "```\n",
    "precision_macro\n",
    "DecisionTreeClassifier(random_state=111) 0.731\n",
    "RandomForestClassifier(random_state=111) 0.767\n",
    "LogisticRegression(random_state=111) 0.766\n",
    "\n",
    "precision_weighted\n",
    "DecisionTreeClassifier(random_state=111) 0.739\n",
    "RandomForestClassifier(random_state=111) 0.772\n",
    "LogisticRegression(random_state=111) 0.772\n",
    "\n",
    "f1_macro\n",
    "DecisionTreeClassifier(random_state=111) 0.728\n",
    "RandomForestClassifier(random_state=111) 0.762\n",
    "LogisticRegression(random_state=111) 0.763\n",
    "\n",
    "f1_weighted\n",
    "DecisionTreeClassifier(random_state=111) 0.737\n",
    "RandomForestClassifier(random_state=111) 0.77\n",
    "LogisticRegression(random_state=111) 0.771\n",
    "\n",
    "recall_macro\n",
    "DecisionTreeClassifier(random_state=111) 0.728\n",
    "RandomForestClassifier(random_state=111) 0.76\n",
    "LogisticRegression(random_state=111) 0.762\n",
    "\n",
    "recall_weighted\n",
    "DecisionTreeClassifier(random_state=111) 0.737\n",
    "RandomForestClassifier(random_state=111) 0.772\n",
    "LogisticRegression(random_state=111) 0.772\n",
    "```\n",
    "\n",
    "precision, f1, recall이라는 서로 다른 평가지표, 그리고 DT, RF, LR이라는 서로 다른 모델에 대해 계산을 하였을 때,   \n",
    "모두 공통적으로 macro에 비해 weighted가 높은 평가 지표 값을 보여주는 것을 확인할 수 있다.   \n",
    "이는 불균형한 데이터의 경우에도 weighted가 클래스별 불균형을 고려한 가중치를 사용하기 때문임으로 보인다.   \n"
   ]
  }
 ],
 "metadata": {
  "kernelspec": {
   "display_name": "Python 3",
   "language": "python",
   "name": "python3"
  },
  "language_info": {
   "codemirror_mode": {
    "name": "ipython",
    "version": 3
   },
   "file_extension": ".py",
   "mimetype": "text/x-python",
   "name": "python",
   "nbconvert_exporter": "python",
   "pygments_lexer": "ipython3",
   "version": "3.10.11"
  },
  "orig_nbformat": 4
 },
 "nbformat": 4,
 "nbformat_minor": 2
}
