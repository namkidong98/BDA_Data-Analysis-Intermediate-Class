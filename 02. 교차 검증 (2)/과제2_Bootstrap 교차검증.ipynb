{
 "cells": [
  {
   "cell_type": "code",
   "execution_count": 1,
   "metadata": {},
   "outputs": [],
   "source": [
    "import numpy as np\n",
    "import pandas as pd\n",
    "\n",
    "from sklearn.model_selection import KFold, StratifiedKFold, LeaveOneOut, cross_val_score\n",
    "from sklearn.tree import DecisionTreeClassifier\n",
    "\n",
    "import warnings\n",
    "warnings.filterwarnings('ignore')"
   ]
  },
  {
   "cell_type": "code",
   "execution_count": 2,
   "metadata": {},
   "outputs": [
    {
     "data": {
      "text/html": [
       "<div>\n",
       "<style scoped>\n",
       "    .dataframe tbody tr th:only-of-type {\n",
       "        vertical-align: middle;\n",
       "    }\n",
       "\n",
       "    .dataframe tbody tr th {\n",
       "        vertical-align: top;\n",
       "    }\n",
       "\n",
       "    .dataframe thead th {\n",
       "        text-align: right;\n",
       "    }\n",
       "</style>\n",
       "<table border=\"1\" class=\"dataframe\">\n",
       "  <thead>\n",
       "    <tr style=\"text-align: right;\">\n",
       "      <th></th>\n",
       "      <th>survived</th>\n",
       "      <th>pclass</th>\n",
       "      <th>sex</th>\n",
       "      <th>age</th>\n",
       "      <th>sibsp</th>\n",
       "      <th>parch</th>\n",
       "      <th>fare</th>\n",
       "      <th>embarked</th>\n",
       "      <th>alone</th>\n",
       "    </tr>\n",
       "  </thead>\n",
       "  <tbody>\n",
       "    <tr>\n",
       "      <th>0</th>\n",
       "      <td>0</td>\n",
       "      <td>3</td>\n",
       "      <td>0</td>\n",
       "      <td>22</td>\n",
       "      <td>1</td>\n",
       "      <td>0</td>\n",
       "      <td>7.2500</td>\n",
       "      <td>0</td>\n",
       "      <td>0</td>\n",
       "    </tr>\n",
       "    <tr>\n",
       "      <th>1</th>\n",
       "      <td>1</td>\n",
       "      <td>1</td>\n",
       "      <td>1</td>\n",
       "      <td>38</td>\n",
       "      <td>1</td>\n",
       "      <td>0</td>\n",
       "      <td>71.2833</td>\n",
       "      <td>1</td>\n",
       "      <td>0</td>\n",
       "    </tr>\n",
       "    <tr>\n",
       "      <th>2</th>\n",
       "      <td>1</td>\n",
       "      <td>3</td>\n",
       "      <td>1</td>\n",
       "      <td>26</td>\n",
       "      <td>0</td>\n",
       "      <td>0</td>\n",
       "      <td>7.9250</td>\n",
       "      <td>0</td>\n",
       "      <td>1</td>\n",
       "    </tr>\n",
       "    <tr>\n",
       "      <th>3</th>\n",
       "      <td>1</td>\n",
       "      <td>1</td>\n",
       "      <td>1</td>\n",
       "      <td>35</td>\n",
       "      <td>1</td>\n",
       "      <td>0</td>\n",
       "      <td>53.1000</td>\n",
       "      <td>0</td>\n",
       "      <td>0</td>\n",
       "    </tr>\n",
       "    <tr>\n",
       "      <th>4</th>\n",
       "      <td>0</td>\n",
       "      <td>3</td>\n",
       "      <td>0</td>\n",
       "      <td>35</td>\n",
       "      <td>0</td>\n",
       "      <td>0</td>\n",
       "      <td>8.0500</td>\n",
       "      <td>0</td>\n",
       "      <td>1</td>\n",
       "    </tr>\n",
       "  </tbody>\n",
       "</table>\n",
       "</div>"
      ],
      "text/plain": [
       "   survived  pclass  sex  age  sibsp  parch     fare  embarked  alone\n",
       "0         0       3    0   22      1      0   7.2500         0      0\n",
       "1         1       1    1   38      1      0  71.2833         1      0\n",
       "2         1       3    1   26      0      0   7.9250         0      1\n",
       "3         1       1    1   35      1      0  53.1000         0      0\n",
       "4         0       3    0   35      0      0   8.0500         0      1"
      ]
     },
     "execution_count": 2,
     "metadata": {},
     "output_type": "execute_result"
    }
   ],
   "source": [
    "df = pd.read_csv(\"titanic_preprocessed.csv\", index_col=0)\n",
    "df.head()"
   ]
  },
  {
   "cell_type": "code",
   "execution_count": 3,
   "metadata": {},
   "outputs": [],
   "source": [
    "data = df.drop('survived', axis=1)\n",
    "label = df['survived']\n",
    "model = DecisionTreeClassifier(random_state=111)"
   ]
  },
  {
   "cell_type": "code",
   "execution_count": 22,
   "metadata": {},
   "outputs": [],
   "source": [
    "kf = KFold(n_splits=10, shuffle=True, random_state=111)\n",
    "skf = StratifiedKFold(n_splits=10, shuffle=True, random_state=111)\n",
    "loo = LeaveOneOut()"
   ]
  },
  {
   "cell_type": "code",
   "execution_count": 24,
   "metadata": {},
   "outputs": [
    {
     "name": "stdout",
     "output_type": "stream",
     "text": [
      "K-Fold 교차검증 평균 정확도:  0.7449\n",
      "SK-Fold 교차검증 평균 정확도:  0.7372\n",
      "LeaveOneOut 교차검증 평균 정확도:  0.7295\n"
     ]
    }
   ],
   "source": [
    "print(\"K-Fold 교차검증 평균 정확도: \", round(np.mean(cross_val_score(model, data, label, scoring='accuracy', cv=kf)), 4))\n",
    "print(\"SK-Fold 교차검증 평균 정확도: \", round(np.mean(cross_val_score(model, data, label, scoring='accuracy', cv=skf)), 4))\n",
    "print(\"LeaveOneOut 교차검증 평균 정확도: \", round(np.mean(cross_val_score(model, data, label, scoring='accuracy', cv=loo)), 4))"
   ]
  },
  {
   "cell_type": "markdown",
   "metadata": {},
   "source": [
    "## Bootstrap 교차 검증 \n",
    "중복을 허용한 무작위 샘플링을 통해 각 Fold가 서로 다른 데이터를 가질 수 있다 --> 이를 통해 작은 데이터나 클래스 불균형에 의한 편향을 방지할 수 있다 "
   ]
  },
  {
   "cell_type": "code",
   "execution_count": 25,
   "metadata": {},
   "outputs": [
    {
     "name": "stdout",
     "output_type": "stream",
     "text": [
      "Bootstrap 교차 검증 평균 정확도: 0.8564102564102567\n"
     ]
    }
   ],
   "source": [
    "from sklearn.utils import resample\n",
    "\n",
    "n_iterations = 10\n",
    "bootstrap_scores = []\n",
    "\n",
    "for _ in range(n_iterations):\n",
    "    # 데이터를 무작위로 샘플링 (부트스트랩 샘플링)\n",
    "    X_sampled, y_sampled = resample(data, label, replace=True, random_state=111)\n",
    "    \n",
    "    # 모델을 훈련하고 평가\n",
    "    scores = cross_val_score(model, X_sampled, y_sampled, scoring='accuracy', cv=5)  # 5-Fold 교차 검증\n",
    "    bootstrap_scores.append(scores.mean())\n",
    "\n",
    "# Bootstrap 샘플링 결과의 평균을 계산하여 최종 성능을 얻음\n",
    "final_score = sum(bootstrap_scores) / n_iterations\n",
    "print(\"Bootstrap 교차 검증 평균 정확도:\", final_score)"
   ]
  }
 ],
 "metadata": {
  "kernelspec": {
   "display_name": "Python 3",
   "language": "python",
   "name": "python3"
  },
  "language_info": {
   "codemirror_mode": {
    "name": "ipython",
    "version": 3
   },
   "file_extension": ".py",
   "mimetype": "text/x-python",
   "name": "python",
   "nbconvert_exporter": "python",
   "pygments_lexer": "ipython3",
   "version": "3.10.11"
  },
  "orig_nbformat": 4
 },
 "nbformat": 4,
 "nbformat_minor": 2
}
