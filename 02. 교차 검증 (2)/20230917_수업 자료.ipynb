{
 "cells": [
  {
   "cell_type": "code",
   "execution_count": 1,
   "id": "44ea024f",
   "metadata": {},
   "outputs": [],
   "source": [
    "from sklearn.tree import DecisionTreeClassifier\n",
    "from sklearn.ensemble import RandomForestClassifier\n",
    "from sklearn.linear_model import LogisticRegression\n",
    "from sklearn.model_selection import cross_val_score, cross_validate\n",
    "from sklearn.datasets import load_iris\n",
    "import numpy as np"
   ]
  },
  {
   "cell_type": "markdown",
   "id": "220e9a00",
   "metadata": {},
   "source": [
    "### 교차검등 kf, skf 외에  검증 추가할 예정 \n",
    "- cross_val_score, cross_validate \n",
    "- 교차검증 가장 많이 사용하는 방법\n",
    "- 기능적으로 좋은 부분이 \n",
    "- 자체적으로 데이터 타입이 회귀 또는 분류에 따라서 kf ,skf 바꿔서 작업을 해준다.\n",
    "- 데이터의 불균형이나 이런 것들 또는 타입에 따른 데이터 검증 방법을 생각할 필요 없이 \n",
    "- 얘만 사용하면 편하게 가능하다!\n",
    "\n",
    "- cross_val_score(사용할 모델, x값, Y값, scoring( 평가할 스코어링 방법 ) , cv 몇번 교차 검증할 것인가?, n_jobs( cpu사용에 대한 지정 -1)\n",
    ", verbose (진행상황보기) 교차검증 되는 상황 체크 , fit_params 등등 )"
   ]
  },
  {
   "cell_type": "code",
   "execution_count": 2,
   "id": "3e2095f9",
   "metadata": {},
   "outputs": [],
   "source": [
    "iris_data = load_iris()\n",
    "\n",
    "data= iris_data.data\n",
    "label= iris_data.target"
   ]
  },
  {
   "cell_type": "code",
   "execution_count": 3,
   "id": "326bc218",
   "metadata": {},
   "outputs": [],
   "source": [
    "dt_clf = DecisionTreeClassifier(random_state=111)"
   ]
  },
  {
   "cell_type": "code",
   "execution_count": 4,
   "id": "84208839",
   "metadata": {},
   "outputs": [
    {
     "name": "stdout",
     "output_type": "stream",
     "text": [
      "0.96\n"
     ]
    }
   ],
   "source": [
    "#교차검증 진행\n",
    "scores = cross_val_score(dt_clf, data, label, scoring='accuracy',cv=5)\n",
    "print(np.round(np.mean(scores),3))"
   ]
  },
  {
   "cell_type": "code",
   "execution_count": null,
   "id": "9c45077d",
   "metadata": {},
   "outputs": [],
   "source": [
    "# cross validate\n",
    "# 소요시간, train, test에 대한 내가 원하는 지표를 다 볼 수 있다."
   ]
  },
  {
   "cell_type": "code",
   "execution_count": 5,
   "id": "a66c637a",
   "metadata": {},
   "outputs": [],
   "source": [
    "crs=cross_validate(dt_clf, data, label, scoring='accuracy',cv=5, return_train_score=True)"
   ]
  },
  {
   "cell_type": "code",
   "execution_count": 6,
   "id": "a43f1a9b",
   "metadata": {},
   "outputs": [
    {
     "data": {
      "text/plain": [
       "{'fit_time': array([0.00099969, 0.00199151, 0.        , 0.0010016 , 0.00100183]),\n",
       " 'score_time': array([0.00100708, 0.        , 0.0009973 , 0.        , 0.        ]),\n",
       " 'test_score': array([0.96666667, 0.96666667, 0.9       , 0.96666667, 1.        ]),\n",
       " 'train_score': array([1., 1., 1., 1., 1.])}"
      ]
     },
     "execution_count": 6,
     "metadata": {},
     "output_type": "execute_result"
    }
   ],
   "source": [
    "crs"
   ]
  },
  {
   "cell_type": "code",
   "execution_count": 7,
   "id": "aba0c616",
   "metadata": {},
   "outputs": [
    {
     "data": {
      "text/html": [
       "<div>\n",
       "<style scoped>\n",
       "    .dataframe tbody tr th:only-of-type {\n",
       "        vertical-align: middle;\n",
       "    }\n",
       "\n",
       "    .dataframe tbody tr th {\n",
       "        vertical-align: top;\n",
       "    }\n",
       "\n",
       "    .dataframe thead th {\n",
       "        text-align: right;\n",
       "    }\n",
       "</style>\n",
       "<table border=\"1\" class=\"dataframe\">\n",
       "  <thead>\n",
       "    <tr style=\"text-align: right;\">\n",
       "      <th></th>\n",
       "      <th>fit_time</th>\n",
       "      <th>score_time</th>\n",
       "      <th>test_score</th>\n",
       "      <th>train_score</th>\n",
       "    </tr>\n",
       "  </thead>\n",
       "  <tbody>\n",
       "    <tr>\n",
       "      <th>0</th>\n",
       "      <td>0.001000</td>\n",
       "      <td>0.001007</td>\n",
       "      <td>0.966667</td>\n",
       "      <td>1.0</td>\n",
       "    </tr>\n",
       "    <tr>\n",
       "      <th>1</th>\n",
       "      <td>0.001992</td>\n",
       "      <td>0.000000</td>\n",
       "      <td>0.966667</td>\n",
       "      <td>1.0</td>\n",
       "    </tr>\n",
       "    <tr>\n",
       "      <th>2</th>\n",
       "      <td>0.000000</td>\n",
       "      <td>0.000997</td>\n",
       "      <td>0.900000</td>\n",
       "      <td>1.0</td>\n",
       "    </tr>\n",
       "    <tr>\n",
       "      <th>3</th>\n",
       "      <td>0.001002</td>\n",
       "      <td>0.000000</td>\n",
       "      <td>0.966667</td>\n",
       "      <td>1.0</td>\n",
       "    </tr>\n",
       "    <tr>\n",
       "      <th>4</th>\n",
       "      <td>0.001002</td>\n",
       "      <td>0.000000</td>\n",
       "      <td>1.000000</td>\n",
       "      <td>1.0</td>\n",
       "    </tr>\n",
       "  </tbody>\n",
       "</table>\n",
       "</div>"
      ],
      "text/plain": [
       "   fit_time  score_time  test_score  train_score\n",
       "0  0.001000    0.001007    0.966667          1.0\n",
       "1  0.001992    0.000000    0.966667          1.0\n",
       "2  0.000000    0.000997    0.900000          1.0\n",
       "3  0.001002    0.000000    0.966667          1.0\n",
       "4  0.001002    0.000000    1.000000          1.0"
      ]
     },
     "execution_count": 7,
     "metadata": {},
     "output_type": "execute_result"
    }
   ],
   "source": [
    "import pandas as pd\n",
    "pd.DataFrame(crs)"
   ]
  },
  {
   "cell_type": "code",
   "execution_count": 16,
   "id": "ef4e8f84",
   "metadata": {
    "scrolled": true
   },
   "outputs": [
    {
     "data": {
      "text/plain": [
       "array([0.96666667, 0.96666667, 0.9       , 0.96666667, 1.        ])"
      ]
     },
     "execution_count": 16,
     "metadata": {},
     "output_type": "execute_result"
    }
   ],
   "source": [
    "scores"
   ]
  },
  {
   "cell_type": "markdown",
   "id": "e8b9ba38",
   "metadata": {},
   "source": [
    "## confusion matrix \n",
    "- 정확도, 정밀도, 재현율, f1스코어, auc, roc커브 등등 "
   ]
  },
  {
   "cell_type": "code",
   "execution_count": 17,
   "id": "bd5f7a58",
   "metadata": {},
   "outputs": [
    {
     "name": "stderr",
     "output_type": "stream",
     "text": [
      "/opt/anaconda3/envs/bda/lib/python3.8/site-packages/sklearn/model_selection/_validation.py:842: UserWarning: Scoring failed. The score on this train-test partition for these parameters will be set to nan. Details: \n",
      "Traceback (most recent call last):\n",
      "  File \"/opt/anaconda3/envs/bda/lib/python3.8/site-packages/sklearn/metrics/_scorer.py\", line 136, in __call__\n",
      "    score = scorer._score(\n",
      "  File \"/opt/anaconda3/envs/bda/lib/python3.8/site-packages/sklearn/metrics/_scorer.py\", line 355, in _score\n",
      "    return self._sign * self._score_func(y_true, y_pred, **scoring_kwargs)\n",
      "  File \"/opt/anaconda3/envs/bda/lib/python3.8/site-packages/sklearn/utils/_param_validation.py\", line 211, in wrapper\n",
      "    return func(*args, **kwargs)\n",
      "  File \"/opt/anaconda3/envs/bda/lib/python3.8/site-packages/sklearn/metrics/_classification.py\", line 2127, in precision_score\n",
      "    p, _, _, _ = precision_recall_fscore_support(\n",
      "  File \"/opt/anaconda3/envs/bda/lib/python3.8/site-packages/sklearn/utils/_param_validation.py\", line 184, in wrapper\n",
      "    return func(*args, **kwargs)\n",
      "  File \"/opt/anaconda3/envs/bda/lib/python3.8/site-packages/sklearn/metrics/_classification.py\", line 1721, in precision_recall_fscore_support\n",
      "    labels = _check_set_wise_labels(y_true, y_pred, average, labels, pos_label)\n",
      "  File \"/opt/anaconda3/envs/bda/lib/python3.8/site-packages/sklearn/metrics/_classification.py\", line 1516, in _check_set_wise_labels\n",
      "    raise ValueError(\n",
      "ValueError: Target is multiclass but average='binary'. Please choose another average setting, one of [None, 'micro', 'macro', 'weighted'].\n",
      "\n",
      "  warnings.warn(\n",
      "/opt/anaconda3/envs/bda/lib/python3.8/site-packages/sklearn/model_selection/_validation.py:842: UserWarning: Scoring failed. The score on this train-test partition for these parameters will be set to nan. Details: \n",
      "Traceback (most recent call last):\n",
      "  File \"/opt/anaconda3/envs/bda/lib/python3.8/site-packages/sklearn/metrics/_scorer.py\", line 136, in __call__\n",
      "    score = scorer._score(\n",
      "  File \"/opt/anaconda3/envs/bda/lib/python3.8/site-packages/sklearn/metrics/_scorer.py\", line 355, in _score\n",
      "    return self._sign * self._score_func(y_true, y_pred, **scoring_kwargs)\n",
      "  File \"/opt/anaconda3/envs/bda/lib/python3.8/site-packages/sklearn/utils/_param_validation.py\", line 211, in wrapper\n",
      "    return func(*args, **kwargs)\n",
      "  File \"/opt/anaconda3/envs/bda/lib/python3.8/site-packages/sklearn/metrics/_classification.py\", line 2127, in precision_score\n",
      "    p, _, _, _ = precision_recall_fscore_support(\n",
      "  File \"/opt/anaconda3/envs/bda/lib/python3.8/site-packages/sklearn/utils/_param_validation.py\", line 184, in wrapper\n",
      "    return func(*args, **kwargs)\n",
      "  File \"/opt/anaconda3/envs/bda/lib/python3.8/site-packages/sklearn/metrics/_classification.py\", line 1721, in precision_recall_fscore_support\n",
      "    labels = _check_set_wise_labels(y_true, y_pred, average, labels, pos_label)\n",
      "  File \"/opt/anaconda3/envs/bda/lib/python3.8/site-packages/sklearn/metrics/_classification.py\", line 1516, in _check_set_wise_labels\n",
      "    raise ValueError(\n",
      "ValueError: Target is multiclass but average='binary'. Please choose another average setting, one of [None, 'micro', 'macro', 'weighted'].\n",
      "\n",
      "  warnings.warn(\n",
      "/opt/anaconda3/envs/bda/lib/python3.8/site-packages/sklearn/model_selection/_validation.py:842: UserWarning: Scoring failed. The score on this train-test partition for these parameters will be set to nan. Details: \n",
      "Traceback (most recent call last):\n",
      "  File \"/opt/anaconda3/envs/bda/lib/python3.8/site-packages/sklearn/metrics/_scorer.py\", line 136, in __call__\n",
      "    score = scorer._score(\n",
      "  File \"/opt/anaconda3/envs/bda/lib/python3.8/site-packages/sklearn/metrics/_scorer.py\", line 355, in _score\n",
      "    return self._sign * self._score_func(y_true, y_pred, **scoring_kwargs)\n",
      "  File \"/opt/anaconda3/envs/bda/lib/python3.8/site-packages/sklearn/utils/_param_validation.py\", line 211, in wrapper\n",
      "    return func(*args, **kwargs)\n",
      "  File \"/opt/anaconda3/envs/bda/lib/python3.8/site-packages/sklearn/metrics/_classification.py\", line 2127, in precision_score\n",
      "    p, _, _, _ = precision_recall_fscore_support(\n",
      "  File \"/opt/anaconda3/envs/bda/lib/python3.8/site-packages/sklearn/utils/_param_validation.py\", line 184, in wrapper\n",
      "    return func(*args, **kwargs)\n",
      "  File \"/opt/anaconda3/envs/bda/lib/python3.8/site-packages/sklearn/metrics/_classification.py\", line 1721, in precision_recall_fscore_support\n",
      "    labels = _check_set_wise_labels(y_true, y_pred, average, labels, pos_label)\n",
      "  File \"/opt/anaconda3/envs/bda/lib/python3.8/site-packages/sklearn/metrics/_classification.py\", line 1516, in _check_set_wise_labels\n",
      "    raise ValueError(\n",
      "ValueError: Target is multiclass but average='binary'. Please choose another average setting, one of [None, 'micro', 'macro', 'weighted'].\n",
      "\n",
      "  warnings.warn(\n",
      "/opt/anaconda3/envs/bda/lib/python3.8/site-packages/sklearn/model_selection/_validation.py:842: UserWarning: Scoring failed. The score on this train-test partition for these parameters will be set to nan. Details: \n",
      "Traceback (most recent call last):\n",
      "  File \"/opt/anaconda3/envs/bda/lib/python3.8/site-packages/sklearn/metrics/_scorer.py\", line 136, in __call__\n",
      "    score = scorer._score(\n",
      "  File \"/opt/anaconda3/envs/bda/lib/python3.8/site-packages/sklearn/metrics/_scorer.py\", line 355, in _score\n",
      "    return self._sign * self._score_func(y_true, y_pred, **scoring_kwargs)\n",
      "  File \"/opt/anaconda3/envs/bda/lib/python3.8/site-packages/sklearn/utils/_param_validation.py\", line 211, in wrapper\n",
      "    return func(*args, **kwargs)\n",
      "  File \"/opt/anaconda3/envs/bda/lib/python3.8/site-packages/sklearn/metrics/_classification.py\", line 2127, in precision_score\n",
      "    p, _, _, _ = precision_recall_fscore_support(\n",
      "  File \"/opt/anaconda3/envs/bda/lib/python3.8/site-packages/sklearn/utils/_param_validation.py\", line 184, in wrapper\n",
      "    return func(*args, **kwargs)\n",
      "  File \"/opt/anaconda3/envs/bda/lib/python3.8/site-packages/sklearn/metrics/_classification.py\", line 1721, in precision_recall_fscore_support\n",
      "    labels = _check_set_wise_labels(y_true, y_pred, average, labels, pos_label)\n",
      "  File \"/opt/anaconda3/envs/bda/lib/python3.8/site-packages/sklearn/metrics/_classification.py\", line 1516, in _check_set_wise_labels\n",
      "    raise ValueError(\n",
      "ValueError: Target is multiclass but average='binary'. Please choose another average setting, one of [None, 'micro', 'macro', 'weighted'].\n",
      "\n",
      "  warnings.warn(\n",
      "/opt/anaconda3/envs/bda/lib/python3.8/site-packages/sklearn/model_selection/_validation.py:842: UserWarning: Scoring failed. The score on this train-test partition for these parameters will be set to nan. Details: \n",
      "Traceback (most recent call last):\n",
      "  File \"/opt/anaconda3/envs/bda/lib/python3.8/site-packages/sklearn/metrics/_scorer.py\", line 136, in __call__\n",
      "    score = scorer._score(\n",
      "  File \"/opt/anaconda3/envs/bda/lib/python3.8/site-packages/sklearn/metrics/_scorer.py\", line 355, in _score\n",
      "    return self._sign * self._score_func(y_true, y_pred, **scoring_kwargs)\n",
      "  File \"/opt/anaconda3/envs/bda/lib/python3.8/site-packages/sklearn/utils/_param_validation.py\", line 211, in wrapper\n",
      "    return func(*args, **kwargs)\n",
      "  File \"/opt/anaconda3/envs/bda/lib/python3.8/site-packages/sklearn/metrics/_classification.py\", line 2127, in precision_score\n",
      "    p, _, _, _ = precision_recall_fscore_support(\n",
      "  File \"/opt/anaconda3/envs/bda/lib/python3.8/site-packages/sklearn/utils/_param_validation.py\", line 184, in wrapper\n",
      "    return func(*args, **kwargs)\n",
      "  File \"/opt/anaconda3/envs/bda/lib/python3.8/site-packages/sklearn/metrics/_classification.py\", line 1721, in precision_recall_fscore_support\n",
      "    labels = _check_set_wise_labels(y_true, y_pred, average, labels, pos_label)\n",
      "  File \"/opt/anaconda3/envs/bda/lib/python3.8/site-packages/sklearn/metrics/_classification.py\", line 1516, in _check_set_wise_labels\n",
      "    raise ValueError(\n",
      "ValueError: Target is multiclass but average='binary'. Please choose another average setting, one of [None, 'micro', 'macro', 'weighted'].\n",
      "\n",
      "  warnings.warn(\n"
     ]
    }
   ],
   "source": [
    "scores = cross_val_score(dt_clf, data, label, scoring='precision',cv=5)"
   ]
  },
  {
   "cell_type": "code",
   "execution_count": 19,
   "id": "91837d26",
   "metadata": {},
   "outputs": [
    {
     "name": "stderr",
     "output_type": "stream",
     "text": [
      "/opt/anaconda3/envs/bda/lib/python3.8/site-packages/sklearn/model_selection/_validation.py:842: UserWarning: Scoring failed. The score on this train-test partition for these parameters will be set to nan. Details: \n",
      "Traceback (most recent call last):\n",
      "  File \"/opt/anaconda3/envs/bda/lib/python3.8/site-packages/sklearn/metrics/_scorer.py\", line 136, in __call__\n",
      "    score = scorer._score(\n",
      "  File \"/opt/anaconda3/envs/bda/lib/python3.8/site-packages/sklearn/metrics/_scorer.py\", line 355, in _score\n",
      "    return self._sign * self._score_func(y_true, y_pred, **scoring_kwargs)\n",
      "  File \"/opt/anaconda3/envs/bda/lib/python3.8/site-packages/sklearn/utils/_param_validation.py\", line 211, in wrapper\n",
      "    return func(*args, **kwargs)\n",
      "  File \"/opt/anaconda3/envs/bda/lib/python3.8/site-packages/sklearn/metrics/_classification.py\", line 1238, in f1_score\n",
      "    return fbeta_score(\n",
      "  File \"/opt/anaconda3/envs/bda/lib/python3.8/site-packages/sklearn/utils/_param_validation.py\", line 184, in wrapper\n",
      "    return func(*args, **kwargs)\n",
      "  File \"/opt/anaconda3/envs/bda/lib/python3.8/site-packages/sklearn/metrics/_classification.py\", line 1411, in fbeta_score\n",
      "    _, _, f, _ = precision_recall_fscore_support(\n",
      "  File \"/opt/anaconda3/envs/bda/lib/python3.8/site-packages/sklearn/utils/_param_validation.py\", line 184, in wrapper\n",
      "    return func(*args, **kwargs)\n",
      "  File \"/opt/anaconda3/envs/bda/lib/python3.8/site-packages/sklearn/metrics/_classification.py\", line 1721, in precision_recall_fscore_support\n",
      "    labels = _check_set_wise_labels(y_true, y_pred, average, labels, pos_label)\n",
      "  File \"/opt/anaconda3/envs/bda/lib/python3.8/site-packages/sklearn/metrics/_classification.py\", line 1516, in _check_set_wise_labels\n",
      "    raise ValueError(\n",
      "ValueError: Target is multiclass but average='binary'. Please choose another average setting, one of [None, 'micro', 'macro', 'weighted'].\n",
      "\n",
      "  warnings.warn(\n",
      "/opt/anaconda3/envs/bda/lib/python3.8/site-packages/sklearn/model_selection/_validation.py:842: UserWarning: Scoring failed. The score on this train-test partition for these parameters will be set to nan. Details: \n",
      "Traceback (most recent call last):\n",
      "  File \"/opt/anaconda3/envs/bda/lib/python3.8/site-packages/sklearn/metrics/_scorer.py\", line 136, in __call__\n",
      "    score = scorer._score(\n",
      "  File \"/opt/anaconda3/envs/bda/lib/python3.8/site-packages/sklearn/metrics/_scorer.py\", line 355, in _score\n",
      "    return self._sign * self._score_func(y_true, y_pred, **scoring_kwargs)\n",
      "  File \"/opt/anaconda3/envs/bda/lib/python3.8/site-packages/sklearn/utils/_param_validation.py\", line 211, in wrapper\n",
      "    return func(*args, **kwargs)\n",
      "  File \"/opt/anaconda3/envs/bda/lib/python3.8/site-packages/sklearn/metrics/_classification.py\", line 1238, in f1_score\n",
      "    return fbeta_score(\n",
      "  File \"/opt/anaconda3/envs/bda/lib/python3.8/site-packages/sklearn/utils/_param_validation.py\", line 184, in wrapper\n",
      "    return func(*args, **kwargs)\n",
      "  File \"/opt/anaconda3/envs/bda/lib/python3.8/site-packages/sklearn/metrics/_classification.py\", line 1411, in fbeta_score\n",
      "    _, _, f, _ = precision_recall_fscore_support(\n",
      "  File \"/opt/anaconda3/envs/bda/lib/python3.8/site-packages/sklearn/utils/_param_validation.py\", line 184, in wrapper\n",
      "    return func(*args, **kwargs)\n",
      "  File \"/opt/anaconda3/envs/bda/lib/python3.8/site-packages/sklearn/metrics/_classification.py\", line 1721, in precision_recall_fscore_support\n",
      "    labels = _check_set_wise_labels(y_true, y_pred, average, labels, pos_label)\n",
      "  File \"/opt/anaconda3/envs/bda/lib/python3.8/site-packages/sklearn/metrics/_classification.py\", line 1516, in _check_set_wise_labels\n",
      "    raise ValueError(\n",
      "ValueError: Target is multiclass but average='binary'. Please choose another average setting, one of [None, 'micro', 'macro', 'weighted'].\n",
      "\n",
      "  warnings.warn(\n",
      "/opt/anaconda3/envs/bda/lib/python3.8/site-packages/sklearn/model_selection/_validation.py:842: UserWarning: Scoring failed. The score on this train-test partition for these parameters will be set to nan. Details: \n",
      "Traceback (most recent call last):\n",
      "  File \"/opt/anaconda3/envs/bda/lib/python3.8/site-packages/sklearn/metrics/_scorer.py\", line 136, in __call__\n",
      "    score = scorer._score(\n",
      "  File \"/opt/anaconda3/envs/bda/lib/python3.8/site-packages/sklearn/metrics/_scorer.py\", line 355, in _score\n",
      "    return self._sign * self._score_func(y_true, y_pred, **scoring_kwargs)\n",
      "  File \"/opt/anaconda3/envs/bda/lib/python3.8/site-packages/sklearn/utils/_param_validation.py\", line 211, in wrapper\n",
      "    return func(*args, **kwargs)\n",
      "  File \"/opt/anaconda3/envs/bda/lib/python3.8/site-packages/sklearn/metrics/_classification.py\", line 1238, in f1_score\n",
      "    return fbeta_score(\n",
      "  File \"/opt/anaconda3/envs/bda/lib/python3.8/site-packages/sklearn/utils/_param_validation.py\", line 184, in wrapper\n",
      "    return func(*args, **kwargs)\n",
      "  File \"/opt/anaconda3/envs/bda/lib/python3.8/site-packages/sklearn/metrics/_classification.py\", line 1411, in fbeta_score\n",
      "    _, _, f, _ = precision_recall_fscore_support(\n",
      "  File \"/opt/anaconda3/envs/bda/lib/python3.8/site-packages/sklearn/utils/_param_validation.py\", line 184, in wrapper\n",
      "    return func(*args, **kwargs)\n",
      "  File \"/opt/anaconda3/envs/bda/lib/python3.8/site-packages/sklearn/metrics/_classification.py\", line 1721, in precision_recall_fscore_support\n",
      "    labels = _check_set_wise_labels(y_true, y_pred, average, labels, pos_label)\n",
      "  File \"/opt/anaconda3/envs/bda/lib/python3.8/site-packages/sklearn/metrics/_classification.py\", line 1516, in _check_set_wise_labels\n",
      "    raise ValueError(\n",
      "ValueError: Target is multiclass but average='binary'. Please choose another average setting, one of [None, 'micro', 'macro', 'weighted'].\n",
      "\n",
      "  warnings.warn(\n",
      "/opt/anaconda3/envs/bda/lib/python3.8/site-packages/sklearn/model_selection/_validation.py:842: UserWarning: Scoring failed. The score on this train-test partition for these parameters will be set to nan. Details: \n",
      "Traceback (most recent call last):\n",
      "  File \"/opt/anaconda3/envs/bda/lib/python3.8/site-packages/sklearn/metrics/_scorer.py\", line 136, in __call__\n",
      "    score = scorer._score(\n",
      "  File \"/opt/anaconda3/envs/bda/lib/python3.8/site-packages/sklearn/metrics/_scorer.py\", line 355, in _score\n",
      "    return self._sign * self._score_func(y_true, y_pred, **scoring_kwargs)\n",
      "  File \"/opt/anaconda3/envs/bda/lib/python3.8/site-packages/sklearn/utils/_param_validation.py\", line 211, in wrapper\n",
      "    return func(*args, **kwargs)\n",
      "  File \"/opt/anaconda3/envs/bda/lib/python3.8/site-packages/sklearn/metrics/_classification.py\", line 1238, in f1_score\n",
      "    return fbeta_score(\n",
      "  File \"/opt/anaconda3/envs/bda/lib/python3.8/site-packages/sklearn/utils/_param_validation.py\", line 184, in wrapper\n",
      "    return func(*args, **kwargs)\n",
      "  File \"/opt/anaconda3/envs/bda/lib/python3.8/site-packages/sklearn/metrics/_classification.py\", line 1411, in fbeta_score\n",
      "    _, _, f, _ = precision_recall_fscore_support(\n",
      "  File \"/opt/anaconda3/envs/bda/lib/python3.8/site-packages/sklearn/utils/_param_validation.py\", line 184, in wrapper\n",
      "    return func(*args, **kwargs)\n",
      "  File \"/opt/anaconda3/envs/bda/lib/python3.8/site-packages/sklearn/metrics/_classification.py\", line 1721, in precision_recall_fscore_support\n",
      "    labels = _check_set_wise_labels(y_true, y_pred, average, labels, pos_label)\n",
      "  File \"/opt/anaconda3/envs/bda/lib/python3.8/site-packages/sklearn/metrics/_classification.py\", line 1516, in _check_set_wise_labels\n",
      "    raise ValueError(\n",
      "ValueError: Target is multiclass but average='binary'. Please choose another average setting, one of [None, 'micro', 'macro', 'weighted'].\n",
      "\n",
      "  warnings.warn(\n",
      "/opt/anaconda3/envs/bda/lib/python3.8/site-packages/sklearn/model_selection/_validation.py:842: UserWarning: Scoring failed. The score on this train-test partition for these parameters will be set to nan. Details: \n",
      "Traceback (most recent call last):\n",
      "  File \"/opt/anaconda3/envs/bda/lib/python3.8/site-packages/sklearn/metrics/_scorer.py\", line 136, in __call__\n",
      "    score = scorer._score(\n",
      "  File \"/opt/anaconda3/envs/bda/lib/python3.8/site-packages/sklearn/metrics/_scorer.py\", line 355, in _score\n",
      "    return self._sign * self._score_func(y_true, y_pred, **scoring_kwargs)\n",
      "  File \"/opt/anaconda3/envs/bda/lib/python3.8/site-packages/sklearn/utils/_param_validation.py\", line 211, in wrapper\n",
      "    return func(*args, **kwargs)\n",
      "  File \"/opt/anaconda3/envs/bda/lib/python3.8/site-packages/sklearn/metrics/_classification.py\", line 1238, in f1_score\n",
      "    return fbeta_score(\n",
      "  File \"/opt/anaconda3/envs/bda/lib/python3.8/site-packages/sklearn/utils/_param_validation.py\", line 184, in wrapper\n",
      "    return func(*args, **kwargs)\n",
      "  File \"/opt/anaconda3/envs/bda/lib/python3.8/site-packages/sklearn/metrics/_classification.py\", line 1411, in fbeta_score\n",
      "    _, _, f, _ = precision_recall_fscore_support(\n",
      "  File \"/opt/anaconda3/envs/bda/lib/python3.8/site-packages/sklearn/utils/_param_validation.py\", line 184, in wrapper\n",
      "    return func(*args, **kwargs)\n",
      "  File \"/opt/anaconda3/envs/bda/lib/python3.8/site-packages/sklearn/metrics/_classification.py\", line 1721, in precision_recall_fscore_support\n",
      "    labels = _check_set_wise_labels(y_true, y_pred, average, labels, pos_label)\n",
      "  File \"/opt/anaconda3/envs/bda/lib/python3.8/site-packages/sklearn/metrics/_classification.py\", line 1516, in _check_set_wise_labels\n",
      "    raise ValueError(\n",
      "ValueError: Target is multiclass but average='binary'. Please choose another average setting, one of [None, 'micro', 'macro', 'weighted'].\n",
      "\n",
      "  warnings.warn(\n"
     ]
    }
   ],
   "source": [
    "scores = cross_val_score(dt_clf, data, label, scoring='f1',cv=5)"
   ]
  },
  {
   "cell_type": "code",
   "execution_count": 20,
   "id": "ff27b4b6",
   "metadata": {
    "scrolled": true
   },
   "outputs": [
    {
     "data": {
      "text/plain": [
       "array([nan, nan, nan, nan, nan])"
      ]
     },
     "execution_count": 20,
     "metadata": {},
     "output_type": "execute_result"
    }
   ],
   "source": [
    "scores"
   ]
  },
  {
   "cell_type": "markdown",
   "id": "808342e8",
   "metadata": {},
   "source": [
    "- 이진분류와\n",
    "- 이진분류는 0,1 나눠져 있다.\n",
    "- 흔히 말하는 계산방식 정확도, 정밀도, 재현율, f1스코어, auc, roc커브 등등  0,1 이진 분류에만 디폴트로 적용된 것 \n",
    "- 이진분류는 문제 없이 값들이 나온다.\n",
    "- 이진분류는 0,1 가정하에서 디포릍로 정밀도, 재현율, f1스코어 등등이 나온다.\n",
    "\n",
    "- 다중분류에는\n",
    "- 0,1,2 이다.\n",
    "\n",
    "\n",
    "- 값을 평가하는 방식이 다릅니다."
   ]
  },
  {
   "cell_type": "markdown",
   "id": "0b9e20e5",
   "metadata": {},
   "source": [
    "## 다중분류 진행시 정확도 외 다른 평가지표에 대한 가중치 설정 방법\n",
    "- 다중분류시 평가지표를 확인하기 위해서는 _micro, _macro, _weighted 이런 식으로 사용하면 된다.\n",
    "\n",
    "- macro\n",
    "- 모든 예측 결과에 대해서 평균을 내어서 값을 계산하는 방법 \n",
    "- micro\n",
    "- 각각의 정답에 대한 개수를 가지고 나눠서 평균값을 구한다.\n",
    "- weighted\n",
    "- 가중 평균값을 구한다. 가중치를 주고 싶은 것에 줄 수 있다."
   ]
  },
  {
   "cell_type": "code",
   "execution_count": 38,
   "id": "e6e1f979",
   "metadata": {},
   "outputs": [],
   "source": [
    "scores = cross_val_score(dt_clf, data, label, scoring='precision_micro',cv=5)"
   ]
  },
  {
   "cell_type": "code",
   "execution_count": 39,
   "id": "58539050",
   "metadata": {
    "scrolled": true
   },
   "outputs": [
    {
     "data": {
      "text/plain": [
       "array([0.96666667, 0.96666667, 0.9       , 0.96666667, 1.        ])"
      ]
     },
     "execution_count": 39,
     "metadata": {},
     "output_type": "execute_result"
    }
   ],
   "source": [
    "scores"
   ]
  },
  {
   "cell_type": "markdown",
   "id": "4be6275c",
   "metadata": {},
   "source": [
    "- 하나의 예로 \n",
    "- 4개의 라벨 \n",
    "- 0,1,2,3 클래스있을 것\n",
    "- precision 값을 계산해보니 \n",
    "- 0 0.5 = 1/2\n",
    "- 1 0.1 = 10/100\n",
    "- 2 0.5 = 1/2\n",
    "- 3 0.5 = 1/2\n",
    "\n",
    "- macro : (0.5+0.1+0.5+0.5)/4\n",
    "\n",
    "- micro로 계산하는 방식은?\n",
    "- (1+10+1+1)/(2+100+2+2)\n",
    "\n",
    "- macro, micro 사용할 때 나올 수 있는 평가지표 값은 다르다.\n",
    "- 잘 알고 계셔야 한다.\n",
    "- 클래스에 대한 불균형에 따라서 두 개의 값을 다르게 사용해야 한다.\n",
    "- 대부분 둘 다 사용하고 두 지표 보여주면서 이렇게 나왔습니다 넘어가는 경우가 많다.\n",
    "\n",
    "\n",
    "\n",
    "## 이 두 가지를 언제 사용해야 하는가?\n",
    "## 둘의 차이는 무엇인가?\n",
    "###  클래스 불균형일 때 영향도를 생각해서 사용하면 된다.\n",
    "\n",
    "- 2,100,2,2 206개의 클래스에서\n",
    "- 만약 데이터를 랜덤하게 뽑는다고 한다면 \n",
    "- 확률적으로 우리가 클래스를 뽑을 확률은 1높다.\n",
    "\n",
    "- 사기탐지 같은 것 보면\n",
    "- 대부분 정상인데 사기인경우가 적다\n",
    "- 대부분의 데이터는 정상\n",
    "- 사기가 한 두 개 나오는 경우\n",
    "\n",
    "\n",
    "### 필수과제 1\n",
    "- weighted 구글링하셔서\n",
    "- 내용설명과 실제 코드 작성해서 \n",
    "- 값에 대한 비교 정리하기\n"
   ]
  },
  {
   "cell_type": "code",
   "execution_count": 40,
   "id": "72584d30",
   "metadata": {},
   "outputs": [
    {
     "data": {
      "text/plain": [
       "0.4"
      ]
     },
     "execution_count": 40,
     "metadata": {},
     "output_type": "execute_result"
    }
   ],
   "source": [
    "(0.5+0.1+0.5+0.5)/4"
   ]
  },
  {
   "cell_type": "code",
   "execution_count": 41,
   "id": "de9b4e2e",
   "metadata": {},
   "outputs": [
    {
     "data": {
      "text/plain": [
       "0.12264150943396226"
      ]
     },
     "execution_count": 41,
     "metadata": {},
     "output_type": "execute_result"
    }
   ],
   "source": [
    "(1+10+1+1)/(2+100+2+2)"
   ]
  },
  {
   "cell_type": "code",
   "execution_count": 23,
   "id": "4ddf3db3",
   "metadata": {},
   "outputs": [],
   "source": [
    "import seaborn as sns\n",
    "df =sns.load_dataset('titanic')"
   ]
  },
  {
   "cell_type": "code",
   "execution_count": 26,
   "id": "435c7d36",
   "metadata": {},
   "outputs": [
    {
     "data": {
      "text/html": [
       "<div>\n",
       "<style scoped>\n",
       "    .dataframe tbody tr th:only-of-type {\n",
       "        vertical-align: middle;\n",
       "    }\n",
       "\n",
       "    .dataframe tbody tr th {\n",
       "        vertical-align: top;\n",
       "    }\n",
       "\n",
       "    .dataframe thead th {\n",
       "        text-align: right;\n",
       "    }\n",
       "</style>\n",
       "<table border=\"1\" class=\"dataframe\">\n",
       "  <thead>\n",
       "    <tr style=\"text-align: right;\">\n",
       "      <th></th>\n",
       "      <th>survived</th>\n",
       "      <th>pclass</th>\n",
       "      <th>sex</th>\n",
       "      <th>age</th>\n",
       "      <th>sibsp</th>\n",
       "      <th>parch</th>\n",
       "      <th>fare</th>\n",
       "      <th>embarked</th>\n",
       "      <th>class</th>\n",
       "      <th>who</th>\n",
       "      <th>adult_male</th>\n",
       "      <th>deck</th>\n",
       "      <th>embark_town</th>\n",
       "      <th>alive</th>\n",
       "      <th>alone</th>\n",
       "    </tr>\n",
       "  </thead>\n",
       "  <tbody>\n",
       "    <tr>\n",
       "      <th>0</th>\n",
       "      <td>0</td>\n",
       "      <td>3</td>\n",
       "      <td>male</td>\n",
       "      <td>22.0</td>\n",
       "      <td>1</td>\n",
       "      <td>0</td>\n",
       "      <td>7.2500</td>\n",
       "      <td>S</td>\n",
       "      <td>Third</td>\n",
       "      <td>man</td>\n",
       "      <td>True</td>\n",
       "      <td>NaN</td>\n",
       "      <td>Southampton</td>\n",
       "      <td>no</td>\n",
       "      <td>False</td>\n",
       "    </tr>\n",
       "    <tr>\n",
       "      <th>1</th>\n",
       "      <td>1</td>\n",
       "      <td>1</td>\n",
       "      <td>female</td>\n",
       "      <td>38.0</td>\n",
       "      <td>1</td>\n",
       "      <td>0</td>\n",
       "      <td>71.2833</td>\n",
       "      <td>C</td>\n",
       "      <td>First</td>\n",
       "      <td>woman</td>\n",
       "      <td>False</td>\n",
       "      <td>C</td>\n",
       "      <td>Cherbourg</td>\n",
       "      <td>yes</td>\n",
       "      <td>False</td>\n",
       "    </tr>\n",
       "    <tr>\n",
       "      <th>2</th>\n",
       "      <td>1</td>\n",
       "      <td>3</td>\n",
       "      <td>female</td>\n",
       "      <td>26.0</td>\n",
       "      <td>0</td>\n",
       "      <td>0</td>\n",
       "      <td>7.9250</td>\n",
       "      <td>S</td>\n",
       "      <td>Third</td>\n",
       "      <td>woman</td>\n",
       "      <td>False</td>\n",
       "      <td>NaN</td>\n",
       "      <td>Southampton</td>\n",
       "      <td>yes</td>\n",
       "      <td>True</td>\n",
       "    </tr>\n",
       "    <tr>\n",
       "      <th>3</th>\n",
       "      <td>1</td>\n",
       "      <td>1</td>\n",
       "      <td>female</td>\n",
       "      <td>35.0</td>\n",
       "      <td>1</td>\n",
       "      <td>0</td>\n",
       "      <td>53.1000</td>\n",
       "      <td>S</td>\n",
       "      <td>First</td>\n",
       "      <td>woman</td>\n",
       "      <td>False</td>\n",
       "      <td>C</td>\n",
       "      <td>Southampton</td>\n",
       "      <td>yes</td>\n",
       "      <td>False</td>\n",
       "    </tr>\n",
       "    <tr>\n",
       "      <th>4</th>\n",
       "      <td>0</td>\n",
       "      <td>3</td>\n",
       "      <td>male</td>\n",
       "      <td>35.0</td>\n",
       "      <td>0</td>\n",
       "      <td>0</td>\n",
       "      <td>8.0500</td>\n",
       "      <td>S</td>\n",
       "      <td>Third</td>\n",
       "      <td>man</td>\n",
       "      <td>True</td>\n",
       "      <td>NaN</td>\n",
       "      <td>Southampton</td>\n",
       "      <td>no</td>\n",
       "      <td>True</td>\n",
       "    </tr>\n",
       "    <tr>\n",
       "      <th>...</th>\n",
       "      <td>...</td>\n",
       "      <td>...</td>\n",
       "      <td>...</td>\n",
       "      <td>...</td>\n",
       "      <td>...</td>\n",
       "      <td>...</td>\n",
       "      <td>...</td>\n",
       "      <td>...</td>\n",
       "      <td>...</td>\n",
       "      <td>...</td>\n",
       "      <td>...</td>\n",
       "      <td>...</td>\n",
       "      <td>...</td>\n",
       "      <td>...</td>\n",
       "      <td>...</td>\n",
       "    </tr>\n",
       "    <tr>\n",
       "      <th>886</th>\n",
       "      <td>0</td>\n",
       "      <td>2</td>\n",
       "      <td>male</td>\n",
       "      <td>27.0</td>\n",
       "      <td>0</td>\n",
       "      <td>0</td>\n",
       "      <td>13.0000</td>\n",
       "      <td>S</td>\n",
       "      <td>Second</td>\n",
       "      <td>man</td>\n",
       "      <td>True</td>\n",
       "      <td>NaN</td>\n",
       "      <td>Southampton</td>\n",
       "      <td>no</td>\n",
       "      <td>True</td>\n",
       "    </tr>\n",
       "    <tr>\n",
       "      <th>887</th>\n",
       "      <td>1</td>\n",
       "      <td>1</td>\n",
       "      <td>female</td>\n",
       "      <td>19.0</td>\n",
       "      <td>0</td>\n",
       "      <td>0</td>\n",
       "      <td>30.0000</td>\n",
       "      <td>S</td>\n",
       "      <td>First</td>\n",
       "      <td>woman</td>\n",
       "      <td>False</td>\n",
       "      <td>B</td>\n",
       "      <td>Southampton</td>\n",
       "      <td>yes</td>\n",
       "      <td>True</td>\n",
       "    </tr>\n",
       "    <tr>\n",
       "      <th>888</th>\n",
       "      <td>0</td>\n",
       "      <td>3</td>\n",
       "      <td>female</td>\n",
       "      <td>NaN</td>\n",
       "      <td>1</td>\n",
       "      <td>2</td>\n",
       "      <td>23.4500</td>\n",
       "      <td>S</td>\n",
       "      <td>Third</td>\n",
       "      <td>woman</td>\n",
       "      <td>False</td>\n",
       "      <td>NaN</td>\n",
       "      <td>Southampton</td>\n",
       "      <td>no</td>\n",
       "      <td>False</td>\n",
       "    </tr>\n",
       "    <tr>\n",
       "      <th>889</th>\n",
       "      <td>1</td>\n",
       "      <td>1</td>\n",
       "      <td>male</td>\n",
       "      <td>26.0</td>\n",
       "      <td>0</td>\n",
       "      <td>0</td>\n",
       "      <td>30.0000</td>\n",
       "      <td>C</td>\n",
       "      <td>First</td>\n",
       "      <td>man</td>\n",
       "      <td>True</td>\n",
       "      <td>C</td>\n",
       "      <td>Cherbourg</td>\n",
       "      <td>yes</td>\n",
       "      <td>True</td>\n",
       "    </tr>\n",
       "    <tr>\n",
       "      <th>890</th>\n",
       "      <td>0</td>\n",
       "      <td>3</td>\n",
       "      <td>male</td>\n",
       "      <td>32.0</td>\n",
       "      <td>0</td>\n",
       "      <td>0</td>\n",
       "      <td>7.7500</td>\n",
       "      <td>Q</td>\n",
       "      <td>Third</td>\n",
       "      <td>man</td>\n",
       "      <td>True</td>\n",
       "      <td>NaN</td>\n",
       "      <td>Queenstown</td>\n",
       "      <td>no</td>\n",
       "      <td>True</td>\n",
       "    </tr>\n",
       "  </tbody>\n",
       "</table>\n",
       "<p>891 rows × 15 columns</p>\n",
       "</div>"
      ],
      "text/plain": [
       "     survived  pclass     sex   age  sibsp  parch     fare embarked   class   \n",
       "0           0       3    male  22.0      1      0   7.2500        S   Third  \\\n",
       "1           1       1  female  38.0      1      0  71.2833        C   First   \n",
       "2           1       3  female  26.0      0      0   7.9250        S   Third   \n",
       "3           1       1  female  35.0      1      0  53.1000        S   First   \n",
       "4           0       3    male  35.0      0      0   8.0500        S   Third   \n",
       "..        ...     ...     ...   ...    ...    ...      ...      ...     ...   \n",
       "886         0       2    male  27.0      0      0  13.0000        S  Second   \n",
       "887         1       1  female  19.0      0      0  30.0000        S   First   \n",
       "888         0       3  female   NaN      1      2  23.4500        S   Third   \n",
       "889         1       1    male  26.0      0      0  30.0000        C   First   \n",
       "890         0       3    male  32.0      0      0   7.7500        Q   Third   \n",
       "\n",
       "       who  adult_male deck  embark_town alive  alone  \n",
       "0      man        True  NaN  Southampton    no  False  \n",
       "1    woman       False    C    Cherbourg   yes  False  \n",
       "2    woman       False  NaN  Southampton   yes   True  \n",
       "3    woman       False    C  Southampton   yes  False  \n",
       "4      man        True  NaN  Southampton    no   True  \n",
       "..     ...         ...  ...          ...   ...    ...  \n",
       "886    man        True  NaN  Southampton    no   True  \n",
       "887  woman       False    B  Southampton   yes   True  \n",
       "888  woman       False  NaN  Southampton    no  False  \n",
       "889    man        True    C    Cherbourg   yes   True  \n",
       "890    man        True  NaN   Queenstown    no   True  \n",
       "\n",
       "[891 rows x 15 columns]"
      ]
     },
     "execution_count": 26,
     "metadata": {},
     "output_type": "execute_result"
    }
   ],
   "source": [
    "df"
   ]
  },
  {
   "cell_type": "code",
   "execution_count": 31,
   "id": "9b376220",
   "metadata": {},
   "outputs": [],
   "source": [
    "df_tt=df[['pclass','fare']]"
   ]
  },
  {
   "cell_type": "code",
   "execution_count": 32,
   "id": "09d04585",
   "metadata": {},
   "outputs": [
    {
     "name": "stdout",
     "output_type": "stream",
     "text": [
      "0.688\n"
     ]
    }
   ],
   "source": [
    "scores = cross_val_score(dt_clf, df_tt, df['survived'], scoring='accuracy',cv=5)\n",
    "print(np.round(np.mean(scores),3))"
   ]
  },
  {
   "cell_type": "code",
   "execution_count": 33,
   "id": "fcb06a5b",
   "metadata": {},
   "outputs": [
    {
     "data": {
      "text/plain": [
       "array([0.62569832, 0.66853933, 0.68539326, 0.73033708, 0.73033708])"
      ]
     },
     "execution_count": 33,
     "metadata": {},
     "output_type": "execute_result"
    }
   ],
   "source": [
    "scores"
   ]
  },
  {
   "cell_type": "code",
   "execution_count": 34,
   "id": "5715f848",
   "metadata": {},
   "outputs": [],
   "source": [
    "scores = cross_val_score(dt_clf, df_tt, df['survived'], scoring='f1',cv=5)"
   ]
  },
  {
   "cell_type": "code",
   "execution_count": 35,
   "id": "7d5947cb",
   "metadata": {},
   "outputs": [
    {
     "data": {
      "text/plain": [
       "array([0.42735043, 0.4957265 , 0.53333333, 0.60655738, 0.61290323])"
      ]
     },
     "execution_count": 35,
     "metadata": {},
     "output_type": "execute_result"
    }
   ],
   "source": [
    "scores"
   ]
  },
  {
   "cell_type": "code",
   "execution_count": 36,
   "id": "df97eac8",
   "metadata": {},
   "outputs": [],
   "source": [
    "scores = cross_val_score(dt_clf, df_tt, df['survived'], scoring='precision',cv=5)"
   ]
  },
  {
   "cell_type": "code",
   "execution_count": 37,
   "id": "ebcdb3cf",
   "metadata": {},
   "outputs": [
    {
     "data": {
      "text/plain": [
       "array([0.52083333, 0.59183673, 0.61538462, 0.68518519, 0.69090909])"
      ]
     },
     "execution_count": 37,
     "metadata": {},
     "output_type": "execute_result"
    }
   ],
   "source": [
    "scores"
   ]
  },
  {
   "cell_type": "markdown",
   "id": "af655756",
   "metadata": {},
   "source": [
    "## leaveOneOut 교차검증 \n",
    "## Group교차검증\n",
    "\n",
    "- 그룹핑은 그룹핑 데이터를 가지고 교차검증할 때 더 좋은 성능을 보여줄 수 있다.\n",
    "- 단순하게 교차검증을 cross 하는 게 아니라\n",
    "- 데이터의 특성을 보고 내가 분석  할 것이 어떤 클래스별의 수치를 비교하는 것이라면 교차검증 자체도 그룹핑으로 접근할 수 있는 것"
   ]
  },
  {
   "cell_type": "code",
   "execution_count": 49,
   "id": "5480ecc3",
   "metadata": {},
   "outputs": [],
   "source": [
    "from sklearn.model_selection import LeaveOneOut\n",
    "\n",
    "loo = LeaveOneOut()"
   ]
  },
  {
   "cell_type": "code",
   "execution_count": 51,
   "id": "f19e3717",
   "metadata": {
    "scrolled": true
   },
   "outputs": [],
   "source": [
    "scores =cross_val_score(dt_clf, df_tt, df['survived'], scoring='accuracy',cv=loo)"
   ]
  },
  {
   "cell_type": "code",
   "execution_count": 52,
   "id": "ac67c2e6",
   "metadata": {},
   "outputs": [
    {
     "name": "stdout",
     "output_type": "stream",
     "text": [
      "891\n",
      "0.6745230078563412\n"
     ]
    }
   ],
   "source": [
    "print(len(scores))\n",
    "print(scores.mean())"
   ]
  },
  {
   "cell_type": "code",
   "execution_count": null,
   "id": "d21c6493",
   "metadata": {},
   "outputs": [],
   "source": [
    "## cross val 응용하기 \n",
    "model = [DecisionTreeClassifier(),RandomForestClassifier(),LogisticRegression()] \n",
    "name = ['DT','RF','LR']\n",
    "\n",
    "for model ,name in zip(model, name):\n",
    "    print('******************사용한 알고리즘',name,'******************')\n",
    "    for score in ['accuracy','precision','recall','f1']:\n",
    "        print(score)\n",
    "        print('--')\n",
    "        print(cross_val_score(model, df_tt, df['survived'], scoring=score,cv=10))"
   ]
  },
  {
   "cell_type": "markdown",
   "id": "bc75d58e",
   "metadata": {},
   "source": [
    "### 필수과제2\n",
    "- 추가로 1개 또느 2개 이하로 다른 교차검증 패키지 사용해 보기\n",
    "- 개념설명과 실제 적용해서 나온 결과 값을 비교하기\n",
    "- e.g) 타이타닉 데이터로 한다면 기존에 교차검증과 새롭게 진행한 교차검증의 차이를 비교해 주세요!"
   ]
  },
  {
   "cell_type": "markdown",
   "id": "6a920c83",
   "metadata": {},
   "source": [
    "# 평가지표 \n",
    "\n",
    "- 분류\n",
    "- 회귀\n",
    "\n",
    "- 둘 다 다르게 측정한다\n",
    "- 딥러닝은 비용함수 \n",
    "\n",
    "- 우리는 ML에대해서 분류와 회귀로 평가지표 확인하기!"
   ]
  },
  {
   "cell_type": "markdown",
   "id": "fb5132b7",
   "metadata": {},
   "source": [
    "### 분류\n",
    "- 정확도, 정밀도, 재현율, f1, roc \n",
    "- 구성요소가 어떤 식으로 되어 있는 것이고\n",
    "- 정밀도, 재현율의 차이가 어떤 상황에 맞는 것이고\n",
    "- 왜 우리는 그래서 f1스코어를 보는지?\n",
    "- roc커브에 x축과 y축이 의미하는 것은?\n",
    "\n",
    "\n",
    "## 정확도\n",
    "- Accuracy = 예측의 결과(0,1) 동일한 데이터 건수 /전체 예측 데이터 건수\n",
    "\n",
    "- 맞춘다는 것이 1만 맞춘다는 것으로 생각하지만- >0도 맞춘 것\n",
    "- 0과 1을 둘 다 맞춘 것을 고민을 해야 한다.\n",
    "\n",
    "\n",
    "- 정밀도, 재현율 등을 이해하려면 오차행렬 confusion matrix를 이해해야 함"
   ]
  },
  {
   "cell_type": "markdown",
   "id": "9784aaa7",
   "metadata": {},
   "source": [
    "### 2진분류가 디폴트\n",
    "### 0,1 에 대한 기준은 다르게 설정할 수 있다. ( 1이 성공이 아니라 1이 실패로 설정할 수 있음) \n",
    "### 클래스에 대한 기준에 따라 매트릭스 결과도 다르게 볼 수 있다.\n",
    "### 기본적으로 0보다는 1을 예측을 하려고 하니깐 \n",
    "            - 예측값\n",
    "            0(negative)                1(positive)\n",
    "       0   TN(True Negative)           FP(False Positive)\n",
    "- 실제값\n",
    "\n",
    "      1    FN(False Negative)          TP(True Postivie)\n",
    "      \n",
    "      \n",
    "- 앞에는 대부분 True, False 참 또는 거짓\n",
    "- 참과 거짓을 선별하는 기준은 실제값과 예측값이 같냐 틀리냐에 따라 다르다.\n",
    "- Neg, pos 예측한 값에 대한 라벨링을 말하는 것\n",
    "\n",
    "- 0,1,2\n",
    "\n",
    "- 0, (1,2)\n",
    "- 1, (0,2)"
   ]
  },
  {
   "cell_type": "markdown",
   "id": "b2d0c199",
   "metadata": {},
   "source": [
    "### 전시간에 냈던 과제도 다 노션에 업로드 잘 부탁드립니다!"
   ]
  },
  {
   "cell_type": "code",
   "execution_count": null,
   "id": "b91fddc2",
   "metadata": {},
   "outputs": [],
   "source": []
  }
 ],
 "metadata": {
  "kernelspec": {
   "display_name": "Python 3 (ipykernel)",
   "language": "python",
   "name": "python3"
  },
  "language_info": {
   "codemirror_mode": {
    "name": "ipython",
    "version": 3
   },
   "file_extension": ".py",
   "mimetype": "text/x-python",
   "name": "python",
   "nbconvert_exporter": "python",
   "pygments_lexer": "ipython3",
   "version": "3.10.11"
  }
 },
 "nbformat": 4,
 "nbformat_minor": 5
}
