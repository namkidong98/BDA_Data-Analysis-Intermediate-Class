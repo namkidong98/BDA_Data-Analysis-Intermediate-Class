{
 "cells": [
  {
   "cell_type": "code",
   "execution_count": 2,
   "id": "a989cbc4",
   "metadata": {},
   "outputs": [],
   "source": [
    "from sklearn.datasets import load_iris\n",
    "from sklearn.tree import DecisionTreeClassifier\n",
    "from sklearn.model_selection import train_test_split\n",
    "from sklearn.metrics import accuracy_score, precision_score, recall_score #Confusion matrix 수업 때 진행할 예정 \n",
    "from sklearn.model_selection import KFold\n",
    "from sklearn.metrics import classification_report\n",
    "from sklearn.metrics import accuracy_score#임포트 \n",
    "import numpy as np\n",
    "import pandas as pd"
   ]
  },
  {
   "cell_type": "code",
   "execution_count": 3,
   "id": "ae21768d",
   "metadata": {},
   "outputs": [],
   "source": [
    "fold_iris = load_iris()\n",
    "features = fold_iris.data\n",
    "\n",
    "label= fold_iris.target"
   ]
  },
  {
   "cell_type": "code",
   "execution_count": 4,
   "id": "acaa65b6",
   "metadata": {},
   "outputs": [
    {
     "data": {
      "text/plain": [
       "array([[5.1, 3.5, 1.4, 0.2],\n",
       "       [4.9, 3. , 1.4, 0.2],\n",
       "       [4.7, 3.2, 1.3, 0.2],\n",
       "       [4.6, 3.1, 1.5, 0.2],\n",
       "       [5. , 3.6, 1.4, 0.2],\n",
       "       [5.4, 3.9, 1.7, 0.4],\n",
       "       [4.6, 3.4, 1.4, 0.3],\n",
       "       [5. , 3.4, 1.5, 0.2],\n",
       "       [4.4, 2.9, 1.4, 0.2],\n",
       "       [4.9, 3.1, 1.5, 0.1],\n",
       "       [5.4, 3.7, 1.5, 0.2],\n",
       "       [4.8, 3.4, 1.6, 0.2],\n",
       "       [4.8, 3. , 1.4, 0.1],\n",
       "       [4.3, 3. , 1.1, 0.1],\n",
       "       [5.8, 4. , 1.2, 0.2],\n",
       "       [5.7, 4.4, 1.5, 0.4],\n",
       "       [5.4, 3.9, 1.3, 0.4],\n",
       "       [5.1, 3.5, 1.4, 0.3],\n",
       "       [5.7, 3.8, 1.7, 0.3],\n",
       "       [5.1, 3.8, 1.5, 0.3],\n",
       "       [5.4, 3.4, 1.7, 0.2],\n",
       "       [5.1, 3.7, 1.5, 0.4],\n",
       "       [4.6, 3.6, 1. , 0.2],\n",
       "       [5.1, 3.3, 1.7, 0.5],\n",
       "       [4.8, 3.4, 1.9, 0.2],\n",
       "       [5. , 3. , 1.6, 0.2],\n",
       "       [5. , 3.4, 1.6, 0.4],\n",
       "       [5.2, 3.5, 1.5, 0.2],\n",
       "       [5.2, 3.4, 1.4, 0.2],\n",
       "       [4.7, 3.2, 1.6, 0.2],\n",
       "       [4.8, 3.1, 1.6, 0.2],\n",
       "       [5.4, 3.4, 1.5, 0.4],\n",
       "       [5.2, 4.1, 1.5, 0.1],\n",
       "       [5.5, 4.2, 1.4, 0.2],\n",
       "       [4.9, 3.1, 1.5, 0.2],\n",
       "       [5. , 3.2, 1.2, 0.2],\n",
       "       [5.5, 3.5, 1.3, 0.2],\n",
       "       [4.9, 3.6, 1.4, 0.1],\n",
       "       [4.4, 3. , 1.3, 0.2],\n",
       "       [5.1, 3.4, 1.5, 0.2],\n",
       "       [5. , 3.5, 1.3, 0.3],\n",
       "       [4.5, 2.3, 1.3, 0.3],\n",
       "       [4.4, 3.2, 1.3, 0.2],\n",
       "       [5. , 3.5, 1.6, 0.6],\n",
       "       [5.1, 3.8, 1.9, 0.4],\n",
       "       [4.8, 3. , 1.4, 0.3],\n",
       "       [5.1, 3.8, 1.6, 0.2],\n",
       "       [4.6, 3.2, 1.4, 0.2],\n",
       "       [5.3, 3.7, 1.5, 0.2],\n",
       "       [5. , 3.3, 1.4, 0.2],\n",
       "       [7. , 3.2, 4.7, 1.4],\n",
       "       [6.4, 3.2, 4.5, 1.5],\n",
       "       [6.9, 3.1, 4.9, 1.5],\n",
       "       [5.5, 2.3, 4. , 1.3],\n",
       "       [6.5, 2.8, 4.6, 1.5],\n",
       "       [5.7, 2.8, 4.5, 1.3],\n",
       "       [6.3, 3.3, 4.7, 1.6],\n",
       "       [4.9, 2.4, 3.3, 1. ],\n",
       "       [6.6, 2.9, 4.6, 1.3],\n",
       "       [5.2, 2.7, 3.9, 1.4],\n",
       "       [5. , 2. , 3.5, 1. ],\n",
       "       [5.9, 3. , 4.2, 1.5],\n",
       "       [6. , 2.2, 4. , 1. ],\n",
       "       [6.1, 2.9, 4.7, 1.4],\n",
       "       [5.6, 2.9, 3.6, 1.3],\n",
       "       [6.7, 3.1, 4.4, 1.4],\n",
       "       [5.6, 3. , 4.5, 1.5],\n",
       "       [5.8, 2.7, 4.1, 1. ],\n",
       "       [6.2, 2.2, 4.5, 1.5],\n",
       "       [5.6, 2.5, 3.9, 1.1],\n",
       "       [5.9, 3.2, 4.8, 1.8],\n",
       "       [6.1, 2.8, 4. , 1.3],\n",
       "       [6.3, 2.5, 4.9, 1.5],\n",
       "       [6.1, 2.8, 4.7, 1.2],\n",
       "       [6.4, 2.9, 4.3, 1.3],\n",
       "       [6.6, 3. , 4.4, 1.4],\n",
       "       [6.8, 2.8, 4.8, 1.4],\n",
       "       [6.7, 3. , 5. , 1.7],\n",
       "       [6. , 2.9, 4.5, 1.5],\n",
       "       [5.7, 2.6, 3.5, 1. ],\n",
       "       [5.5, 2.4, 3.8, 1.1],\n",
       "       [5.5, 2.4, 3.7, 1. ],\n",
       "       [5.8, 2.7, 3.9, 1.2],\n",
       "       [6. , 2.7, 5.1, 1.6],\n",
       "       [5.4, 3. , 4.5, 1.5],\n",
       "       [6. , 3.4, 4.5, 1.6],\n",
       "       [6.7, 3.1, 4.7, 1.5],\n",
       "       [6.3, 2.3, 4.4, 1.3],\n",
       "       [5.6, 3. , 4.1, 1.3],\n",
       "       [5.5, 2.5, 4. , 1.3],\n",
       "       [5.5, 2.6, 4.4, 1.2],\n",
       "       [6.1, 3. , 4.6, 1.4],\n",
       "       [5.8, 2.6, 4. , 1.2],\n",
       "       [5. , 2.3, 3.3, 1. ],\n",
       "       [5.6, 2.7, 4.2, 1.3],\n",
       "       [5.7, 3. , 4.2, 1.2],\n",
       "       [5.7, 2.9, 4.2, 1.3],\n",
       "       [6.2, 2.9, 4.3, 1.3],\n",
       "       [5.1, 2.5, 3. , 1.1],\n",
       "       [5.7, 2.8, 4.1, 1.3],\n",
       "       [6.3, 3.3, 6. , 2.5],\n",
       "       [5.8, 2.7, 5.1, 1.9],\n",
       "       [7.1, 3. , 5.9, 2.1],\n",
       "       [6.3, 2.9, 5.6, 1.8],\n",
       "       [6.5, 3. , 5.8, 2.2],\n",
       "       [7.6, 3. , 6.6, 2.1],\n",
       "       [4.9, 2.5, 4.5, 1.7],\n",
       "       [7.3, 2.9, 6.3, 1.8],\n",
       "       [6.7, 2.5, 5.8, 1.8],\n",
       "       [7.2, 3.6, 6.1, 2.5],\n",
       "       [6.5, 3.2, 5.1, 2. ],\n",
       "       [6.4, 2.7, 5.3, 1.9],\n",
       "       [6.8, 3. , 5.5, 2.1],\n",
       "       [5.7, 2.5, 5. , 2. ],\n",
       "       [5.8, 2.8, 5.1, 2.4],\n",
       "       [6.4, 3.2, 5.3, 2.3],\n",
       "       [6.5, 3. , 5.5, 1.8],\n",
       "       [7.7, 3.8, 6.7, 2.2],\n",
       "       [7.7, 2.6, 6.9, 2.3],\n",
       "       [6. , 2.2, 5. , 1.5],\n",
       "       [6.9, 3.2, 5.7, 2.3],\n",
       "       [5.6, 2.8, 4.9, 2. ],\n",
       "       [7.7, 2.8, 6.7, 2. ],\n",
       "       [6.3, 2.7, 4.9, 1.8],\n",
       "       [6.7, 3.3, 5.7, 2.1],\n",
       "       [7.2, 3.2, 6. , 1.8],\n",
       "       [6.2, 2.8, 4.8, 1.8],\n",
       "       [6.1, 3. , 4.9, 1.8],\n",
       "       [6.4, 2.8, 5.6, 2.1],\n",
       "       [7.2, 3. , 5.8, 1.6],\n",
       "       [7.4, 2.8, 6.1, 1.9],\n",
       "       [7.9, 3.8, 6.4, 2. ],\n",
       "       [6.4, 2.8, 5.6, 2.2],\n",
       "       [6.3, 2.8, 5.1, 1.5],\n",
       "       [6.1, 2.6, 5.6, 1.4],\n",
       "       [7.7, 3. , 6.1, 2.3],\n",
       "       [6.3, 3.4, 5.6, 2.4],\n",
       "       [6.4, 3.1, 5.5, 1.8],\n",
       "       [6. , 3. , 4.8, 1.8],\n",
       "       [6.9, 3.1, 5.4, 2.1],\n",
       "       [6.7, 3.1, 5.6, 2.4],\n",
       "       [6.9, 3.1, 5.1, 2.3],\n",
       "       [5.8, 2.7, 5.1, 1.9],\n",
       "       [6.8, 3.2, 5.9, 2.3],\n",
       "       [6.7, 3.3, 5.7, 2.5],\n",
       "       [6.7, 3. , 5.2, 2.3],\n",
       "       [6.3, 2.5, 5. , 1.9],\n",
       "       [6.5, 3. , 5.2, 2. ],\n",
       "       [6.2, 3.4, 5.4, 2.3],\n",
       "       [5.9, 3. , 5.1, 1.8]])"
      ]
     },
     "execution_count": 4,
     "metadata": {},
     "output_type": "execute_result"
    }
   ],
   "source": [
    "features"
   ]
  },
  {
   "cell_type": "code",
   "execution_count": 5,
   "id": "b3428c20",
   "metadata": {},
   "outputs": [
    {
     "data": {
      "text/plain": [
       "array([0, 0, 0, 0, 0, 0, 0, 0, 0, 0, 0, 0, 0, 0, 0, 0, 0, 0, 0, 0, 0, 0,\n",
       "       0, 0, 0, 0, 0, 0, 0, 0, 0, 0, 0, 0, 0, 0, 0, 0, 0, 0, 0, 0, 0, 0,\n",
       "       0, 0, 0, 0, 0, 0, 1, 1, 1, 1, 1, 1, 1, 1, 1, 1, 1, 1, 1, 1, 1, 1,\n",
       "       1, 1, 1, 1, 1, 1, 1, 1, 1, 1, 1, 1, 1, 1, 1, 1, 1, 1, 1, 1, 1, 1,\n",
       "       1, 1, 1, 1, 1, 1, 1, 1, 1, 1, 1, 1, 2, 2, 2, 2, 2, 2, 2, 2, 2, 2,\n",
       "       2, 2, 2, 2, 2, 2, 2, 2, 2, 2, 2, 2, 2, 2, 2, 2, 2, 2, 2, 2, 2, 2,\n",
       "       2, 2, 2, 2, 2, 2, 2, 2, 2, 2, 2, 2, 2, 2, 2, 2, 2, 2])"
      ]
     },
     "execution_count": 5,
     "metadata": {},
     "output_type": "execute_result"
    }
   ],
   "source": [
    "label"
   ]
  },
  {
   "cell_type": "markdown",
   "id": "db446169",
   "metadata": {},
   "source": [
    "## 1. Train/test/split\n",
    "\n",
    "- 기본 모델로 나눠서 실제 과적합이 어떤 식으로 발생하는지?"
   ]
  },
  {
   "cell_type": "code",
   "execution_count": 37,
   "id": "919fec01",
   "metadata": {},
   "outputs": [],
   "source": [
    "X_train, X_test, y_train, y_test = train_test_split(features, label, test_size=0.2, random_state=111)"
   ]
  },
  {
   "cell_type": "code",
   "execution_count": 43,
   "id": "eea6cc6a",
   "metadata": {},
   "outputs": [],
   "source": [
    "model = DecisionTreeClassifier()\n",
    "model_sp1 = DecisionTreeClassifier(random_state=111, max_depth=3)\n",
    "model.fit(X_train, y_train) #모델 학습\n",
    "model_sp1.fit(X_train, y_train) #모델 학습\n",
    "pred_train = model.predict(X_train) #train 예측\n",
    "pred_test = model.predict(X_test) # test예측\n",
    "\n",
    "pred_train_sp = model_sp1.predict(X_train) #train 예측\n",
    "pred_test_sp = model_sp1.predict(X_test) # test예측"
   ]
  },
  {
   "cell_type": "code",
   "execution_count": 44,
   "id": "6f396034",
   "metadata": {},
   "outputs": [
    {
     "name": "stdout",
     "output_type": "stream",
     "text": [
      "1.0\n",
      "0.9\n"
     ]
    }
   ],
   "source": [
    "print(accuracy_score(y_train, pred_train))\n",
    "print(accuracy_score(y_test, pred_test))"
   ]
  },
  {
   "cell_type": "code",
   "execution_count": 45,
   "id": "b392d4e1",
   "metadata": {},
   "outputs": [
    {
     "name": "stdout",
     "output_type": "stream",
     "text": [
      "0.9916666666666667\n",
      "0.9\n"
     ]
    }
   ],
   "source": [
    "print(accuracy_score(y_train, pred_train_sp))\n",
    "print(accuracy_score(y_test, pred_test_sp))"
   ]
  },
  {
   "cell_type": "markdown",
   "id": "f4b99fc2",
   "metadata": {},
   "source": [
    "- max_depth=3 으로 진행하면 기존 train 1에서 -> 0.9916666666666667 train 정확도가 줄었다.\n",
    "- decisionTree -> 가지치기 형식으로 뻗어나는 구조 -> 데이터를 나눠가면서 분리하는데 max_depth 라는 것이 최대 깊이를 말하는데 이 부분을 최소화로 줄이니깐 (3) 으로 줄이니 -> train 정확도가 좀 줄어들었다.\n",
    "\n",
    "\n",
    "- iris 데이터라서 너무 작기 때문에 그럴 수 있지만-> 동일한 원리로 보면 최대 깊이를 지정한다는 것은\n",
    "- 최대 깊이를 지정하지 않았을 때 -> 데이터의 모든 것을 다 분리하고 학습\n",
    "- 최대 깊이를 지정한 경우는 -> 분리하는 과정에서 3개 까지만 분리하고 멈춘 것 ( 아직 분리할 것들이 남았지만 그 부분은 학습하지 않음 )\n",
    "- 기존에 1이아닌 정확도가 조금 줄게 되었고, 이부분이 과적합을 막기 위해서 하이퍼파라미터를 튜닝해서 과적합을 줄이고 일반화를 하기 위해 진행한 것"
   ]
  },
  {
   "cell_type": "markdown",
   "id": "6dd6d283",
   "metadata": {},
   "source": [
    "- train 1\n",
    "- test 0.9\n",
    "\n",
    "- 과적합으로 인해 문제가 발생했다."
   ]
  },
  {
   "cell_type": "markdown",
   "id": "032a31b5",
   "metadata": {},
   "source": [
    "## 교차검증을 통해서 과연 과적합이 나눠지는지?"
   ]
  },
  {
   "cell_type": "code",
   "execution_count": 46,
   "id": "24f85714",
   "metadata": {},
   "outputs": [],
   "source": [
    "from sklearn.model_selection import KFold\n",
    "\n",
    "kfold= KFold(n_splits=5) #데이터셋을 분리하는 것\n",
    "\n",
    "cv_accuracy_train=[]\n",
    "cv_accuracy_test=[]\n",
    "kf_model = DecisionTreeClassifier(random_state=111, max_depth=3)"
   ]
  },
  {
   "cell_type": "code",
   "execution_count": 47,
   "id": "2f0e0baa",
   "metadata": {},
   "outputs": [
    {
     "data": {
      "text/plain": [
       "KFold(n_splits=5, random_state=None, shuffle=False)"
      ]
     },
     "execution_count": 47,
     "metadata": {},
     "output_type": "execute_result"
    }
   ],
   "source": [
    "kfold"
   ]
  },
  {
   "cell_type": "code",
   "execution_count": 48,
   "id": "15e1a055",
   "metadata": {},
   "outputs": [
    {
     "name": "stdout",
     "output_type": "stream",
     "text": [
      "\n",
      "1 번 train 교차 검증 정확도 :0.975 ,test 교차 검증 정확도 :1.0 \n",
      "\n",
      "2 번 train 교차 검증 정확도 :0.975 ,test 교차 검증 정확도 :0.9667 \n",
      "\n",
      "3 번 train 교차 검증 정확도 :0.9917 ,test 교차 검증 정확도 :0.8333 \n",
      "\n",
      "4 번 train 교차 검증 정확도 :0.9833 ,test 교차 검증 정확도 :0.9333 \n",
      "\n",
      "5 번 train 교차 검증 정확도 :0.975 ,test 교차 검증 정확도 :0.7 \n",
      "train 평균 정확도 0.9799999999999999\n",
      "test 평균 정확도 0.88666\n"
     ]
    }
   ],
   "source": [
    "n_iter = 0 #5번 진행하니 초깃값 설정\n",
    "\n",
    "for train_idx, test_idx in kfold.split(features):\n",
    "    X_train, X_test = features[train_idx], features[test_idx]\n",
    "    y_train, y_test = label[train_idx], label[test_idx]\n",
    "    \n",
    "    #학습을 위해서 dt배우기\n",
    "    kf_model.fit(X_train, y_train)\n",
    "    #예측\n",
    "    kf_pred_train = kf_model.predict(X_train)\n",
    "    df_pred_test = kf_model.predict(X_test)\n",
    "    \n",
    "    #정확도를 5번 측정하면서 값에 넣을 것이니\n",
    "    n_iter +=1\n",
    "    accuracy_train = np.round(accuracy_score(y_train, kf_pred_train),4)\n",
    "    accuracy_test = np.round(accuracy_score(y_test, df_pred_test),4)\n",
    "    \n",
    "    print('\\n{} 번 train 교차 검증 정확도 :{} ,test 교차 검증 정확도 :{} '.format(n_iter,accuracy_train, accuracy_test))\n",
    "    \n",
    "    cv_accuracy_train.append(accuracy_train)\n",
    "    cv_accuracy_test.append(accuracy_test)\n",
    "    \n",
    "print('train 평균 정확도',np.mean(cv_accuracy_train))\n",
    "print('test 평균 정확도',np.mean(cv_accuracy_test))"
   ]
  },
  {
   "cell_type": "markdown",
   "id": "ce582e93",
   "metadata": {},
   "source": [
    "- train은 확실히 줄어들었다.\n",
    "- 기존에 하이퍼파라미터가 없는 경우는 다 1\n",
    "- 지금은 0.9 정도로 떨어짐\n",
    "- 신기한 건 교차검증정확도가 1도 나온다? \n",
    "\n",
    "- train 0.975 test는 1이 나왔다?\n",
    "- 이 부분 어떻게 해석해야 하는가?"
   ]
  },
  {
   "cell_type": "markdown",
   "id": "490ad8cc",
   "metadata": {},
   "source": [
    "### 이 부분을 해결하기 위해서는?\n",
    "\n",
    "- 과적합을 막기 위해서 Skf 방식을 사용해 보자!\n",
    "\n",
    "- 모델링에서 과적합을 막기위해 하이퍼파라미터를 추가할 수 있다."
   ]
  },
  {
   "cell_type": "code",
   "execution_count": 28,
   "id": "61aae92f",
   "metadata": {},
   "outputs": [
    {
     "data": {
      "text/plain": [
       "array([0, 0, 0, 0, 0, 0, 0, 0, 0, 0, 0, 0, 0, 0, 0, 0, 0, 0, 0, 0, 0, 0,\n",
       "       0, 0, 0, 0, 0, 0, 0, 0, 0, 0, 0, 0, 0, 0, 0, 0, 0, 0, 0, 0, 0, 0,\n",
       "       0, 0, 0, 0, 0, 0, 1, 1, 1, 1, 1, 1, 1, 1, 1, 1, 1, 1, 1, 1, 1, 1,\n",
       "       1, 1, 1, 1, 1, 1, 1, 1, 1, 1, 1, 1, 1, 1, 1, 1, 1, 1, 1, 1, 1, 1,\n",
       "       1, 1, 1, 1, 1, 1, 1, 1, 1, 1, 1, 1, 2, 2, 2, 2, 2, 2, 2, 2, 2, 2,\n",
       "       2, 2, 2, 2, 2, 2, 2, 2, 2, 2, 2, 2, 2, 2, 2, 2, 2, 2, 2, 2, 2, 2,\n",
       "       2, 2, 2, 2, 2, 2, 2, 2, 2, 2, 2, 2, 2, 2, 2, 2, 2, 2])"
      ]
     },
     "execution_count": 28,
     "metadata": {},
     "output_type": "execute_result"
    }
   ],
   "source": [
    "label"
   ]
  },
  {
   "cell_type": "markdown",
   "id": "0043178c",
   "metadata": {},
   "source": [
    "## Skf 모델 진행\n",
    "\n",
    "- kfold의 문제점은?\n",
    "- 정답라벨이 0,1,2 총 3개 -> Kfold는 랜덤하게 데이터를 추출하기 때문에 정답 비중이 고르게 분포하지 않을 수 있다.\n",
    "- 그러다보니 정답레이블이 불균형또는 다중분류인 경우는 SKF를 통해서 정답 라벨 불균형을 해소해 준다!"
   ]
  },
  {
   "cell_type": "code",
   "execution_count": 49,
   "id": "47d53ffb",
   "metadata": {},
   "outputs": [],
   "source": [
    "from sklearn.model_selection import StratifiedKFold\n",
    "\n",
    "skf_iris = StratifiedKFold(n_splits=3)\n",
    "cnt_iter=0"
   ]
  },
  {
   "cell_type": "code",
   "execution_count": 50,
   "id": "df6ef2d6",
   "metadata": {},
   "outputs": [
    {
     "data": {
      "text/plain": [
       "StratifiedKFold(n_splits=3, random_state=None, shuffle=False)"
      ]
     },
     "execution_count": 50,
     "metadata": {},
     "output_type": "execute_result"
    }
   ],
   "source": [
    "skf_iris"
   ]
  },
  {
   "cell_type": "code",
   "execution_count": 51,
   "id": "3188b7a4",
   "metadata": {},
   "outputs": [
    {
     "name": "stdout",
     "output_type": "stream",
     "text": [
      "\n",
      "1 번 train 교차 검증 정확도 :0.95 ,test 교차 검증 정확도 :0.98 \n",
      "\n",
      "2 번 train 교차 검증 정확도 :0.99 ,test 교차 검증 정확도 :0.94 \n",
      "\n",
      "3 번 train 교차 검증 정확도 :0.97 ,test 교차 검증 정확도 :0.96 \n",
      "train 평균 정확도 0.9700000000000001\n",
      "test 평균 정확도 0.96\n"
     ]
    }
   ],
   "source": [
    "n_iter=0\n",
    "\n",
    "skf_cv_accuracy_train = []\n",
    "skf_cv_accuracy_test = []\n",
    "skf_model = DecisionTreeClassifier(random_state=111, max_depth=3)\n",
    "\n",
    "for train_idx, test_idx in skf_iris.split(features, label):\n",
    "    X_train, X_test = features[train_idx], features[test_idx]\n",
    "    y_train, y_test = label[train_idx], label[test_idx]\n",
    "    \n",
    "    #학습을 위해서 dt배우기\n",
    "    skf_model.fit(X_train, y_train)\n",
    "    #예측\n",
    "    skf_pred_train = skf_model.predict(X_train)\n",
    "    skf_pred_test = skf_model.predict(X_test)\n",
    "    \n",
    "    #정확도를 5번 측정하면서 값에 넣을 것이니\n",
    "    n_iter +=1\n",
    "    accuracy_train = np.round(accuracy_score(y_train, skf_pred_train),4)\n",
    "    accuracy_test = np.round(accuracy_score(y_test, skf_pred_test),4)\n",
    "    \n",
    "    print('\\n{} 번 train 교차 검증 정확도 :{} ,test 교차 검증 정확도 :{} '.format(n_iter,accuracy_train, accuracy_test))\n",
    "    \n",
    "    skf_cv_accuracy_train.append(accuracy_train)\n",
    "    skf_cv_accuracy_test.append(accuracy_test)\n",
    "    \n",
    "print('train 평균 정확도',np.mean(skf_cv_accuracy_train))\n",
    "print('test 평균 정확도',np.mean(skf_cv_accuracy_test))"
   ]
  },
  {
   "cell_type": "markdown",
   "id": "ae8f8da6",
   "metadata": {},
   "source": [
    "### train에 대해서 과적합이 되는 것이 iris 작은 데이터라서 그런 것인지?\n",
    "### 최소 타이타닉 데이터 정도가 되면 달라지는 것인가?"
   ]
  },
  {
   "cell_type": "markdown",
   "id": "cc2d38cd",
   "metadata": {},
   "source": [
    "### 모델링에서 과적합을 막기위해 하이퍼파라미터를 추가할 수 있다.\n",
    "- 이 부분을 추가하게 되면 과적합이 정말 줄어드는지 확인하기!"
   ]
  },
  {
   "cell_type": "markdown",
   "id": "09f8b6bb",
   "metadata": {},
   "source": [
    "- kfold\n",
    "- 학습시에 0,1,2 이 정답데이터가 고르게 분포 되어 있더라도, 랜덤하게 추출하다 보니 \n",
    "- 0,1 만 있는데이터, 0만 잇는 데이터, 0,2 만있는 데이터 이런식으로 추출이 될 가능성이 높다. \n",
    "- 추출의 비중도 0(10개) 1(5개)  예를 들어\n",
    "- 이런 식으로 학습할 데이터의 라벨이 달라지면 정확도 등의 문제가 올 수 있다.\n",
    "- Skold \n",
    "- 학습시에 정답레이블의 불균형을 맞춰준다고 햇으니\n",
    "- 0,1,2 라벨이 잇는데\n",
    "- 0,1,2 (0(10),1(10),2(10)) 씩 비중도 맞춰줘서 학습하게 된다.\n",
    "\n",
    "- 정답레이블에 대한 불균형은 항상 모델링을 진행할 때 꼭 체크해야 하는 부분입니다.\n",
    "- iris 150개 정도 밖에 되지 않아서 다른 데이터 set으로 과제를 진행하자!"
   ]
  },
  {
   "cell_type": "code",
   "execution_count": 55,
   "id": "667796d4",
   "metadata": {},
   "outputs": [],
   "source": [
    "import pandas as pd\n",
    "iris=load_iris()\n",
    "\n",
    "iris_df = pd.DataFrame(data=iris.data, columns=iris.feature_names)\n",
    "iris_df['label'] = iris.target"
   ]
  },
  {
   "cell_type": "code",
   "execution_count": 56,
   "id": "a5d92dd8",
   "metadata": {},
   "outputs": [
    {
     "data": {
      "text/html": [
       "<div>\n",
       "<style scoped>\n",
       "    .dataframe tbody tr th:only-of-type {\n",
       "        vertical-align: middle;\n",
       "    }\n",
       "\n",
       "    .dataframe tbody tr th {\n",
       "        vertical-align: top;\n",
       "    }\n",
       "\n",
       "    .dataframe thead th {\n",
       "        text-align: right;\n",
       "    }\n",
       "</style>\n",
       "<table border=\"1\" class=\"dataframe\">\n",
       "  <thead>\n",
       "    <tr style=\"text-align: right;\">\n",
       "      <th></th>\n",
       "      <th>sepal length (cm)</th>\n",
       "      <th>sepal width (cm)</th>\n",
       "      <th>petal length (cm)</th>\n",
       "      <th>petal width (cm)</th>\n",
       "      <th>label</th>\n",
       "    </tr>\n",
       "  </thead>\n",
       "  <tbody>\n",
       "    <tr>\n",
       "      <th>0</th>\n",
       "      <td>5.1</td>\n",
       "      <td>3.5</td>\n",
       "      <td>1.4</td>\n",
       "      <td>0.2</td>\n",
       "      <td>0</td>\n",
       "    </tr>\n",
       "    <tr>\n",
       "      <th>1</th>\n",
       "      <td>4.9</td>\n",
       "      <td>3.0</td>\n",
       "      <td>1.4</td>\n",
       "      <td>0.2</td>\n",
       "      <td>0</td>\n",
       "    </tr>\n",
       "    <tr>\n",
       "      <th>2</th>\n",
       "      <td>4.7</td>\n",
       "      <td>3.2</td>\n",
       "      <td>1.3</td>\n",
       "      <td>0.2</td>\n",
       "      <td>0</td>\n",
       "    </tr>\n",
       "    <tr>\n",
       "      <th>3</th>\n",
       "      <td>4.6</td>\n",
       "      <td>3.1</td>\n",
       "      <td>1.5</td>\n",
       "      <td>0.2</td>\n",
       "      <td>0</td>\n",
       "    </tr>\n",
       "    <tr>\n",
       "      <th>4</th>\n",
       "      <td>5.0</td>\n",
       "      <td>3.6</td>\n",
       "      <td>1.4</td>\n",
       "      <td>0.2</td>\n",
       "      <td>0</td>\n",
       "    </tr>\n",
       "    <tr>\n",
       "      <th>...</th>\n",
       "      <td>...</td>\n",
       "      <td>...</td>\n",
       "      <td>...</td>\n",
       "      <td>...</td>\n",
       "      <td>...</td>\n",
       "    </tr>\n",
       "    <tr>\n",
       "      <th>145</th>\n",
       "      <td>6.7</td>\n",
       "      <td>3.0</td>\n",
       "      <td>5.2</td>\n",
       "      <td>2.3</td>\n",
       "      <td>2</td>\n",
       "    </tr>\n",
       "    <tr>\n",
       "      <th>146</th>\n",
       "      <td>6.3</td>\n",
       "      <td>2.5</td>\n",
       "      <td>5.0</td>\n",
       "      <td>1.9</td>\n",
       "      <td>2</td>\n",
       "    </tr>\n",
       "    <tr>\n",
       "      <th>147</th>\n",
       "      <td>6.5</td>\n",
       "      <td>3.0</td>\n",
       "      <td>5.2</td>\n",
       "      <td>2.0</td>\n",
       "      <td>2</td>\n",
       "    </tr>\n",
       "    <tr>\n",
       "      <th>148</th>\n",
       "      <td>6.2</td>\n",
       "      <td>3.4</td>\n",
       "      <td>5.4</td>\n",
       "      <td>2.3</td>\n",
       "      <td>2</td>\n",
       "    </tr>\n",
       "    <tr>\n",
       "      <th>149</th>\n",
       "      <td>5.9</td>\n",
       "      <td>3.0</td>\n",
       "      <td>5.1</td>\n",
       "      <td>1.8</td>\n",
       "      <td>2</td>\n",
       "    </tr>\n",
       "  </tbody>\n",
       "</table>\n",
       "<p>150 rows × 5 columns</p>\n",
       "</div>"
      ],
      "text/plain": [
       "     sepal length (cm)  sepal width (cm)  petal length (cm)  petal width (cm)   \n",
       "0                  5.1               3.5                1.4               0.2  \\\n",
       "1                  4.9               3.0                1.4               0.2   \n",
       "2                  4.7               3.2                1.3               0.2   \n",
       "3                  4.6               3.1                1.5               0.2   \n",
       "4                  5.0               3.6                1.4               0.2   \n",
       "..                 ...               ...                ...               ...   \n",
       "145                6.7               3.0                5.2               2.3   \n",
       "146                6.3               2.5                5.0               1.9   \n",
       "147                6.5               3.0                5.2               2.0   \n",
       "148                6.2               3.4                5.4               2.3   \n",
       "149                5.9               3.0                5.1               1.8   \n",
       "\n",
       "     label  \n",
       "0        0  \n",
       "1        0  \n",
       "2        0  \n",
       "3        0  \n",
       "4        0  \n",
       "..     ...  \n",
       "145      2  \n",
       "146      2  \n",
       "147      2  \n",
       "148      2  \n",
       "149      2  \n",
       "\n",
       "[150 rows x 5 columns]"
      ]
     },
     "execution_count": 56,
     "metadata": {},
     "output_type": "execute_result"
    }
   ],
   "source": [
    "iris_df"
   ]
  },
  {
   "cell_type": "code",
   "execution_count": 58,
   "id": "f04db887",
   "metadata": {},
   "outputs": [
    {
     "name": "stdout",
     "output_type": "stream",
     "text": [
      "학습 정답 레이블 label\n",
      "1    50\n",
      "2    50\n",
      "0    20\n",
      "Name: count, dtype: int64\n",
      "학습 정답 레이블 label\n",
      "0    30\n",
      "Name: count, dtype: int64\n",
      "학습 정답 레이블 label\n",
      "2    50\n",
      "1    40\n",
      "0    30\n",
      "Name: count, dtype: int64\n",
      "학습 정답 레이블 label\n",
      "0    20\n",
      "1    10\n",
      "Name: count, dtype: int64\n",
      "학습 정답 레이블 label\n",
      "0    50\n",
      "2    50\n",
      "1    20\n",
      "Name: count, dtype: int64\n",
      "학습 정답 레이블 label\n",
      "1    30\n",
      "Name: count, dtype: int64\n",
      "학습 정답 레이블 label\n",
      "0    50\n",
      "1    40\n",
      "2    30\n",
      "Name: count, dtype: int64\n",
      "학습 정답 레이블 label\n",
      "2    20\n",
      "1    10\n",
      "Name: count, dtype: int64\n",
      "학습 정답 레이블 label\n",
      "0    50\n",
      "1    50\n",
      "2    20\n",
      "Name: count, dtype: int64\n",
      "학습 정답 레이블 label\n",
      "2    30\n",
      "Name: count, dtype: int64\n"
     ]
    }
   ],
   "source": [
    "kfold= KFold(n_splits=5) \n",
    "n_iter = 0\n",
    "\n",
    "for train_idx, test_idx in kfold.split(iris_df):\n",
    "    n_iter +=1\n",
    "    label_train = iris_df['label'].iloc[train_idx]\n",
    "    label_test = iris_df['label'].iloc[test_idx]\n",
    "    print('학습 정답 레이블', label_train.value_counts())\n",
    "    print('학습 정답 레이블', label_test.value_counts())"
   ]
  },
  {
   "cell_type": "code",
   "execution_count": 59,
   "id": "796447ba",
   "metadata": {},
   "outputs": [
    {
     "name": "stdout",
     "output_type": "stream",
     "text": [
      "학습 정답 레이블 label\n",
      "2    34\n",
      "0    33\n",
      "1    33\n",
      "Name: count, dtype: int64\n",
      "학습 정답 레이블 label\n",
      "0    17\n",
      "1    17\n",
      "2    16\n",
      "Name: count, dtype: int64\n",
      "학습 정답 레이블 label\n",
      "1    34\n",
      "0    33\n",
      "2    33\n",
      "Name: count, dtype: int64\n",
      "학습 정답 레이블 label\n",
      "0    17\n",
      "2    17\n",
      "1    16\n",
      "Name: count, dtype: int64\n",
      "학습 정답 레이블 label\n",
      "0    34\n",
      "1    33\n",
      "2    33\n",
      "Name: count, dtype: int64\n",
      "학습 정답 레이블 label\n",
      "1    17\n",
      "2    17\n",
      "0    16\n",
      "Name: count, dtype: int64\n"
     ]
    }
   ],
   "source": [
    "skf_iris = StratifiedKFold(n_splits=3)\n",
    "n_iter=0\n",
    "\n",
    "for train_idx, test_idx in skf_iris.split(iris_df,iris_df['label']):\n",
    "    n_iter +=1\n",
    "    label_train = iris_df['label'].iloc[train_idx]\n",
    "    label_test = iris_df['label'].iloc[test_idx]\n",
    "    print('학습 정답 레이블', label_train.value_counts())\n",
    "    print('학습 정답 레이블', label_test.value_counts())\n"
   ]
  },
  {
   "cell_type": "markdown",
   "id": "72795a60",
   "metadata": {},
   "source": [
    "- y값의 희소성으로 발생할 수 있는 문제가\n",
    "- 공모전 같은 것이나 사기탐지, 이상치 탐지 등\n",
    "- y값이 희소한 경우 대부분의 거래는 정상이지만 비정상이 있을 수 있고 ( 비정상의 경우는 상당 낮은 경우 )\n",
    "- 클래스가 불균형이 생길 수 있다.\n",
    "- 대부분 문제들이 예측을 하는 경우에는 모든 상황이 0,1 이진으로 나눌 때 균형잡히기는 어려울 수 있다.\n",
    "\n",
    "- 이런 부분을 학습할 때 중요한 포인트이니 학습시에 꼭 불균형을 체크해야 한다."
   ]
  },
  {
   "cell_type": "markdown",
   "id": "86a48538",
   "metadata": {},
   "source": [
    "## 노션 권한 부여되면 그때 과제 제출시되는데\n",
    "## 미리 과제를 알려드리는 것\n",
    "## 노션 권한 받으면 수업 이후에 제가 기존에 2주차에 했던 과제도 올려주세요!\n",
    "## 그때 같이 올려주시면 됩니다.\n",
    "\n",
    "## 복습과제는 필수입니다.\n",
    "\n",
    "### 필수과제1\n",
    "- 타이타닉 데이터를 가지고 위의 과적합이 변경되는지 체크해 주세요!\n",
    "- 타이타닉 데이터 전처리에 대해서 요약하여 꼭 정리한 내용도 보여주셔야 합니다.\n",
    "\n",
    "### 필수과제2\n",
    "- 타이타닉은 조금 작은 데이터라 -> 몇 만? 정도 되는 데이터를 드릴 예정 \n",
    "- 해당 데이터를 전처리하여 위의 과적합이 실제로 해소되는지를 꼭 체크하기!\n",
    "- 전처리 내용은 필수적으로 다 적어야 하고\n",
    "\n",
    "### 결론 도출\n",
    "- 해당 필수과제1과 필수과제2의 결론을 통해서 본인이 얻은 인사이트를 간략하게 정리해 주세요!"
   ]
  },
  {
   "cell_type": "code",
   "execution_count": null,
   "id": "2e0791bd",
   "metadata": {},
   "outputs": [],
   "source": []
  }
 ],
 "metadata": {
  "kernelspec": {
   "display_name": "Python 3 (ipykernel)",
   "language": "python",
   "name": "python3"
  },
  "language_info": {
   "codemirror_mode": {
    "name": "ipython",
    "version": 3
   },
   "file_extension": ".py",
   "mimetype": "text/x-python",
   "name": "python",
   "nbconvert_exporter": "python",
   "pygments_lexer": "ipython3",
   "version": "3.8.16"
  }
 },
 "nbformat": 4,
 "nbformat_minor": 5
}
