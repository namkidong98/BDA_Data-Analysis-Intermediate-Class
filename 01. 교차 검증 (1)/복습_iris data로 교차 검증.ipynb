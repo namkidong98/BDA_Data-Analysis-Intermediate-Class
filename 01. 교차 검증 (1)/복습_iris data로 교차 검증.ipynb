{
 "cells": [
  {
   "cell_type": "code",
   "execution_count": 12,
   "metadata": {},
   "outputs": [],
   "source": [
    "from sklearn.datasets import load_iris\n",
    "from sklearn.tree import DecisionTreeClassifier\n",
    "from sklearn.model_selection import train_test_split\n",
    "from sklearn.model_selection import KFold\n",
    "from sklearn.metrics import accuracy_score\n",
    "import numpy as np\n",
    "import pandas as pd"
   ]
  },
  {
   "cell_type": "code",
   "execution_count": 13,
   "metadata": {},
   "outputs": [],
   "source": [
    "fold_iris = load_iris()     # iris 데이터셋을 로드\n",
    "\n",
    "# 데이터와 라벨로 구분\n",
    "features = fold_iris.data\n",
    "label= fold_iris.target"
   ]
  },
  {
   "cell_type": "code",
   "execution_count": 14,
   "metadata": {},
   "outputs": [
    {
     "data": {
      "text/plain": [
       "array([[5.1, 3.5, 1.4, 0.2],\n",
       "       [4.9, 3. , 1.4, 0.2],\n",
       "       [4.7, 3.2, 1.3, 0.2],\n",
       "       [4.6, 3.1, 1.5, 0.2],\n",
       "       [5. , 3.6, 1.4, 0.2],\n",
       "       [5.4, 3.9, 1.7, 0.4],\n",
       "       [4.6, 3.4, 1.4, 0.3],\n",
       "       [5. , 3.4, 1.5, 0.2],\n",
       "       [4.4, 2.9, 1.4, 0.2],\n",
       "       [4.9, 3.1, 1.5, 0.1],\n",
       "       [5.4, 3.7, 1.5, 0.2],\n",
       "       [4.8, 3.4, 1.6, 0.2],\n",
       "       [4.8, 3. , 1.4, 0.1],\n",
       "       [4.3, 3. , 1.1, 0.1],\n",
       "       [5.8, 4. , 1.2, 0.2],\n",
       "       [5.7, 4.4, 1.5, 0.4],\n",
       "       [5.4, 3.9, 1.3, 0.4],\n",
       "       [5.1, 3.5, 1.4, 0.3],\n",
       "       [5.7, 3.8, 1.7, 0.3],\n",
       "       [5.1, 3.8, 1.5, 0.3],\n",
       "       [5.4, 3.4, 1.7, 0.2],\n",
       "       [5.1, 3.7, 1.5, 0.4],\n",
       "       [4.6, 3.6, 1. , 0.2],\n",
       "       [5.1, 3.3, 1.7, 0.5],\n",
       "       [4.8, 3.4, 1.9, 0.2],\n",
       "       [5. , 3. , 1.6, 0.2],\n",
       "       [5. , 3.4, 1.6, 0.4],\n",
       "       [5.2, 3.5, 1.5, 0.2],\n",
       "       [5.2, 3.4, 1.4, 0.2],\n",
       "       [4.7, 3.2, 1.6, 0.2],\n",
       "       [4.8, 3.1, 1.6, 0.2],\n",
       "       [5.4, 3.4, 1.5, 0.4],\n",
       "       [5.2, 4.1, 1.5, 0.1],\n",
       "       [5.5, 4.2, 1.4, 0.2],\n",
       "       [4.9, 3.1, 1.5, 0.2],\n",
       "       [5. , 3.2, 1.2, 0.2],\n",
       "       [5.5, 3.5, 1.3, 0.2],\n",
       "       [4.9, 3.6, 1.4, 0.1],\n",
       "       [4.4, 3. , 1.3, 0.2],\n",
       "       [5.1, 3.4, 1.5, 0.2],\n",
       "       [5. , 3.5, 1.3, 0.3],\n",
       "       [4.5, 2.3, 1.3, 0.3],\n",
       "       [4.4, 3.2, 1.3, 0.2],\n",
       "       [5. , 3.5, 1.6, 0.6],\n",
       "       [5.1, 3.8, 1.9, 0.4],\n",
       "       [4.8, 3. , 1.4, 0.3],\n",
       "       [5.1, 3.8, 1.6, 0.2],\n",
       "       [4.6, 3.2, 1.4, 0.2],\n",
       "       [5.3, 3.7, 1.5, 0.2],\n",
       "       [5. , 3.3, 1.4, 0.2],\n",
       "       [7. , 3.2, 4.7, 1.4],\n",
       "       [6.4, 3.2, 4.5, 1.5],\n",
       "       [6.9, 3.1, 4.9, 1.5],\n",
       "       [5.5, 2.3, 4. , 1.3],\n",
       "       [6.5, 2.8, 4.6, 1.5],\n",
       "       [5.7, 2.8, 4.5, 1.3],\n",
       "       [6.3, 3.3, 4.7, 1.6],\n",
       "       [4.9, 2.4, 3.3, 1. ],\n",
       "       [6.6, 2.9, 4.6, 1.3],\n",
       "       [5.2, 2.7, 3.9, 1.4],\n",
       "       [5. , 2. , 3.5, 1. ],\n",
       "       [5.9, 3. , 4.2, 1.5],\n",
       "       [6. , 2.2, 4. , 1. ],\n",
       "       [6.1, 2.9, 4.7, 1.4],\n",
       "       [5.6, 2.9, 3.6, 1.3],\n",
       "       [6.7, 3.1, 4.4, 1.4],\n",
       "       [5.6, 3. , 4.5, 1.5],\n",
       "       [5.8, 2.7, 4.1, 1. ],\n",
       "       [6.2, 2.2, 4.5, 1.5],\n",
       "       [5.6, 2.5, 3.9, 1.1],\n",
       "       [5.9, 3.2, 4.8, 1.8],\n",
       "       [6.1, 2.8, 4. , 1.3],\n",
       "       [6.3, 2.5, 4.9, 1.5],\n",
       "       [6.1, 2.8, 4.7, 1.2],\n",
       "       [6.4, 2.9, 4.3, 1.3],\n",
       "       [6.6, 3. , 4.4, 1.4],\n",
       "       [6.8, 2.8, 4.8, 1.4],\n",
       "       [6.7, 3. , 5. , 1.7],\n",
       "       [6. , 2.9, 4.5, 1.5],\n",
       "       [5.7, 2.6, 3.5, 1. ],\n",
       "       [5.5, 2.4, 3.8, 1.1],\n",
       "       [5.5, 2.4, 3.7, 1. ],\n",
       "       [5.8, 2.7, 3.9, 1.2],\n",
       "       [6. , 2.7, 5.1, 1.6],\n",
       "       [5.4, 3. , 4.5, 1.5],\n",
       "       [6. , 3.4, 4.5, 1.6],\n",
       "       [6.7, 3.1, 4.7, 1.5],\n",
       "       [6.3, 2.3, 4.4, 1.3],\n",
       "       [5.6, 3. , 4.1, 1.3],\n",
       "       [5.5, 2.5, 4. , 1.3],\n",
       "       [5.5, 2.6, 4.4, 1.2],\n",
       "       [6.1, 3. , 4.6, 1.4],\n",
       "       [5.8, 2.6, 4. , 1.2],\n",
       "       [5. , 2.3, 3.3, 1. ],\n",
       "       [5.6, 2.7, 4.2, 1.3],\n",
       "       [5.7, 3. , 4.2, 1.2],\n",
       "       [5.7, 2.9, 4.2, 1.3],\n",
       "       [6.2, 2.9, 4.3, 1.3],\n",
       "       [5.1, 2.5, 3. , 1.1],\n",
       "       [5.7, 2.8, 4.1, 1.3],\n",
       "       [6.3, 3.3, 6. , 2.5],\n",
       "       [5.8, 2.7, 5.1, 1.9],\n",
       "       [7.1, 3. , 5.9, 2.1],\n",
       "       [6.3, 2.9, 5.6, 1.8],\n",
       "       [6.5, 3. , 5.8, 2.2],\n",
       "       [7.6, 3. , 6.6, 2.1],\n",
       "       [4.9, 2.5, 4.5, 1.7],\n",
       "       [7.3, 2.9, 6.3, 1.8],\n",
       "       [6.7, 2.5, 5.8, 1.8],\n",
       "       [7.2, 3.6, 6.1, 2.5],\n",
       "       [6.5, 3.2, 5.1, 2. ],\n",
       "       [6.4, 2.7, 5.3, 1.9],\n",
       "       [6.8, 3. , 5.5, 2.1],\n",
       "       [5.7, 2.5, 5. , 2. ],\n",
       "       [5.8, 2.8, 5.1, 2.4],\n",
       "       [6.4, 3.2, 5.3, 2.3],\n",
       "       [6.5, 3. , 5.5, 1.8],\n",
       "       [7.7, 3.8, 6.7, 2.2],\n",
       "       [7.7, 2.6, 6.9, 2.3],\n",
       "       [6. , 2.2, 5. , 1.5],\n",
       "       [6.9, 3.2, 5.7, 2.3],\n",
       "       [5.6, 2.8, 4.9, 2. ],\n",
       "       [7.7, 2.8, 6.7, 2. ],\n",
       "       [6.3, 2.7, 4.9, 1.8],\n",
       "       [6.7, 3.3, 5.7, 2.1],\n",
       "       [7.2, 3.2, 6. , 1.8],\n",
       "       [6.2, 2.8, 4.8, 1.8],\n",
       "       [6.1, 3. , 4.9, 1.8],\n",
       "       [6.4, 2.8, 5.6, 2.1],\n",
       "       [7.2, 3. , 5.8, 1.6],\n",
       "       [7.4, 2.8, 6.1, 1.9],\n",
       "       [7.9, 3.8, 6.4, 2. ],\n",
       "       [6.4, 2.8, 5.6, 2.2],\n",
       "       [6.3, 2.8, 5.1, 1.5],\n",
       "       [6.1, 2.6, 5.6, 1.4],\n",
       "       [7.7, 3. , 6.1, 2.3],\n",
       "       [6.3, 3.4, 5.6, 2.4],\n",
       "       [6.4, 3.1, 5.5, 1.8],\n",
       "       [6. , 3. , 4.8, 1.8],\n",
       "       [6.9, 3.1, 5.4, 2.1],\n",
       "       [6.7, 3.1, 5.6, 2.4],\n",
       "       [6.9, 3.1, 5.1, 2.3],\n",
       "       [5.8, 2.7, 5.1, 1.9],\n",
       "       [6.8, 3.2, 5.9, 2.3],\n",
       "       [6.7, 3.3, 5.7, 2.5],\n",
       "       [6.7, 3. , 5.2, 2.3],\n",
       "       [6.3, 2.5, 5. , 1.9],\n",
       "       [6.5, 3. , 5.2, 2. ],\n",
       "       [6.2, 3.4, 5.4, 2.3],\n",
       "       [5.9, 3. , 5.1, 1.8]])"
      ]
     },
     "execution_count": 14,
     "metadata": {},
     "output_type": "execute_result"
    }
   ],
   "source": [
    "features"
   ]
  },
  {
   "cell_type": "code",
   "execution_count": 15,
   "metadata": {},
   "outputs": [
    {
     "data": {
      "text/plain": [
       "array([0, 0, 0, 0, 0, 0, 0, 0, 0, 0, 0, 0, 0, 0, 0, 0, 0, 0, 0, 0, 0, 0,\n",
       "       0, 0, 0, 0, 0, 0, 0, 0, 0, 0, 0, 0, 0, 0, 0, 0, 0, 0, 0, 0, 0, 0,\n",
       "       0, 0, 0, 0, 0, 0, 1, 1, 1, 1, 1, 1, 1, 1, 1, 1, 1, 1, 1, 1, 1, 1,\n",
       "       1, 1, 1, 1, 1, 1, 1, 1, 1, 1, 1, 1, 1, 1, 1, 1, 1, 1, 1, 1, 1, 1,\n",
       "       1, 1, 1, 1, 1, 1, 1, 1, 1, 1, 1, 1, 2, 2, 2, 2, 2, 2, 2, 2, 2, 2,\n",
       "       2, 2, 2, 2, 2, 2, 2, 2, 2, 2, 2, 2, 2, 2, 2, 2, 2, 2, 2, 2, 2, 2,\n",
       "       2, 2, 2, 2, 2, 2, 2, 2, 2, 2, 2, 2, 2, 2, 2, 2, 2, 2])"
      ]
     },
     "execution_count": 15,
     "metadata": {},
     "output_type": "execute_result"
    }
   ],
   "source": [
    "label"
   ]
  },
  {
   "cell_type": "markdown",
   "metadata": {},
   "source": [
    "## Decision Tree를 이용한 모델 학습 및 예측\n",
    "\n",
    "1. train / test 데이터로 split\n",
    "2. model을 의사결정나무로 하고 model_sp1은 depth를 3으로 설정\n",
    "3. 두 모델을 학습(fit)하고 X_train, X_test 데이터를 예측한다\n",
    "4. 예측한 데이터를 y_train, y_test 데이터와의 정확도를 계산한다"
   ]
  },
  {
   "cell_type": "code",
   "execution_count": 16,
   "metadata": {},
   "outputs": [],
   "source": [
    "X_train, X_test, y_train, y_test = train_test_split(features, label, test_size=0.2, random_state=111)"
   ]
  },
  {
   "cell_type": "code",
   "execution_count": 17,
   "metadata": {},
   "outputs": [],
   "source": [
    "model = DecisionTreeClassifier()\n",
    "model_sp1 = DecisionTreeClassifier(random_state=111, max_depth=3)\n",
    "\n",
    "#모델 학습\n",
    "model.fit(X_train, y_train) \n",
    "model_sp1.fit(X_train, y_train) \n",
    "\n",
    "# X train 데이터로 예측 --> test 데이터로 예측\n",
    "pred_train = model.predict(X_train) #train 예측\n",
    "pred_test = model.predict(X_test) # test예측\n",
    "\n",
    "pred_train_sp = model_sp1.predict(X_train) #train 예측\n",
    "pred_test_sp = model_sp1.predict(X_test) # test예측"
   ]
  },
  {
   "cell_type": "code",
   "execution_count": 18,
   "metadata": {},
   "outputs": [
    {
     "name": "stdout",
     "output_type": "stream",
     "text": [
      "1.0\n",
      "0.9\n"
     ]
    }
   ],
   "source": [
    "# 일반적인 Decision Tree 모델의 예측 정확도\n",
    "\n",
    "print(accuracy_score(y_train, pred_train))\n",
    "print(accuracy_score(y_test, pred_test))"
   ]
  },
  {
   "cell_type": "code",
   "execution_count": 19,
   "metadata": {},
   "outputs": [
    {
     "name": "stdout",
     "output_type": "stream",
     "text": [
      "0.9916666666666667\n",
      "0.9\n"
     ]
    }
   ],
   "source": [
    "# depth를 3으로 설정한 Decision Tree 모델의 예측 정확도\n",
    "\n",
    "print(accuracy_score(y_train, pred_train_sp))\n",
    "print(accuracy_score(y_test, pred_test_sp))"
   ]
  },
  {
   "cell_type": "markdown",
   "metadata": {},
   "source": [
    "1. 일반적으로 Decision Tree 모델을 적용한 경우, 1.0의 예측 정확도가 나왔다 --> 과적합\n",
    "2. depth를 3으로 설정한 Decision Tree 모델의 경우, 약간의 정확도 감소는 있지만 여전히 과적합이 야기되었다."
   ]
  },
  {
   "cell_type": "markdown",
   "metadata": {},
   "source": [
    "## 교차검증(KFold)를 사용하면 과적합이 예방되는가?\n"
   ]
  },
  {
   "cell_type": "code",
   "execution_count": 20,
   "metadata": {},
   "outputs": [],
   "source": [
    "from sklearn.model_selection import KFold\n",
    "\n",
    "kfold = KFold(n_splits=5) # n_splits: 데이터셋을 분할할 세트의 개수 --> 1세트만 test 데이터, 나머지는 train 데이터가 된다\n",
    "# n_splits는 default로 5이고 이는 train_test_split함수의 'test_size=0.2'와 동일한 역할을 수행한다\n",
    "# 그러나 5개로 나누어진 부분에서 1개가 test 데이터로 사용되는 것을 총 5번 수행할 수 있어 동일 데이터를 가지고 총 5번의 모델 학습 및 평가가 가능한 것이다\n",
    "\n",
    "cv_accuracy_train=[]    # train 데이터의 예측 정확도를 저장할 빈 리스트\n",
    "cv_accuracy_test=[]     # test 데이터의 예측 정확도를 저장할 빈 리스트\n",
    "kf_model = DecisionTreeClassifier(random_state=111, max_depth=3)    "
   ]
  },
  {
   "cell_type": "code",
   "execution_count": 21,
   "metadata": {},
   "outputs": [
    {
     "data": {
      "text/plain": [
       "KFold(n_splits=5, random_state=None, shuffle=False)"
      ]
     },
     "execution_count": 21,
     "metadata": {},
     "output_type": "execute_result"
    }
   ],
   "source": [
    "kfold"
   ]
  },
  {
   "cell_type": "code",
   "execution_count": 38,
   "metadata": {},
   "outputs": [
    {
     "name": "stdout",
     "output_type": "stream",
     "text": [
      "\n",
      "1 번 train 교차 검증 정확도 :0.975 ,test 교차 검증 정확도 :1.0 \n",
      "\n",
      "2 번 train 교차 검증 정확도 :0.975 ,test 교차 검증 정확도 :0.9667 \n",
      "\n",
      "3 번 train 교차 검증 정확도 :0.9917 ,test 교차 검증 정확도 :0.8333 \n",
      "\n",
      "4 번 train 교차 검증 정확도 :0.9833 ,test 교차 검증 정확도 :0.9333 \n",
      "\n",
      "5 번 train 교차 검증 정확도 :0.975 ,test 교차 검증 정확도 :0.7 \n",
      "\n",
      "train 평균 정확도 0.98 test 평균 정확도 0.8867\n"
     ]
    }
   ],
   "source": [
    "n_iter = 0 # for문의 반복 횟수를 나타내며 초기값으로 0을 설정\n",
    "\n",
    "for train_idx, test_idx in kfold.split(features):\n",
    "    X_train, X_test = features[train_idx], features[test_idx]\n",
    "    y_train, y_test = label[train_idx], label[test_idx]\n",
    "    \n",
    "    # 모델 학습\n",
    "    kf_model.fit(X_train, y_train)\n",
    "    \n",
    "    # 예측\n",
    "    kf_pred_train = kf_model.predict(X_train)\n",
    "    df_pred_test = kf_model.predict(X_test)\n",
    "    \n",
    "    # 정확도를 계산하고 소수점 4자리로 반올림 \n",
    "    accuracy_train = np.round(accuracy_score(y_train, kf_pred_train),4) \n",
    "    accuracy_test = np.round(accuracy_score(y_test, df_pred_test),4)\n",
    "    # 해당하는 정확도 값을 해당 리스트에 append\n",
    "    cv_accuracy_train.append(accuracy_train)\n",
    "    cv_accuracy_test.append(accuracy_test)\n",
    "    \n",
    "    n_iter +=1 # 다음 시행을 위한 업데이트\n",
    "    print('\\n{} 번 train 교차 검증 정확도 :{} ,test 교차 검증 정확도 :{} '.format(n_iter,accuracy_train, accuracy_test))\n",
    "\n",
    "print()\n",
    "print('train 평균 정확도',round(np.mean(cv_accuracy_train), 4), 'test 평균 정확도',round(np.mean(cv_accuracy_test), 4))"
   ]
  },
  {
   "cell_type": "markdown",
   "metadata": {},
   "source": [
    "<결과>   \n",
    "Kfold 적용 전에 (0.9916666666666667, 0.9)였던 정확도가 (0.98, 0.8867)로 감소한 것을 확인할 수 있다.   \n",
    "그러나 여전히 과적합이 제대로 해결되지 않았다\n",
    "\n",
    "--> kFold는 데이터 자체가 불균형할 때 모든 fold에서 모든 데이터가 충분히 테스트되지 않을 위험이 존재한다   \n",
    "--> 그리하여 skFold(stratified k-fold)를 적용하여 데이터가 균형있게 분할될 수 있도록 하여 모델을 학습하고 평가해볼 수 있다"
   ]
  },
  {
   "cell_type": "markdown",
   "metadata": {},
   "source": [
    "## SK-Fold를 사용하면 과적합이 예방되는가?"
   ]
  },
  {
   "cell_type": "code",
   "execution_count": 6,
   "metadata": {},
   "outputs": [],
   "source": [
    "from sklearn.model_selection import StratifiedKFold\n",
    "\n",
    "skf_iris = StratifiedKFold(n_splits=5)      # skFold\n",
    "\n",
    "skf_cv_accuracy_train = []                  # skfold를 통해 train 데이터로 예측한 정확도를 저장할 빈 리스트\n",
    "skf_cv_accuracy_test = []                   # skfold를 통해 test 데이터로 예측한 정확도를 저장할 빈 리스트\n",
    "\n",
    "skf_model = DecisionTreeClassifier(random_state=111, max_depth=3)   # depth가 3인 의사결정 나무 모델 설정"
   ]
  },
  {
   "cell_type": "code",
   "execution_count": 45,
   "metadata": {},
   "outputs": [
    {
     "name": "stdout",
     "output_type": "stream",
     "text": [
      "\n",
      "1 번 train 교차 검증 정확도 :0.9583 ,test 교차 검증 정확도 :0.9667 \n",
      "\n",
      "2 번 train 교차 검증 정확도 :0.975 ,test 교차 검증 정확도 :0.9667 \n",
      "\n",
      "3 번 train 교차 검증 정확도 :0.9917 ,test 교차 검증 정확도 :0.9333 \n",
      "\n",
      "4 번 train 교차 검증 정확도 :0.975 ,test 교차 검증 정확도 :0.9333 \n",
      "\n",
      "5 번 train 교차 검증 정확도 :0.9667 ,test 교차 검증 정확도 :1.0 \n",
      "\n",
      "train 평균 정확도 0.9733 test 평균 정확도 0.96\n"
     ]
    }
   ],
   "source": [
    "n_iter=0\n",
    "\n",
    "for train_idx, test_idx in skf_iris.split(features, label):     # skfold의 경우 split에 feature와 label이 둘 다 들어가야 한다\n",
    "    X_train, X_test = features[train_idx], features[test_idx]\n",
    "    y_train, y_test = label[train_idx], label[test_idx]\n",
    "    \n",
    "    # 학습\n",
    "    skf_model.fit(X_train, y_train)\n",
    "    # 예측\n",
    "    skf_pred_train = skf_model.predict(X_train)\n",
    "    skf_pred_test = skf_model.predict(X_test)\n",
    "    \n",
    "    # 정확도를 계산하고 소수점 4자리로 반올림 \n",
    "    accuracy_train = np.round(accuracy_score(y_train, skf_pred_train),4)\n",
    "    accuracy_test = np.round(accuracy_score(y_test, skf_pred_test),4)\n",
    "    # 해당하는 정확도 값을 해당 리스트에 append\n",
    "    skf_cv_accuracy_train.append(accuracy_train)\n",
    "    skf_cv_accuracy_test.append(accuracy_test)\n",
    "    \n",
    "    n_iter +=1 # 다음 시행을 위한 업데이트\n",
    "    print('\\n{} 번 train 교차 검증 정확도 :{} ,test 교차 검증 정확도 :{} '.format(n_iter,accuracy_train, accuracy_test))\n",
    "    \n",
    "print()\n",
    "print('train 평균 정확도',round(np.mean(skf_cv_accuracy_train), 4), 'test 평균 정확도',round(np.mean(skf_cv_accuracy_test), 4))"
   ]
  },
  {
   "cell_type": "markdown",
   "metadata": {},
   "source": [
    "<결과>   \n",
    "Kfold 적용 전 : (0.9916666666666667, 0.9)   \n",
    "Kfold 적용 후 : (0.98, 0.8867)\n",
    "SKfold 적용 후 ; (0.9733, 0.96)\n",
    "\n",
    "여전히 과적합이 제대로 해결되지 않은 것을 확인할 수 있다 "
   ]
  },
  {
   "cell_type": "markdown",
   "metadata": {},
   "source": [
    "## K-fold와 SK-fold의 차이\n",
    "\n",
    "K-fold : 랜덤하게 데이터를 추출하기 때문에 데이터의 클래스 비율이 제대로 반영되지 않을 수 있다   \n",
    "SK-Fold : 데이터가 가진 클래스의 비율을 고려하여 분할될 수 있도록 조정해주기 때문에 분할한 이후에도 클래스의 비율이 반영된"
   ]
  },
  {
   "cell_type": "code",
   "execution_count": 3,
   "metadata": {},
   "outputs": [
    {
     "data": {
      "text/html": [
       "<div>\n",
       "<style scoped>\n",
       "    .dataframe tbody tr th:only-of-type {\n",
       "        vertical-align: middle;\n",
       "    }\n",
       "\n",
       "    .dataframe tbody tr th {\n",
       "        vertical-align: top;\n",
       "    }\n",
       "\n",
       "    .dataframe thead th {\n",
       "        text-align: right;\n",
       "    }\n",
       "</style>\n",
       "<table border=\"1\" class=\"dataframe\">\n",
       "  <thead>\n",
       "    <tr style=\"text-align: right;\">\n",
       "      <th></th>\n",
       "      <th>sepal length (cm)</th>\n",
       "      <th>sepal width (cm)</th>\n",
       "      <th>petal length (cm)</th>\n",
       "      <th>petal width (cm)</th>\n",
       "      <th>label</th>\n",
       "    </tr>\n",
       "  </thead>\n",
       "  <tbody>\n",
       "    <tr>\n",
       "      <th>0</th>\n",
       "      <td>5.1</td>\n",
       "      <td>3.5</td>\n",
       "      <td>1.4</td>\n",
       "      <td>0.2</td>\n",
       "      <td>0</td>\n",
       "    </tr>\n",
       "    <tr>\n",
       "      <th>1</th>\n",
       "      <td>4.9</td>\n",
       "      <td>3.0</td>\n",
       "      <td>1.4</td>\n",
       "      <td>0.2</td>\n",
       "      <td>0</td>\n",
       "    </tr>\n",
       "    <tr>\n",
       "      <th>2</th>\n",
       "      <td>4.7</td>\n",
       "      <td>3.2</td>\n",
       "      <td>1.3</td>\n",
       "      <td>0.2</td>\n",
       "      <td>0</td>\n",
       "    </tr>\n",
       "    <tr>\n",
       "      <th>3</th>\n",
       "      <td>4.6</td>\n",
       "      <td>3.1</td>\n",
       "      <td>1.5</td>\n",
       "      <td>0.2</td>\n",
       "      <td>0</td>\n",
       "    </tr>\n",
       "    <tr>\n",
       "      <th>4</th>\n",
       "      <td>5.0</td>\n",
       "      <td>3.6</td>\n",
       "      <td>1.4</td>\n",
       "      <td>0.2</td>\n",
       "      <td>0</td>\n",
       "    </tr>\n",
       "    <tr>\n",
       "      <th>...</th>\n",
       "      <td>...</td>\n",
       "      <td>...</td>\n",
       "      <td>...</td>\n",
       "      <td>...</td>\n",
       "      <td>...</td>\n",
       "    </tr>\n",
       "    <tr>\n",
       "      <th>145</th>\n",
       "      <td>6.7</td>\n",
       "      <td>3.0</td>\n",
       "      <td>5.2</td>\n",
       "      <td>2.3</td>\n",
       "      <td>2</td>\n",
       "    </tr>\n",
       "    <tr>\n",
       "      <th>146</th>\n",
       "      <td>6.3</td>\n",
       "      <td>2.5</td>\n",
       "      <td>5.0</td>\n",
       "      <td>1.9</td>\n",
       "      <td>2</td>\n",
       "    </tr>\n",
       "    <tr>\n",
       "      <th>147</th>\n",
       "      <td>6.5</td>\n",
       "      <td>3.0</td>\n",
       "      <td>5.2</td>\n",
       "      <td>2.0</td>\n",
       "      <td>2</td>\n",
       "    </tr>\n",
       "    <tr>\n",
       "      <th>148</th>\n",
       "      <td>6.2</td>\n",
       "      <td>3.4</td>\n",
       "      <td>5.4</td>\n",
       "      <td>2.3</td>\n",
       "      <td>2</td>\n",
       "    </tr>\n",
       "    <tr>\n",
       "      <th>149</th>\n",
       "      <td>5.9</td>\n",
       "      <td>3.0</td>\n",
       "      <td>5.1</td>\n",
       "      <td>1.8</td>\n",
       "      <td>2</td>\n",
       "    </tr>\n",
       "  </tbody>\n",
       "</table>\n",
       "<p>150 rows × 5 columns</p>\n",
       "</div>"
      ],
      "text/plain": [
       "     sepal length (cm)  sepal width (cm)  petal length (cm)  petal width (cm)  \\\n",
       "0                  5.1               3.5                1.4               0.2   \n",
       "1                  4.9               3.0                1.4               0.2   \n",
       "2                  4.7               3.2                1.3               0.2   \n",
       "3                  4.6               3.1                1.5               0.2   \n",
       "4                  5.0               3.6                1.4               0.2   \n",
       "..                 ...               ...                ...               ...   \n",
       "145                6.7               3.0                5.2               2.3   \n",
       "146                6.3               2.5                5.0               1.9   \n",
       "147                6.5               3.0                5.2               2.0   \n",
       "148                6.2               3.4                5.4               2.3   \n",
       "149                5.9               3.0                5.1               1.8   \n",
       "\n",
       "     label  \n",
       "0        0  \n",
       "1        0  \n",
       "2        0  \n",
       "3        0  \n",
       "4        0  \n",
       "..     ...  \n",
       "145      2  \n",
       "146      2  \n",
       "147      2  \n",
       "148      2  \n",
       "149      2  \n",
       "\n",
       "[150 rows x 5 columns]"
      ]
     },
     "execution_count": 3,
     "metadata": {},
     "output_type": "execute_result"
    }
   ],
   "source": [
    "import pandas as pd\n",
    "iris=load_iris()\n",
    "\n",
    "iris_df = pd.DataFrame(data=iris.data, columns=iris.feature_names)\n",
    "iris_df['label'] = iris.target\n",
    "iris_df"
   ]
  },
  {
   "cell_type": "code",
   "execution_count": 4,
   "metadata": {},
   "outputs": [
    {
     "name": "stdout",
     "output_type": "stream",
     "text": [
      "학습 정답 레이블 label\n",
      "1    50\n",
      "2    50\n",
      "0    20\n",
      "Name: count, dtype: int64 \n",
      "\n",
      "학습 정답 레이블 label\n",
      "0    30\n",
      "Name: count, dtype: int64 \n",
      "\n",
      "\n",
      "학습 정답 레이블 label\n",
      "2    50\n",
      "1    40\n",
      "0    30\n",
      "Name: count, dtype: int64 \n",
      "\n",
      "학습 정답 레이블 label\n",
      "0    20\n",
      "1    10\n",
      "Name: count, dtype: int64 \n",
      "\n",
      "\n",
      "학습 정답 레이블 label\n",
      "0    50\n",
      "2    50\n",
      "1    20\n",
      "Name: count, dtype: int64 \n",
      "\n",
      "학습 정답 레이블 label\n",
      "1    30\n",
      "Name: count, dtype: int64 \n",
      "\n",
      "\n",
      "학습 정답 레이블 label\n",
      "0    50\n",
      "1    40\n",
      "2    30\n",
      "Name: count, dtype: int64 \n",
      "\n",
      "학습 정답 레이블 label\n",
      "2    20\n",
      "1    10\n",
      "Name: count, dtype: int64 \n",
      "\n",
      "\n",
      "학습 정답 레이블 label\n",
      "0    50\n",
      "1    50\n",
      "2    20\n",
      "Name: count, dtype: int64 \n",
      "\n",
      "학습 정답 레이블 label\n",
      "2    30\n",
      "Name: count, dtype: int64 \n",
      "\n",
      "\n"
     ]
    }
   ],
   "source": [
    "kfold= KFold(n_splits=5) \n",
    "\n",
    "for train_idx, test_idx in kfold.split(iris_df):\n",
    "    \n",
    "    label_train = iris_df['label'].iloc[train_idx]\n",
    "    label_test = iris_df['label'].iloc[test_idx]\n",
    "    \n",
    "    print('학습 정답 레이블', label_train.value_counts(), '\\n')\n",
    "    print('학습 정답 레이블', label_test.value_counts(), '\\n\\n')"
   ]
  },
  {
   "cell_type": "code",
   "execution_count": 8,
   "metadata": {},
   "outputs": [
    {
     "name": "stdout",
     "output_type": "stream",
     "text": [
      "학습 정답 레이블 label\n",
      "0    40\n",
      "1    40\n",
      "2    40\n",
      "Name: count, dtype: int64 \n",
      "\n",
      "학습 정답 레이블 label\n",
      "0    10\n",
      "1    10\n",
      "2    10\n",
      "Name: count, dtype: int64 \n",
      "\n",
      "\n",
      "학습 정답 레이블 label\n",
      "0    40\n",
      "1    40\n",
      "2    40\n",
      "Name: count, dtype: int64 \n",
      "\n",
      "학습 정답 레이블 label\n",
      "0    10\n",
      "1    10\n",
      "2    10\n",
      "Name: count, dtype: int64 \n",
      "\n",
      "\n",
      "학습 정답 레이블 label\n",
      "0    40\n",
      "1    40\n",
      "2    40\n",
      "Name: count, dtype: int64 \n",
      "\n",
      "학습 정답 레이블 label\n",
      "0    10\n",
      "1    10\n",
      "2    10\n",
      "Name: count, dtype: int64 \n",
      "\n",
      "\n",
      "학습 정답 레이블 label\n",
      "0    40\n",
      "1    40\n",
      "2    40\n",
      "Name: count, dtype: int64 \n",
      "\n",
      "학습 정답 레이블 label\n",
      "0    10\n",
      "1    10\n",
      "2    10\n",
      "Name: count, dtype: int64 \n",
      "\n",
      "\n",
      "학습 정답 레이블 label\n",
      "0    40\n",
      "1    40\n",
      "2    40\n",
      "Name: count, dtype: int64 \n",
      "\n",
      "학습 정답 레이블 label\n",
      "0    10\n",
      "1    10\n",
      "2    10\n",
      "Name: count, dtype: int64 \n",
      "\n",
      "\n"
     ]
    }
   ],
   "source": [
    "skf_iris = StratifiedKFold(n_splits=5)\n",
    "\n",
    "for train_idx, test_idx in skf_iris.split(iris_df, iris_df['label']): # skfold의 경우 label값도 주어야 한다\n",
    "    \n",
    "    label_train = iris_df['label'].iloc[train_idx]\n",
    "    label_test = iris_df['label'].iloc[test_idx]\n",
    "    \n",
    "    print('학습 정답 레이블', label_train.value_counts(), '\\n')\n",
    "    print('학습 정답 레이블', label_test.value_counts(), '\\n\\n')"
   ]
  },
  {
   "cell_type": "code",
   "execution_count": 10,
   "metadata": {},
   "outputs": [
    {
     "data": {
      "text/plain": [
       "label\n",
       "0    50\n",
       "1    50\n",
       "2    50\n",
       "Name: count, dtype: int64"
      ]
     },
     "execution_count": 10,
     "metadata": {},
     "output_type": "execute_result"
    }
   ],
   "source": [
    "iris_df['label'].value_counts()"
   ]
  },
  {
   "cell_type": "markdown",
   "metadata": {},
   "source": [
    "iris 데이터의 label에는 0, 1, 2의 세 가지 값이 있으며 각각 50개씩 데이터가 있는 것을 확인할 수 있다   \n",
    "   \n",
    "kfold로 train과 test를 분할하여 학습을 시킬 때, 레이블의 분포를 확인해보면 균등하지 않은 것을 알 수 있다   \n",
    "ex) 50(1), 50(2), 20(0) / 30(0) 으로 train과 test의 레이블이 분할되었고 test의 경우 0의 레이블만 있는 것을 확인할 수 있다   \n",
    "   \n",
    "그러나 skfold로 train과 test를 분할하여 학습을 시킬 때, 레이블의 분포가 균등하게 적용되어 있는 것을 확인할 수 있다   \n",
    "ex) 40(1), 40(2), 40(0) / 10(1), 10(2), 10(0) 으로 train과 test의 레이블이 분할되었디    \n",
    "    --> 기존의 iris의 레이블이 50, 50, 50으로 균등하기 때문에 5개로 분할된 만큼 40, 10로 균등하게 분할되어 분포되어 있는 것을 확인할 수 있다. "
   ]
  }
 ],
 "metadata": {
  "kernelspec": {
   "display_name": "Python 3",
   "language": "python",
   "name": "python3"
  },
  "language_info": {
   "codemirror_mode": {
    "name": "ipython",
    "version": 3
   },
   "file_extension": ".py",
   "mimetype": "text/x-python",
   "name": "python",
   "nbconvert_exporter": "python",
   "pygments_lexer": "ipython3",
   "version": "3.10.11"
  },
  "orig_nbformat": 4
 },
 "nbformat": 4,
 "nbformat_minor": 2
}
